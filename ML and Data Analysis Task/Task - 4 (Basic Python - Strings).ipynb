{
 "cells": [
  {
   "cell_type": "markdown",
   "id": "da6d38e0",
   "metadata": {},
   "source": [
    "[Reading Material](https://diveintopython3.problemsolving.io/strings.html)"
   ]
  },
  {
   "cell_type": "markdown",
   "id": "fb747713",
   "metadata": {},
   "source": [
    "## `sWAP cASE`\n",
    "[Question Link](https://www.hackerrank.com/challenges/swap-case/problem)"
   ]
  },
  {
   "cell_type": "code",
   "execution_count": 2,
   "id": "a87d3c4b",
   "metadata": {},
   "outputs": [
    {
     "name": "stdout",
     "output_type": "stream",
     "text": [
      "Manuj\n",
      "mANUJ\n"
     ]
    }
   ],
   "source": [
    "def swap_case(s):\n",
    "    return s.swapcase()\n",
    "\n",
    "if __name__ == '__main__':\n",
    "    s = input()\n",
    "    result = swap_case(s)\n",
    "    print(result)"
   ]
  },
  {
   "cell_type": "markdown",
   "id": "4f0877eb",
   "metadata": {},
   "source": [
    "## `String Split and Join`\n",
    "[Question Link](https://www.hackerrank.com/challenges/python-string-split-and-join/problem)"
   ]
  },
  {
   "cell_type": "code",
   "execution_count": 5,
   "id": "b58e9ac9",
   "metadata": {},
   "outputs": [
    {
     "name": "stdout",
     "output_type": "stream",
     "text": [
      "I am a good boy\n",
      "I-am-a-good-boy\n"
     ]
    }
   ],
   "source": [
    "def split_and_join(line):\n",
    "    return ('-'.join(line.split(' ')))\n",
    "\n",
    "if __name__ == '__main__':\n",
    "    line = input()\n",
    "    result = split_and_join(line)\n",
    "    print(result)"
   ]
  },
  {
   "cell_type": "markdown",
   "id": "32b2edf0",
   "metadata": {},
   "source": [
    "## `What's Your Name?`\n",
    "[Question Link](https://www.hackerrank.com/challenges/whats-your-name/problem)"
   ]
  },
  {
   "cell_type": "code",
   "execution_count": 6,
   "id": "bb9742f2",
   "metadata": {},
   "outputs": [
    {
     "name": "stdout",
     "output_type": "stream",
     "text": [
      "Manuj\n",
      "Joshi\n",
      "Hello Manuj Joshi! You just delved into python.\n"
     ]
    }
   ],
   "source": [
    "def print_full_name(first, last):\n",
    "    print (f'Hello {first} {last}! You just delved into python.')\n",
    "\n",
    "if __name__ == '__main__':\n",
    "    first_name = input()\n",
    "    last_name = input()\n",
    "    print_full_name(first_name, last_name)"
   ]
  },
  {
   "cell_type": "markdown",
   "id": "451c0922",
   "metadata": {},
   "source": [
    "## `Mutations`\n",
    "[Question Link](https://www.hackerrank.com/challenges/python-mutations/problem)"
   ]
  },
  {
   "cell_type": "code",
   "execution_count": 20,
   "id": "7a3e610f",
   "metadata": {},
   "outputs": [
    {
     "name": "stdout",
     "output_type": "stream",
     "text": [
      "abrackdabra\n"
     ]
    }
   ],
   "source": [
    "string = \"abracadabra\"\n",
    "l = list(string)\n",
    "l[5] = 'k'\n",
    "string = ''.join(l)\n",
    "print(string)"
   ]
  },
  {
   "cell_type": "code",
   "execution_count": 27,
   "id": "732df8d1",
   "metadata": {},
   "outputs": [
    {
     "name": "stdout",
     "output_type": "stream",
     "text": [
      "4 b\n",
      "jhegfeuyfef\n",
      "jhegbeuyfef\n"
     ]
    }
   ],
   "source": [
    "def mutate_string(string, position, character):\n",
    "    s = list(string)\n",
    "    s[position] = character\n",
    "    s = ''.join(s)    \n",
    "    return s\n",
    "\n",
    "\n",
    "if __name__ == '__main__':\n",
    "    s = input()\n",
    "    i, c = input().split()\n",
    "    s_new = mutate_string(s, int(i), c)\n",
    "    print(s_new)"
   ]
  },
  {
   "cell_type": "markdown",
   "id": "1feed587",
   "metadata": {},
   "source": [
    "## `Find a string`\n",
    "- [Reading Material](https://www.thelearningpoint.net/computer-science/learning-python-programming-and-data-structures/learning-python-programming-and-data-structures--tutorial-12--string-manipulation)\n",
    "- [Question Link](https://www.hackerrank.com/challenges/find-a-string/problem)"
   ]
  },
  {
   "cell_type": "code",
   "execution_count": 35,
   "id": "01abe0f3",
   "metadata": {},
   "outputs": [],
   "source": [
    "def count_substring(st,sub):\n",
    "    count=0\n",
    "    sub_len=len(sub)\n",
    "    str_len=len(st)\n",
    "    for i in range(str_len):\n",
    "        if st[i:i+sub_len]==sub[0:]:\n",
    "            count+=1\n",
    "    return (count)"
   ]
  },
  {
   "cell_type": "code",
   "execution_count": 36,
   "id": "d5890a07",
   "metadata": {},
   "outputs": [
    {
     "name": "stdout",
     "output_type": "stream",
     "text": [
      "ABCDCDC\n",
      "CDC\n"
     ]
    },
    {
     "data": {
      "text/plain": [
       "2"
      ]
     },
     "execution_count": 36,
     "metadata": {},
     "output_type": "execute_result"
    }
   ],
   "source": [
    "count_substring(input(),input())"
   ]
  },
  {
   "cell_type": "markdown",
   "id": "3ca1e662",
   "metadata": {},
   "source": [
    "## `String Validators`\n",
    "[Queston Link](https://www.hackerrank.com/challenges/string-validators/problem)"
   ]
  },
  {
   "cell_type": "code",
   "execution_count": null,
   "id": "15ba611e",
   "metadata": {},
   "outputs": [],
   "source": [
    "s=input()\n",
    "s.is"
   ]
  },
  {
   "cell_type": "code",
   "execution_count": 38,
   "id": "d3bdc1e1",
   "metadata": {},
   "outputs": [
    {
     "name": "stdout",
     "output_type": "stream",
     "text": [
      "aA2\n",
      "True\n",
      "True\n",
      "True\n",
      "True\n",
      "True\n"
     ]
    }
   ],
   "source": [
    "s=input()\n",
    "print(any([char.isalnum() for char in s]))\n",
    "print(any([char.isalpha() for char in s]))\n",
    "print(any([char.isdigit() for char in s]))\n",
    "print(any([char.islower() for char in s]))\n",
    "print(any([char.isupper() for char in s]))"
   ]
  },
  {
   "cell_type": "markdown",
   "id": "7b0ca2a9",
   "metadata": {},
   "source": [
    "## `Text Alignment`\n",
    "[Question Link](https://www.hackerrank.com/challenges/text-alignment/problem)"
   ]
  },
  {
   "cell_type": "code",
   "execution_count": 41,
   "id": "1d193fe6",
   "metadata": {},
   "outputs": [
    {
     "name": "stdout",
     "output_type": "stream",
     "text": [
      "10\n",
      "         H         \n",
      "        HHH        \n",
      "       HHHHH       \n",
      "      HHHHHHH      \n",
      "     HHHHHHHHH     \n",
      "    HHHHHHHHHHH    \n",
      "   HHHHHHHHHHHHH   \n",
      "  HHHHHHHHHHHHHHH  \n",
      " HHHHHHHHHHHHHHHHH \n",
      "HHHHHHHHHHHHHHHHHHH\n",
      "     HHHHHHHHHH                              HHHHHHHHHH                         \n",
      "     HHHHHHHHHH                              HHHHHHHHHH                         \n",
      "     HHHHHHHHHH                              HHHHHHHHHH                         \n",
      "     HHHHHHHHHH                              HHHHHHHHHH                         \n",
      "     HHHHHHHHHH                              HHHHHHHHHH                         \n",
      "     HHHHHHHHHH                              HHHHHHHHHH                         \n",
      "     HHHHHHHHHH                              HHHHHHHHHH                         \n",
      "     HHHHHHHHHH                              HHHHHHHHHH                         \n",
      "     HHHHHHHHHH                              HHHHHHHHHH                         \n",
      "     HHHHHHHHHH                              HHHHHHHHHH                         \n",
      "     HHHHHHHHHH                              HHHHHHHHHH                         \n",
      "     HHHHHHHHHHHHHHHHHHHHHHHHHHHHHHHHHHHHHHHHHHHHHHHHHH     \n",
      "     HHHHHHHHHHHHHHHHHHHHHHHHHHHHHHHHHHHHHHHHHHHHHHHHHH     \n",
      "     HHHHHHHHHHHHHHHHHHHHHHHHHHHHHHHHHHHHHHHHHHHHHHHHHH     \n",
      "     HHHHHHHHHHHHHHHHHHHHHHHHHHHHHHHHHHHHHHHHHHHHHHHHHH     \n",
      "     HHHHHHHHHHHHHHHHHHHHHHHHHHHHHHHHHHHHHHHHHHHHHHHHHH     \n",
      "     HHHHHHHHHH                              HHHHHHHHHH                         \n",
      "     HHHHHHHHHH                              HHHHHHHHHH                         \n",
      "     HHHHHHHHHH                              HHHHHHHHHH                         \n",
      "     HHHHHHHHHH                              HHHHHHHHHH                         \n",
      "     HHHHHHHHHH                              HHHHHHHHHH                         \n",
      "     HHHHHHHHHH                              HHHHHHHHHH                         \n",
      "     HHHHHHHHHH                              HHHHHHHHHH                         \n",
      "     HHHHHHHHHH                              HHHHHHHHHH                         \n",
      "     HHHHHHHHHH                              HHHHHHHHHH                         \n",
      "     HHHHHHHHHH                              HHHHHHHHHH                         \n",
      "     HHHHHHHHHH                              HHHHHHHHHH                         \n",
      "                                        HHHHHHHHHHHHHHHHHHH \n",
      "                                         HHHHHHHHHHHHHHHHH  \n",
      "                                          HHHHHHHHHHHHHHH   \n",
      "                                           HHHHHHHHHHHHH    \n",
      "                                            HHHHHHHHHHH     \n",
      "                                             HHHHHHHHH      \n",
      "                                              HHHHHHH       \n",
      "                                               HHHHH        \n",
      "                                                HHH         \n",
      "                                                 H          \n"
     ]
    }
   ],
   "source": [
    "#Replace all ______ with rjust, ljust or center. \n",
    "thickness = int(input()) #This must be an odd number\n",
    "c = 'H'\n",
    "\n",
    "#Top Cone\n",
    "for i in range(thickness):\n",
    "    print((c*i).rjust(thickness-1)+c+(c*i).ljust(thickness-1))\n",
    "\n",
    "#Top Pillars\n",
    "for i in range(thickness+1):\n",
    "    print((c*thickness).center(thickness*2)+(c*thickness).center(thickness*6))\n",
    "\n",
    "#Middle Belt\n",
    "for i in range((thickness+1)//2):\n",
    "    print((c*thickness*5).center(thickness*6))    \n",
    "\n",
    "#Bottom Pillars\n",
    "for i in range(thickness+1):\n",
    "    print((c*thickness).center(thickness*2)+(c*thickness).center(thickness*6))    \n",
    "\n",
    "#Bottom Cone\n",
    "for i in range(thickness):\n",
    "    print(((c*(thickness-i-1)).rjust(thickness)+c+(c*(thickness-i-1)).ljust(thickness)).rjust(thickness*6))"
   ]
  },
  {
   "cell_type": "markdown",
   "id": "b71b382d",
   "metadata": {},
   "source": [
    "## `Text Wrap`\n",
    "[Question Link](https://www.hackerrank.com/challenges/text-wrap/problem)"
   ]
  },
  {
   "cell_type": "code",
   "execution_count": 42,
   "id": "4687b585",
   "metadata": {},
   "outputs": [],
   "source": [
    "def wrap(string,width):\n",
    "        return ( '\\n'.join(string[i:i+width] for i in range(0,len(string),width)))"
   ]
  },
  {
   "cell_type": "code",
   "execution_count": 45,
   "id": "84ba17f2",
   "metadata": {},
   "outputs": [
    {
     "name": "stdout",
     "output_type": "stream",
     "text": [
      "sgyuhdfewuferytfervfcfrrrrr\n",
      "4\n",
      "sgyu\n",
      "hdfe\n",
      "wufe\n",
      "rytf\n",
      "ervf\n",
      "cfrr\n",
      "rrr\n"
     ]
    }
   ],
   "source": [
    "print(wrap(input(),int(input())))"
   ]
  },
  {
   "cell_type": "markdown",
   "id": "0d5273f4",
   "metadata": {},
   "source": [
    "## `Designer Door Mat`\n",
    "[Question Link](https://www.hackerrank.com/challenges/designer-door-mat/problem)"
   ]
  },
  {
   "cell_type": "code",
   "execution_count": 68,
   "id": "77a18b86",
   "metadata": {},
   "outputs": [
    {
     "name": "stdout",
     "output_type": "stream",
     "text": [
      "9 27\n",
      "------------.|.------------\n",
      "---------.|..|..|.---------\n",
      "------.|..|..|..|..|.------\n",
      "---.|..|..|..|..|..|..|.---\n",
      "----------WELCOME----------\n",
      "---.|..|..|..|..|..|..|.---\n",
      "------.|..|..|..|..|.------\n",
      "---------.|..|..|.---------\n",
      "------------.|.------------\n"
     ]
    }
   ],
   "source": [
    "n,m=input().split()\n",
    "n=int(n)\n",
    "m=int(m)\n",
    "for i in range(1,n,2):\n",
    "    print(('.|.'*i).center(m,'-'))\n",
    "print('WELCOME'.center(m,'-'))\n",
    "for i in range(n-2,0,-2):\n",
    "     print(('.|.'*i).center(m,'-'))"
   ]
  },
  {
   "cell_type": "markdown",
   "id": "0563dd43",
   "metadata": {},
   "source": [
    "## `Merge the tools`\n",
    "[Question Link](https://www.hackerrank.com/challenges/merge-the-tools/problem)"
   ]
  },
  {
   "cell_type": "code",
   "execution_count": 70,
   "id": "05ab0b8d",
   "metadata": {},
   "outputs": [],
   "source": [
    "def merge_the_tools(string, k):\n",
    "# your code goes here\n",
    "    while string:\n",
    "        s = string[0:k]\n",
    "        seen = ''\n",
    "        for c in s:\n",
    "            if c not in seen:\n",
    "                seen += c\n",
    "        print(seen)\n",
    "        string = string[k:]"
   ]
  },
  {
   "cell_type": "code",
   "execution_count": 72,
   "id": "fd3311ed",
   "metadata": {},
   "outputs": [
    {
     "name": "stdout",
     "output_type": "stream",
     "text": [
      "iuvgfdiuyvgtugbtr\n",
      "5\n",
      "iuvgf\n",
      "diuyv\n",
      "gtub\n",
      "tr\n"
     ]
    }
   ],
   "source": [
    "merge_the_tools(input(),int(input()))"
   ]
  },
  {
   "cell_type": "markdown",
   "id": "2d653e3c",
   "metadata": {},
   "source": [
    "## `String Formatting`\n",
    "- [Study material](https://www.javatpoint.com/python-oct-function)\n",
    "- [Question Link](https://www.hackerrank.com/challenges/python-string-formatting/problem)"
   ]
  },
  {
   "cell_type": "code",
   "execution_count": 58,
   "id": "53e4dd0b",
   "metadata": {},
   "outputs": [],
   "source": [
    "def print_formatted(n):\n",
    "    width = len(\"{0:b}\".format(n))\n",
    "    for i in range(1,n+1):\n",
    "        print(\"{0:{width}d} {0:{width}o} {0:{width}X} {0:{width}b}\".format(i, width=width))"
   ]
  },
  {
   "cell_type": "code",
   "execution_count": 59,
   "id": "b94f061a",
   "metadata": {},
   "outputs": [
    {
     "name": "stdout",
     "output_type": "stream",
     "text": [
      "17\n",
      "    1     1     1     1\n",
      "    2     2     2    10\n",
      "    3     3     3    11\n",
      "    4     4     4   100\n",
      "    5     5     5   101\n",
      "    6     6     6   110\n",
      "    7     7     7   111\n",
      "    8    10     8  1000\n",
      "    9    11     9  1001\n",
      "   10    12     A  1010\n",
      "   11    13     B  1011\n",
      "   12    14     C  1100\n",
      "   13    15     D  1101\n",
      "   14    16     E  1110\n",
      "   15    17     F  1111\n",
      "   16    20    10 10000\n",
      "   17    21    11 10001\n"
     ]
    }
   ],
   "source": [
    "print_formatted(int(input()))"
   ]
  },
  {
   "cell_type": "markdown",
   "id": "52f3aa51",
   "metadata": {},
   "source": [
    "## `Alphabet Rangoli`\n",
    "[Question Link](https://www.hackerrank.com/challenges/alphabet-rangoli/problem)"
   ]
  },
  {
   "cell_type": "code",
   "execution_count": 60,
   "id": "c7f2d398",
   "metadata": {},
   "outputs": [],
   "source": [
    "import string\n",
    "def print_rangoli(n):\n",
    "    # your code goes here\n",
    "    alpha=string.ascii_lowercase\n",
    "    L=[]\n",
    "    for i in range(n):\n",
    "        s = \"-\".join(alpha[i:n])\n",
    "        L.append((s[::-1]+s[1:]).center(4*n-3, \"-\"))\n",
    "    print('\\n'.join(L[:0:-1]+L))"
   ]
  },
  {
   "cell_type": "code",
   "execution_count": 62,
   "id": "f40f660c",
   "metadata": {},
   "outputs": [
    {
     "name": "stdout",
     "output_type": "stream",
     "text": [
      "5\n",
      "--------e--------\n",
      "------e-d-e------\n",
      "----e-d-c-d-e----\n",
      "--e-d-c-b-c-d-e--\n",
      "e-d-c-b-a-b-c-d-e\n",
      "--e-d-c-b-c-d-e--\n",
      "----e-d-c-d-e----\n",
      "------e-d-e------\n",
      "--------e--------\n"
     ]
    }
   ],
   "source": [
    "print_rangoli(int(input()))"
   ]
  },
  {
   "cell_type": "markdown",
   "id": "328db3a5",
   "metadata": {},
   "source": [
    "## `Capitalize!`\n",
    "[Question Link](https://www.hackerrank.com/challenges/capitalize/problem)"
   ]
  },
  {
   "cell_type": "code",
   "execution_count": 63,
   "id": "5117363a",
   "metadata": {},
   "outputs": [],
   "source": [
    "# Complete the solve function below.\n",
    "def solve(s):\n",
    "    a_string = s.split(' ')\n",
    "    return (' '.join((word.capitalize() for word in a_string)))       \n"
   ]
  },
  {
   "cell_type": "code",
   "execution_count": 64,
   "id": "a9ceb183",
   "metadata": {},
   "outputs": [
    {
     "name": "stdout",
     "output_type": "stream",
     "text": [
      "manuj joshi\n"
     ]
    },
    {
     "data": {
      "text/plain": [
       "'Manuj Joshi'"
      ]
     },
     "execution_count": 64,
     "metadata": {},
     "output_type": "execute_result"
    }
   ],
   "source": [
    "solve(input())"
   ]
  },
  {
   "cell_type": "markdown",
   "id": "0db47db5",
   "metadata": {},
   "source": [
    "## `The Minion Game`\n",
    "[Question Link](https://www.hackerrank.com/challenges/the-minion-game/submissions/code/215959852)"
   ]
  },
  {
   "cell_type": "code",
   "execution_count": 65,
   "id": "6a1a82be",
   "metadata": {},
   "outputs": [],
   "source": [
    "def minion_game(string):\n",
    "    vowels = 'AEIOU'\n",
    "\n",
    "    kevsc = 0\n",
    "    stusc = 0\n",
    "    for i in range(len(s)):\n",
    "        if s[i] in vowels:\n",
    "            kevsc += (len(s)-i)\n",
    "        else:\n",
    "            stusc += (len(s)-i)\n",
    "\n",
    "    if kevsc > stusc:\n",
    "        print (\"Kevin\", kevsc)\n",
    "    elif kevsc < stusc:\n",
    "        print (\"Stuart\", stusc)\n",
    "    else:\n",
    "        print (\"Draw\")"
   ]
  },
  {
   "cell_type": "code",
   "execution_count": 66,
   "id": "6002bf9d",
   "metadata": {},
   "outputs": [
    {
     "name": "stdout",
     "output_type": "stream",
     "text": [
      "BANANA\n",
      "Stuart 4\n"
     ]
    }
   ],
   "source": [
    "minion_game(input())"
   ]
  },
  {
   "cell_type": "markdown",
   "id": "a7a07ba6",
   "metadata": {},
   "source": [
    "### `End of Task4 ----------------------------------------------------`"
   ]
  }
 ],
 "metadata": {
  "kernelspec": {
   "display_name": "Python 3",
   "language": "python",
   "name": "python3"
  },
  "language_info": {
   "codemirror_mode": {
    "name": "ipython",
    "version": 3
   },
   "file_extension": ".py",
   "mimetype": "text/x-python",
   "name": "python",
   "nbconvert_exporter": "python",
   "pygments_lexer": "ipython3",
   "version": "3.8.8"
  }
 },
 "nbformat": 4,
 "nbformat_minor": 5
}
