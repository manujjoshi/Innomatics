{
 "cells": [
  {
   "cell_type": "markdown",
   "id": "b222b6d3",
   "metadata": {},
   "source": [
    "## `Finding out Repeated & Missing number from the list without using any Python Library/Module ( for a single number )` "
   ]
  },
  {
   "cell_type": "code",
   "execution_count": 63,
   "id": "13aad918",
   "metadata": {},
   "outputs": [
    {
     "name": "stdout",
     "output_type": "stream",
     "text": [
      "Repeated number:6\n",
      "Missing number:7\n"
     ]
    }
   ],
   "source": [
    "lists = [1,2,3,4,5,6,6,8,10,9]  \n",
    "miss = 0\n",
    "sums = 0\n",
    "add = 0\n",
    "# repeated number\n",
    "\n",
    "for i in lists:  # sum of given list\n",
    "    add += i\n",
    "\n",
    "for i in range(1,11):  \n",
    "    if i in lists: # sum of numbers which are included in the list\n",
    "        sums += i\n",
    "    if i not in lists:  # missing number\n",
    "        miss = i\n",
    "\n",
    "print(f'Repeated number:{add - sums}')\n",
    "          \n",
    "# missing number\n",
    "print(f'Missing number:{miss}')"
   ]
  },
  {
   "cell_type": "code",
   "execution_count": null,
   "id": "a5d63ed0",
   "metadata": {},
   "outputs": [],
   "source": []
  }
 ],
 "metadata": {
  "kernelspec": {
   "display_name": "Python 3",
   "language": "python",
   "name": "python3"
  },
  "language_info": {
   "codemirror_mode": {
    "name": "ipython",
    "version": 3
   },
   "file_extension": ".py",
   "mimetype": "text/x-python",
   "name": "python",
   "nbconvert_exporter": "python",
   "pygments_lexer": "ipython3",
   "version": "3.8.8"
  }
 },
 "nbformat": 4,
 "nbformat_minor": 5
}
