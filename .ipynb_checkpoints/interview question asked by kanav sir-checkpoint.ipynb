{
 "cells": [
  {
   "cell_type": "markdown",
   "id": "21b87b8c",
   "metadata": {},
   "source": [
    "#### `Question: Randomly generate a matrix of shape (1Million, 2) and perform below mentioned operations`:\n",
    "- a. ***Find the distances between each 2-Dimensional data point from the centroid (i.e. mean) of the given dataset. Append the newly calculated distances as new column with the given dataset.**\n",
    "- b. **Given any data point, generate 3 closest neighbors from it.**"
   ]
  },
  {
   "cell_type": "markdown",
   "id": "2f731455",
   "metadata": {},
   "source": [
    "### `a ---------------------------------------------------------------------------`"
   ]
  },
  {
   "cell_type": "code",
   "execution_count": 16,
   "id": "65abac93",
   "metadata": {},
   "outputs": [],
   "source": [
    "import numpy as np"
   ]
  },
  {
   "cell_type": "markdown",
   "id": "fb1de218",
   "metadata": {},
   "source": [
    "#### `Generate an array`"
   ]
  },
  {
   "cell_type": "code",
   "execution_count": 17,
   "id": "b5b60f4b",
   "metadata": {},
   "outputs": [
    {
     "data": {
      "text/plain": [
       "array([[594,  10],\n",
       "       [717, 956],\n",
       "       [689, 667],\n",
       "       ...,\n",
       "       [604, 533],\n",
       "       [250, 434],\n",
       "       [539, 701]])"
      ]
     },
     "execution_count": 17,
     "metadata": {},
     "output_type": "execute_result"
    }
   ],
   "source": [
    "arr = np.random.randint(1000,size = (1000000,2))\n",
    "arr"
   ]
  },
  {
   "cell_type": "markdown",
   "id": "db6d1837",
   "metadata": {},
   "source": [
    "#### `Check the shape`"
   ]
  },
  {
   "cell_type": "code",
   "execution_count": 18,
   "id": "28900a77",
   "metadata": {},
   "outputs": [
    {
     "data": {
      "text/plain": [
       "(1000000, 2)"
      ]
     },
     "execution_count": 18,
     "metadata": {},
     "output_type": "execute_result"
    }
   ],
   "source": [
    "arr.shape"
   ]
  },
  {
   "cell_type": "markdown",
   "id": "8710ffaa",
   "metadata": {},
   "source": [
    "#### `Find the centroid`"
   ]
  },
  {
   "cell_type": "code",
   "execution_count": 19,
   "id": "efa7c0b5",
   "metadata": {},
   "outputs": [
    {
     "data": {
      "text/plain": [
       "array([500.088819, 499.696821])"
      ]
     },
     "execution_count": 19,
     "metadata": {},
     "output_type": "execute_result"
    }
   ],
   "source": [
    "centroid = np.mean(arr,axis=0)  # mean of 2 columns saperately\n",
    "centroid"
   ]
  },
  {
   "cell_type": "markdown",
   "id": "5a055bd7",
   "metadata": {},
   "source": [
    "#### `Use of broadcasting to decrease time complexity`"
   ]
  },
  {
   "cell_type": "code",
   "execution_count": 20,
   "id": "755f1ac2",
   "metadata": {},
   "outputs": [
    {
     "data": {
      "text/plain": [
       "array([[  93.911181, -489.696821],\n",
       "       [ 216.911181,  456.303179],\n",
       "       [ 188.911181,  167.303179],\n",
       "       ...,\n",
       "       [ 103.911181,   33.303179],\n",
       "       [-250.088819,  -65.696821],\n",
       "       [  38.911181,  201.303179]])"
      ]
     },
     "execution_count": 20,
     "metadata": {},
     "output_type": "execute_result"
    }
   ],
   "source": [
    "arr - centroid"
   ]
  },
  {
   "cell_type": "markdown",
   "id": "24fb4870",
   "metadata": {},
   "source": [
    "#### `Find the distance between each point and centroid`"
   ]
  },
  {
   "cell_type": "code",
   "execution_count": 21,
   "id": "12098213",
   "metadata": {},
   "outputs": [
    {
     "data": {
      "text/plain": [
       "array([498.62038307, 505.23563969, 252.34458189, ..., 109.11752961,\n",
       "       258.57395398, 205.02938785])"
      ]
     },
     "execution_count": 21,
     "metadata": {},
     "output_type": "execute_result"
    }
   ],
   "source": [
    "dist = np.sqrt(np.sum((arr - centroid)**2,axis=1))\n",
    "dist"
   ]
  },
  {
   "cell_type": "markdown",
   "id": "514c5652",
   "metadata": {},
   "source": [
    "#### `Verify the shape`"
   ]
  },
  {
   "cell_type": "code",
   "execution_count": 22,
   "id": "25389bb7",
   "metadata": {},
   "outputs": [
    {
     "data": {
      "text/plain": [
       "(1000000,)"
      ]
     },
     "execution_count": 22,
     "metadata": {},
     "output_type": "execute_result"
    }
   ],
   "source": [
    "dist.shape"
   ]
  },
  {
   "cell_type": "markdown",
   "id": "5454577a",
   "metadata": {},
   "source": [
    "#### `Change dimension for stacking`"
   ]
  },
  {
   "cell_type": "code",
   "execution_count": 23,
   "id": "ff26c8cf",
   "metadata": {},
   "outputs": [],
   "source": [
    "dist = dist.reshape(-1,1)"
   ]
  },
  {
   "cell_type": "markdown",
   "id": "df10e4fb",
   "metadata": {},
   "source": [
    "### `Distance of every point from centroid is in third column`"
   ]
  },
  {
   "cell_type": "code",
   "execution_count": 24,
   "id": "856f5b3d",
   "metadata": {},
   "outputs": [
    {
     "data": {
      "text/plain": [
       "array([[594.        ,  10.        , 498.62038307],\n",
       "       [717.        , 956.        , 505.23563969],\n",
       "       [689.        , 667.        , 252.34458189],\n",
       "       ...,\n",
       "       [604.        , 533.        , 109.11752961],\n",
       "       [250.        , 434.        , 258.57395398],\n",
       "       [539.        , 701.        , 205.02938785]])"
      ]
     },
     "execution_count": 24,
     "metadata": {},
     "output_type": "execute_result"
    }
   ],
   "source": [
    "a = np.hstack([arr,dist])\n",
    "a"
   ]
  },
  {
   "cell_type": "markdown",
   "id": "05249c91",
   "metadata": {},
   "source": [
    "### `b -----------------------------------------------------------------------------`\n",
    "[numpy.argsort](https://numpy.org/doc/stable/reference/generated/numpy.argsort.html)"
   ]
  },
  {
   "cell_type": "markdown",
   "id": "f2d97172",
   "metadata": {},
   "source": [
    "#### `Given any data point, generate 3 closest neighbors from it.`"
   ]
  },
  {
   "cell_type": "code",
   "execution_count": 25,
   "id": "112a898d",
   "metadata": {},
   "outputs": [
    {
     "name": "stdout",
     "output_type": "stream",
     "text": [
      "250 250\n"
     ]
    },
    {
     "data": {
      "text/plain": [
       "array([419.44725533, 846.47799735, 605.48327805, ..., 453.21628391,\n",
       "       184.        , 535.65100579])"
      ]
     },
     "execution_count": 25,
     "metadata": {},
     "output_type": "execute_result"
    }
   ],
   "source": [
    "data_point = list(map(float,input().split()))         # input a point from user\n",
    "dist = np.sqrt(np.sum((arr - data_point)**2,axis=1))  # distance between arr point and user input point\n",
    "dist"
   ]
  },
  {
   "cell_type": "code",
   "execution_count": 31,
   "id": "9d6b6874",
   "metadata": {},
   "outputs": [
    {
     "data": {
      "text/plain": [
       "array([[594.        ,  10.        , 419.44725533],\n",
       "       [717.        , 956.        , 846.47799735],\n",
       "       [689.        , 667.        , 605.48327805],\n",
       "       ...,\n",
       "       [604.        , 533.        , 453.21628391],\n",
       "       [250.        , 434.        , 184.        ],\n",
       "       [539.        , 701.        , 535.65100579]])"
      ]
     },
     "execution_count": 31,
     "metadata": {},
     "output_type": "execute_result"
    }
   ],
   "source": [
    "dist = dist.reshape(-1,1)  # change dimension for stacking\n",
    "b = np.hstack([arr,dist])     # horizontal stacking\n",
    "b"
   ]
  },
  {
   "cell_type": "code",
   "execution_count": 34,
   "id": "0044aece",
   "metadata": {},
   "outputs": [
    {
     "name": "stdout",
     "output_type": "stream",
     "text": [
      "[[250. 250.]\n",
      " [250. 251.]\n",
      " [251. 250.]]\n"
     ]
    }
   ],
   "source": [
    "nearest_neighbor = b[b[:,2].argsort()]   # sort points according to distance\n",
    "print(nearest_neighbor[0:3,0:2])    # nearest neighbor or top 3 less distant points"
   ]
  },
  {
   "cell_type": "markdown",
   "id": "3a2580e6",
   "metadata": {},
   "source": [
    "## `End of Task -------------------------------------------------------------------- `"
   ]
  }
 ],
 "metadata": {
  "kernelspec": {
   "display_name": "Python 3",
   "language": "python",
   "name": "python3"
  },
  "language_info": {
   "codemirror_mode": {
    "name": "ipython",
    "version": 3
   },
   "file_extension": ".py",
   "mimetype": "text/x-python",
   "name": "python",
   "nbconvert_exporter": "python",
   "pygments_lexer": "ipython3",
   "version": "3.8.8"
  }
 },
 "nbformat": 4,
 "nbformat_minor": 5
}
