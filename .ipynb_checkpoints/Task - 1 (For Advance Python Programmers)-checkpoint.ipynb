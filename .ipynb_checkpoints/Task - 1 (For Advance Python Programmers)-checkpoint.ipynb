{
 "cells": [
  {
   "cell_type": "markdown",
   "id": "27d802c7",
   "metadata": {},
   "source": [
    "## `Running Sum of 1d Array`\n",
    "[Question Link](https://leetcode.com/problems/running-sum-of-1d-array/)"
   ]
  },
  {
   "cell_type": "code",
   "execution_count": 40,
   "id": "3d09ec97",
   "metadata": {},
   "outputs": [],
   "source": [
    "class Solution:\n",
    "    def runningSum(self, nums):\n",
    "        sums = 0\n",
    "        for i in range(len(nums)):\n",
    "            sums = nums[i] + sums\n",
    "            nums[i] = sums\n",
    "        return nums"
   ]
  },
  {
   "cell_type": "code",
   "execution_count": 41,
   "id": "5471bab1",
   "metadata": {},
   "outputs": [
    {
     "data": {
      "text/plain": [
       "[1, 3, 6, 10, 15, 21]"
      ]
     },
     "execution_count": 41,
     "metadata": {},
     "output_type": "execute_result"
    }
   ],
   "source": [
    "sol = Solution()\n",
    "arr = [1,2,3,4,5,6]\n",
    "sol.runningSum(arr)"
   ]
  },
  {
   "cell_type": "markdown",
   "id": "639ca6ef",
   "metadata": {},
   "source": [
    "## `Shuffle the Array`\n",
    "[Question Link](https://leetcode.com/problems/shuffle-the-array/)"
   ]
  },
  {
   "cell_type": "code",
   "execution_count": 42,
   "id": "a5a98774",
   "metadata": {},
   "outputs": [],
   "source": [
    "class Solution(object):\n",
    "    def shuffle(self, nums, n):\n",
    "        result = [None] * (2*n)  # empty array of same size \n",
    "        for i in range(2*n):\n",
    "            if i%2 == 0:\n",
    "                result[i] = nums[int(i/2)]\n",
    "            else:\n",
    "                result[i] = nums[n + int(i/2)]\n",
    "        return result"
   ]
  },
  {
   "cell_type": "code",
   "execution_count": 43,
   "id": "45cf9dd8",
   "metadata": {},
   "outputs": [
    {
     "data": {
      "text/plain": [
       "[1, 4, 2, 5, 3, 6]"
      ]
     },
     "execution_count": 43,
     "metadata": {},
     "output_type": "execute_result"
    }
   ],
   "source": [
    "sol = Solution()\n",
    "arr = [1,2,3,4,5,6]\n",
    "sol.shuffle(arr,3)"
   ]
  },
  {
   "cell_type": "markdown",
   "id": "4e0a9c76",
   "metadata": {},
   "source": [
    "## `Kids With the Greatest Number of Candies`\n",
    "[Question Task](https://leetcode.com/problems/kids-with-the-greatest-number-of-candies/)"
   ]
  },
  {
   "cell_type": "code",
   "execution_count": 45,
   "id": "e5c96250",
   "metadata": {},
   "outputs": [],
   "source": [
    "class Solution(object):\n",
    "    def kidsWithCandies(self, candies, extraCandies):\n",
    "        output = []\n",
    "        for i in candies:\n",
    "            if (i+extraCandies) > max(candies) or i == candies[0]:\n",
    "                output.append(True)\n",
    "            else:\n",
    "                output.append(False)\n",
    "        return output"
   ]
  },
  {
   "cell_type": "code",
   "execution_count": 46,
   "id": "44589697",
   "metadata": {},
   "outputs": [
    {
     "data": {
      "text/plain": [
       "[True, False, False, False, True, True]"
      ]
     },
     "execution_count": 46,
     "metadata": {},
     "output_type": "execute_result"
    }
   ],
   "source": [
    "sol = Solution()\n",
    "arr = [1,2,3,4,5,6]\n",
    "sol.kidsWithCandies(arr,2)"
   ]
  },
  {
   "cell_type": "markdown",
   "id": "600189d4",
   "metadata": {},
   "source": [
    "## `End Of Task2 -------------------------------------------------`"
   ]
  }
 ],
 "metadata": {
  "kernelspec": {
   "display_name": "Python 3",
   "language": "python",
   "name": "python3"
  },
  "language_info": {
   "codemirror_mode": {
    "name": "ipython",
    "version": 3
   },
   "file_extension": ".py",
   "mimetype": "text/x-python",
   "name": "python",
   "nbconvert_exporter": "python",
   "pygments_lexer": "ipython3",
   "version": "3.8.8"
  }
 },
 "nbformat": 4,
 "nbformat_minor": 5
}
