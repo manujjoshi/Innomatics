{
 "cells": [
  {
   "cell_type": "markdown",
   "id": "c13f3396",
   "metadata": {},
   "source": [
    "## `Defanging an IP Address`\n",
    "[Question Link](https://leetcode.com/problems/defanging-an-ip-address/)"
   ]
  },
  {
   "cell_type": "code",
   "execution_count": 3,
   "id": "678079de",
   "metadata": {},
   "outputs": [],
   "source": [
    "class Solution(object):\n",
    "    def defangIPaddr(self, address):\n",
    "\n",
    "        address = address.replace('.','[.]')\n",
    "        return address     "
   ]
  },
  {
   "cell_type": "code",
   "execution_count": 6,
   "id": "378399c0",
   "metadata": {},
   "outputs": [
    {
     "name": "stdout",
     "output_type": "stream",
     "text": [
      "192.169.0.1\n"
     ]
    },
    {
     "data": {
      "text/plain": [
       "'192[.]169[.]0[.]1'"
      ]
     },
     "execution_count": 6,
     "metadata": {},
     "output_type": "execute_result"
    }
   ],
   "source": [
    "sol = Solution()\n",
    "sol.defangIPaddr(input())"
   ]
  },
  {
   "cell_type": "markdown",
   "id": "320391ee",
   "metadata": {},
   "source": [
    "## `Find Numbers with Even Number of Digits`\n",
    "[Question Link](https://leetcode.com/problems/find-numbers-with-even-number-of-digits/)"
   ]
  },
  {
   "cell_type": "code",
   "execution_count": 19,
   "id": "92496fda",
   "metadata": {},
   "outputs": [],
   "source": [
    "class Solution(object):\n",
    "    def findNumbers(self, nums):\n",
    "        nums = [str(i) for i in nums]\n",
    "        sums = 0\n",
    "        for i in nums:\n",
    "            if len(i) % 2 == 0:\n",
    "                sums += 1\n",
    "        return sums"
   ]
  },
  {
   "cell_type": "code",
   "execution_count": 22,
   "id": "6f9edbf4",
   "metadata": {},
   "outputs": [
    {
     "name": "stdout",
     "output_type": "stream",
     "text": [
      "1\n"
     ]
    }
   ],
   "source": [
    "sol = Solution()\n",
    "sol.findNumbers([1,22,3,4,5,6,7])"
   ]
  },
  {
   "cell_type": "markdown",
   "id": "650de692",
   "metadata": {},
   "source": [
    "## `Number of Good Pairs`\n",
    "[Question Link](https://leetcode.com/problems/number-of-good-pairs/)"
   ]
  },
  {
   "cell_type": "code",
   "execution_count": 26,
   "id": "536cc292",
   "metadata": {},
   "outputs": [],
   "source": [
    "class Solution(object):\n",
    "    def numIdenticalPairs(self, nums):\n",
    "        \n",
    "        sums = 0\n",
    "        for i in range(len(nums)):\n",
    "            for j in range(len(nums)):\n",
    "                   if nums[i] == nums[j] and j>i:\n",
    "                           sums += 1\n",
    "        return sums\n"
   ]
  },
  {
   "cell_type": "code",
   "execution_count": 27,
   "id": "89d9331d",
   "metadata": {},
   "outputs": [
    {
     "name": "stdout",
     "output_type": "stream",
     "text": [
      "1 2 3 1 1 3\n"
     ]
    },
    {
     "data": {
      "text/plain": [
       "4"
      ]
     },
     "execution_count": 27,
     "metadata": {},
     "output_type": "execute_result"
    }
   ],
   "source": [
    "sol = Solution()\n",
    "sol.numIdenticalPairs(list(map(int,input().split())))"
   ]
  },
  {
   "cell_type": "markdown",
   "id": "1db31713",
   "metadata": {},
   "source": [
    "## `How Many Numbers Are Smaller Than the Current Number`\n",
    "[Question Link](https://leetcode.com/problems/how-many-numbers-are-smaller-than-the-current-number/)"
   ]
  },
  {
   "cell_type": "code",
   "execution_count": 31,
   "id": "c403eb4d",
   "metadata": {},
   "outputs": [],
   "source": [
    "class Solution(object):\n",
    "    def smallerNumbersThanCurrent(self, nums):\n",
    "        \n",
    "        result = []\n",
    "        for i in range(len(nums)):\n",
    "            count = 0\n",
    "            for j in range(len(nums)):\n",
    "                if nums[i]>nums[j]:\n",
    "                    count += 1\n",
    "            result.append(count)    \n",
    "        return result\n"
   ]
  },
  {
   "cell_type": "code",
   "execution_count": 32,
   "id": "0fd71071",
   "metadata": {},
   "outputs": [
    {
     "name": "stdout",
     "output_type": "stream",
     "text": [
      "8 1 2 2 3\n"
     ]
    },
    {
     "data": {
      "text/plain": [
       "[4, 0, 1, 1, 3]"
      ]
     },
     "execution_count": 32,
     "metadata": {},
     "output_type": "execute_result"
    }
   ],
   "source": [
    "sol = Solution()\n",
    "sol.smallerNumbersThanCurrent(list(map(int,input().split())))"
   ]
  },
  {
   "cell_type": "markdown",
   "id": "154ad7bc",
   "metadata": {},
   "source": [
    "## `Count the number of digits in an number ( Not part of the questions )`"
   ]
  },
  {
   "cell_type": "code",
   "execution_count": 33,
   "id": "ca4f6cd8",
   "metadata": {},
   "outputs": [],
   "source": [
    "def countDigit(n):\n",
    "    count = 0\n",
    "    while n != 0:\n",
    "        n //= 10\n",
    "        count += 1\n",
    "    return count"
   ]
  },
  {
   "cell_type": "code",
   "execution_count": 34,
   "id": "29c6768c",
   "metadata": {},
   "outputs": [
    {
     "name": "stdout",
     "output_type": "stream",
     "text": [
      "1234568513369787456\n"
     ]
    },
    {
     "data": {
      "text/plain": [
       "19"
      ]
     },
     "execution_count": 34,
     "metadata": {},
     "output_type": "execute_result"
    }
   ],
   "source": [
    "countDigit(int(input()))"
   ]
  },
  {
   "cell_type": "markdown",
   "id": "15177447",
   "metadata": {},
   "source": [
    "## `Saperate the digits of a number ( Not part of the questions )`"
   ]
  },
  {
   "cell_type": "code",
   "execution_count": 41,
   "id": "243634c4",
   "metadata": {},
   "outputs": [
    {
     "name": "stdout",
     "output_type": "stream",
     "text": [
      "[1, 3, 5, 7, 9]\n"
     ]
    }
   ],
   "source": [
    "num = 13579\n",
    "x = [int(a) for a in str(num)]\n",
    "print(x)"
   ]
  },
  {
   "cell_type": "markdown",
   "id": "30631413",
   "metadata": {},
   "source": [
    "## `Subtract the Product and Sum of Digits of an Integer`\n",
    "[Question Link](https://leetcode.com/problems/how-many-numbers-are-smaller-than-the-current-number/)"
   ]
  },
  {
   "cell_type": "code",
   "execution_count": 53,
   "id": "efcb6d23",
   "metadata": {},
   "outputs": [],
   "source": [
    "from functools import reduce\n",
    "class Solution(object):\n",
    "    def subtractProductAndSum(self, n):\n",
    "        \n",
    "        x = [int(a) for a in str(n)]  # split a number into digits\n",
    "        mul = reduce(lambda x, y: x*y, x)\n",
    "        add = reduce(lambda x, y: x+y, x)\n",
    "        return (mul - add)"
   ]
  },
  {
   "cell_type": "code",
   "execution_count": 57,
   "id": "67dfd0d9",
   "metadata": {},
   "outputs": [
    {
     "name": "stdout",
     "output_type": "stream",
     "text": [
      "234\n"
     ]
    },
    {
     "data": {
      "text/plain": [
       "15"
      ]
     },
     "execution_count": 57,
     "metadata": {},
     "output_type": "execute_result"
    }
   ],
   "source": [
    "sol = Solution()\n",
    "sol.subtractProductAndSum(int(input()))"
   ]
  },
  {
   "cell_type": "markdown",
   "id": "7ad1e70c",
   "metadata": {},
   "source": [
    "## `XOR Operation in an Array`\n",
    "[Question lInk](https://leetcode.com/problems/xor-operation-in-an-array/)"
   ]
  },
  {
   "cell_type": "code",
   "execution_count": 4,
   "id": "5f50d140",
   "metadata": {},
   "outputs": [],
   "source": [
    "from functools import reduce\n",
    "class Solution:\n",
    "    def xorOperation(self,n,start):\n",
    "        \n",
    "        arr =[]\n",
    "        for i in range(n):\n",
    "            arr.append(start + 2*i)\n",
    "        return (reduce(lambda x,y:x^y,arr))"
   ]
  },
  {
   "cell_type": "code",
   "execution_count": 5,
   "id": "59d6f819",
   "metadata": {},
   "outputs": [
    {
     "data": {
      "text/plain": [
       "8"
      ]
     },
     "execution_count": 5,
     "metadata": {},
     "output_type": "execute_result"
    }
   ],
   "source": [
    "sol = Solution()\n",
    "sol.xorOperation(5,0)"
   ]
  },
  {
   "cell_type": "markdown",
   "id": "36d7fe23",
   "metadata": {},
   "source": [
    "## `End of Task 2`"
   ]
  }
 ],
 "metadata": {
  "kernelspec": {
   "display_name": "Python 3",
   "language": "python",
   "name": "python3"
  },
  "language_info": {
   "codemirror_mode": {
    "name": "ipython",
    "version": 3
   },
   "file_extension": ".py",
   "mimetype": "text/x-python",
   "name": "python",
   "nbconvert_exporter": "python",
   "pygments_lexer": "ipython3",
   "version": "3.8.8"
  }
 },
 "nbformat": 4,
 "nbformat_minor": 5
}
