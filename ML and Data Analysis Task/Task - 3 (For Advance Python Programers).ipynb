{
 "cells": [
  {
   "cell_type": "markdown",
   "id": "46a90eba",
   "metadata": {},
   "source": [
    "## `Maximum Product of Two Elements in an Array`\n",
    "[Question Link](https://leetcode.com/problems/maximum-product-of-two-elements-in-an-array/)"
   ]
  },
  {
   "cell_type": "code",
   "execution_count": 20,
   "id": "33cb5b6a",
   "metadata": {},
   "outputs": [],
   "source": [
    "class Solution:\n",
    "    def maxProduct(self, nums):\n",
    "        l=len(nums)\n",
    "        nums=sorted(nums,reverse=True)\n",
    "        return (nums[0]-1)*(nums[1]-1)"
   ]
  },
  {
   "cell_type": "code",
   "execution_count": 21,
   "id": "1cf31f47",
   "metadata": {},
   "outputs": [
    {
     "name": "stdout",
     "output_type": "stream",
     "text": [
      "2 3 6 5 4 8\n"
     ]
    },
    {
     "data": {
      "text/plain": [
       "35"
      ]
     },
     "execution_count": 21,
     "metadata": {},
     "output_type": "execute_result"
    }
   ],
   "source": [
    "sol = Solution()\n",
    "sol.maxProduct(list(map(int,input().split())))"
   ]
  },
  {
   "cell_type": "markdown",
   "id": "afc19f99",
   "metadata": {},
   "source": [
    "## `Count Number of Teams *****`\n",
    "[Question Link](https://leetcode.com/problems/count-number-of-teams/)"
   ]
  },
  {
   "cell_type": "code",
   "execution_count": 40,
   "id": "f66f31c9",
   "metadata": {},
   "outputs": [],
   "source": [
    "class Solution:\n",
    "    def numTeams(self, rating):\n",
    "        count = 0\n",
    "        n = len(rating)\n",
    "        for i in range(n):\n",
    "            for j in range(i+1,n):\n",
    "                for k in range(j+1,n):\n",
    "                        if (rating[i]>rating[j]>rating[k]) or (rating[i]<rating[j]<rating[k]) :\n",
    "                            count += 1\n",
    "        return (count)\n"
   ]
  },
  {
   "cell_type": "code",
   "execution_count": 41,
   "id": "38ff2efd",
   "metadata": {},
   "outputs": [
    {
     "name": "stdout",
     "output_type": "stream",
     "text": [
      "2 5 3 4 1\n"
     ]
    },
    {
     "data": {
      "text/plain": [
       "3"
      ]
     },
     "execution_count": 41,
     "metadata": {},
     "output_type": "execute_result"
    }
   ],
   "source": [
    "sol = Solution()\n",
    "sol.numTeams(list(map(int,input().split())))"
   ]
  },
  {
   "cell_type": "markdown",
   "id": "47088bb8",
   "metadata": {},
   "source": [
    "## `Number of Students Doing Homework at a Given Time`\n",
    "[Question Link](https://leetcode.com/problems/number-of-students-doing-homework-at-a-given-time/)"
   ]
  },
  {
   "cell_type": "code",
   "execution_count": 56,
   "id": "d6cfb8dc",
   "metadata": {},
   "outputs": [],
   "source": [
    "class Solution:\n",
    "    def busyStudent(self, startTime, endTime, queryTime):\n",
    "        \n",
    "        count = 0\n",
    "        for i in range(len(startTime)):\n",
    "            if startTime[i]<=queryTime<=endTime[i]:\n",
    "                count += 1\n",
    "        return (count)"
   ]
  },
  {
   "cell_type": "code",
   "execution_count": 58,
   "id": "f92f9745",
   "metadata": {},
   "outputs": [
    {
     "data": {
      "text/plain": [
       "1"
      ]
     },
     "execution_count": 58,
     "metadata": {},
     "output_type": "execute_result"
    }
   ],
   "source": [
    "sol = Solution()\n",
    "sol.busyStudent([1,2,3],[3,2,7],4)"
   ]
  },
  {
   "cell_type": "markdown",
   "id": "e196274c",
   "metadata": {},
   "source": [
    "## `Number of Steps to Reduce a Number to Zero`\n",
    "[Question Link](https://leetcode.com/problems/number-of-steps-to-reduce-a-number-to-zero/)"
   ]
  },
  {
   "cell_type": "code",
   "execution_count": 61,
   "id": "fd76559c",
   "metadata": {},
   "outputs": [],
   "source": [
    "class Solution:\n",
    "    def numberOfSteps(self, num):\n",
    "       \n",
    "        count = 0\n",
    "        while num > 0:\n",
    "            if num % 2 == 0:\n",
    "                num = num/2\n",
    "                count += 1\n",
    "            if num % 2 != 0:\n",
    "                num = num - 1\n",
    "                count += 1\n",
    "        return count"
   ]
  },
  {
   "cell_type": "code",
   "execution_count": 62,
   "id": "8928373d",
   "metadata": {},
   "outputs": [
    {
     "name": "stdout",
     "output_type": "stream",
     "text": [
      "8\n"
     ]
    },
    {
     "data": {
      "text/plain": [
       "4"
      ]
     },
     "execution_count": 62,
     "metadata": {},
     "output_type": "execute_result"
    }
   ],
   "source": [
    "sol = Solution()\n",
    "sol.numberOfSteps(int(input()))"
   ]
  },
  {
   "cell_type": "markdown",
   "id": "41b944ac",
   "metadata": {},
   "source": [
    "## `Counting Bits`\n",
    "[Question Link](https://leetcode.com/problems/counting-bits/)"
   ]
  },
  {
   "cell_type": "code",
   "execution_count": 66,
   "id": "4bc29875",
   "metadata": {},
   "outputs": [],
   "source": [
    "class Solution:\n",
    "    def countBits(self, n):\n",
    "        ans = [0]*(n+1)  # empty list of size 6\n",
    "        if n > 0:\n",
    "            ans[1] = 1\n",
    "        i = 2\n",
    "        while i <= n:\n",
    "            number_of_one = ans[i//2]\n",
    "            if i % 2 == 0:\n",
    "                ans[i] = number_of_one\n",
    "            else:\n",
    "                ans[i] = number_of_one+1\n",
    "            i+=1\n",
    "        return ans\n",
    "            "
   ]
  },
  {
   "cell_type": "code",
   "execution_count": 67,
   "id": "d8d643a4",
   "metadata": {},
   "outputs": [
    {
     "data": {
      "text/plain": [
       "[0, 1, 1, 2, 1, 2]"
      ]
     },
     "execution_count": 67,
     "metadata": {},
     "output_type": "execute_result"
    }
   ],
   "source": [
    "sol = Solution()\n",
    "sol.countBits(5)"
   ]
  },
  {
   "cell_type": "markdown",
   "id": "ceacffbe",
   "metadata": {},
   "source": [
    "## `End of task3 --------------------------------------------------`"
   ]
  }
 ],
 "metadata": {
  "kernelspec": {
   "display_name": "Python 3",
   "language": "python",
   "name": "python3"
  },
  "language_info": {
   "codemirror_mode": {
    "name": "ipython",
    "version": 3
   },
   "file_extension": ".py",
   "mimetype": "text/x-python",
   "name": "python",
   "nbconvert_exporter": "python",
   "pygments_lexer": "ipython3",
   "version": "3.8.8"
  }
 },
 "nbformat": 4,
 "nbformat_minor": 5
}
