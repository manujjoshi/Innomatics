{
 "cells": [
  {
   "cell_type": "markdown",
   "id": "fb1e7d9e",
   "metadata": {},
   "source": [
    "[Reading Material](https://diveintopython3.problemsolving.io/your-first-python-program.html)\n",
    "## `Say \"Hello, World!\" With Python`\n",
    "[Question Link](https://www.hackerrank.com/challenges/py-hello-world/problem)"
   ]
  },
  {
   "cell_type": "code",
   "execution_count": 1,
   "id": "1737e964",
   "metadata": {},
   "outputs": [
    {
     "name": "stdout",
     "output_type": "stream",
     "text": [
      "Hello, World!\n"
     ]
    }
   ],
   "source": [
    "print('Hello, World!')"
   ]
  },
  {
   "cell_type": "markdown",
   "id": "0cff55be",
   "metadata": {},
   "source": [
    "## `Python If-Else`\n",
    "[Question Link](https://www.hackerrank.com/challenges/py-if-else/problem)"
   ]
  },
  {
   "cell_type": "code",
   "execution_count": 4,
   "id": "85188a6d",
   "metadata": {},
   "outputs": [
    {
     "name": "stdout",
     "output_type": "stream",
     "text": [
      "10\n",
      "Weird\n"
     ]
    }
   ],
   "source": [
    "n = int(input())\n",
    "if n % 2 == 0:\n",
    "    if 2 <= n <= 5:\n",
    "        print('Not Weird')\n",
    "    if 6 <= n <= 20:\n",
    "        print('Weird')\n",
    "    if n > 20:\n",
    "        print('Not Weird')\n",
    "else:\n",
    "    print('Weird')"
   ]
  },
  {
   "cell_type": "markdown",
   "id": "9b30205f",
   "metadata": {},
   "source": [
    "## `Arithmetic Operators`\n",
    "[Question Link](https://www.hackerrank.com/challenges/python-arithmetic-operators/problem)"
   ]
  },
  {
   "cell_type": "code",
   "execution_count": 6,
   "id": "b6f4c297",
   "metadata": {},
   "outputs": [
    {
     "name": "stdout",
     "output_type": "stream",
     "text": [
      "4\n",
      "5\n",
      "Sum:9\n",
      "Difference:-1\n",
      "Product:20\n"
     ]
    }
   ],
   "source": [
    "a = int(input())\n",
    "b = int(input())\n",
    "print(f'Sum:{a+b}')\n",
    "print(f'Difference:{a-b}')\n",
    "print(f'Product:{a*b}')"
   ]
  },
  {
   "cell_type": "markdown",
   "id": "aaf38a80",
   "metadata": {},
   "source": [
    "## `Python: Division`\n",
    "[Question Link](https://www.hackerrank.com/challenges/python-division/problem)"
   ]
  },
  {
   "cell_type": "code",
   "execution_count": 7,
   "id": "d45e150d",
   "metadata": {},
   "outputs": [
    {
     "name": "stdout",
     "output_type": "stream",
     "text": [
      "4\n",
      "5\n",
      "Integer Division:0\n",
      "Float Division:0.8\n"
     ]
    }
   ],
   "source": [
    "a = int(input())\n",
    "b = int(input())\n",
    "print(f'Integer Division:{a//b}')\n",
    "print(f'Float Division:{a/b}')"
   ]
  },
  {
   "cell_type": "markdown",
   "id": "8b0f3d0f",
   "metadata": {},
   "source": [
    "## `Loops`\n",
    "[Question Link](https://www.hackerrank.com/challenges/python-loops/problem)"
   ]
  },
  {
   "cell_type": "code",
   "execution_count": 8,
   "id": "da0715e4",
   "metadata": {},
   "outputs": [
    {
     "name": "stdout",
     "output_type": "stream",
     "text": [
      "5\n",
      "Suare of 0:0\n",
      "Suare of 1:1\n",
      "Suare of 2:4\n",
      "Suare of 3:9\n",
      "Suare of 4:16\n"
     ]
    }
   ],
   "source": [
    "n = int(input())\n",
    "for i in range(n):\n",
    "    print(f'Suare of {i}:{i*i}')"
   ]
  },
  {
   "cell_type": "markdown",
   "id": "5598e82f",
   "metadata": {},
   "source": [
    "## `Write a function`\n",
    "[Question Link](https://www.hackerrank.com/challenges/write-a-function/problem)"
   ]
  },
  {
   "cell_type": "code",
   "execution_count": 1,
   "id": "ffa25f11",
   "metadata": {},
   "outputs": [],
   "source": [
    "def is_leap(year):\n",
    "    if year % 4 == 0 and year%100 !=0:\n",
    "        return True\n",
    "    elif year % 400 == 0:\n",
    "        return True\n",
    "    elif year % 100 == 0:\n",
    "        return False\n",
    "    else:\n",
    "        return False"
   ]
  },
  {
   "cell_type": "code",
   "execution_count": 2,
   "id": "45c7ff15",
   "metadata": {},
   "outputs": [
    {
     "data": {
      "text/plain": [
       "False"
      ]
     },
     "execution_count": 2,
     "metadata": {},
     "output_type": "execute_result"
    }
   ],
   "source": [
    "is_leap(1990)"
   ]
  },
  {
   "cell_type": "markdown",
   "id": "f65dc505",
   "metadata": {},
   "source": [
    "## `Print Function`\n",
    "[ Question Link](https://www.hackerrank.com/challenges/python-print/problem)"
   ]
  },
  {
   "cell_type": "code",
   "execution_count": 26,
   "id": "7f99f034",
   "metadata": {},
   "outputs": [
    {
     "name": "stdout",
     "output_type": "stream",
     "text": [
      "10\n",
      "12345678910"
     ]
    }
   ],
   "source": [
    "n = int(input())\n",
    "for i in range(1,n+1):\n",
    "    print(i,end='')"
   ]
  },
  {
   "cell_type": "markdown",
   "id": "db16c7d4",
   "metadata": {},
   "source": [
    "### `End of Task 1 --------------------------------------------------`"
   ]
  }
 ],
 "metadata": {
  "kernelspec": {
   "display_name": "Python 3",
   "language": "python",
   "name": "python3"
  },
  "language_info": {
   "codemirror_mode": {
    "name": "ipython",
    "version": 3
   },
   "file_extension": ".py",
   "mimetype": "text/x-python",
   "name": "python",
   "nbconvert_exporter": "python",
   "pygments_lexer": "ipython3",
   "version": "3.8.8"
  }
 },
 "nbformat": 4,
 "nbformat_minor": 5
}
