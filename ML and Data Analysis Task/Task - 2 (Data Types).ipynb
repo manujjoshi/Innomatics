{
 "cells": [
  {
   "cell_type": "markdown",
   "id": "3522d515",
   "metadata": {},
   "source": [
    "[Reading Material](https://diveintopython3.problemsolving.io/native-datatypes.html)\n",
    "\n",
    "## `List Comprehensions`\n",
    "[Question Link](https://www.hackerrank.com/challenges/list-comprehensions/problem)"
   ]
  },
  {
   "cell_type": "code",
   "execution_count": 35,
   "id": "e1260b20",
   "metadata": {},
   "outputs": [
    {
     "name": "stdout",
     "output_type": "stream",
     "text": [
      "1\n",
      "1\n",
      "1\n",
      "2\n",
      "[[0, 0, 0], [0, 0, 1], [0, 1, 0], [1, 0, 0], [1, 1, 1]]\n"
     ]
    }
   ],
   "source": [
    "x, y, z, n = int(input()), int(input()), int(input()), int(input())\n",
    "print ([[a,b,c] for a in range(0,x+1) for b in range(0,y+1) for c in range(0,z+1) if a + b + c != n ])"
   ]
  },
  {
   "cell_type": "markdown",
   "id": "bfb07aca",
   "metadata": {},
   "source": [
    "## `Find the Runner-Up Score!`\n",
    "[Question Link](https://www.hackerrank.com/challenges/find-second-maximum-number-in-a-list/problem)"
   ]
  },
  {
   "cell_type": "code",
   "execution_count": null,
   "id": "8d56f75f",
   "metadata": {},
   "outputs": [],
   "source": [
    "i = int(input())\n",
    "lis = list(map(int,input().strip().split()))\n",
    "z = max(lis)\n",
    "while max(lis) == z:\n",
    "    lis.remove(max(lis))\n",
    "\n",
    "print(max(lis))"
   ]
  },
  {
   "cell_type": "markdown",
   "id": "57ccca9e",
   "metadata": {},
   "source": [
    "## `Nested Lists ************* `\n",
    "[Question Link](https://www.hackerrank.com/challenges/nested-list/problem)"
   ]
  },
  {
   "cell_type": "code",
   "execution_count": 2,
   "id": "9a72160d",
   "metadata": {},
   "outputs": [
    {
     "name": "stdout",
     "output_type": "stream",
     "text": [
      "5\n",
      "Harry\n",
      "37.21\n",
      "Berry\n",
      "37.21\n",
      "Tina\n",
      "37.2\n",
      "Akriti\n",
      "41\n",
      "Harsh\n",
      "39\n",
      "Berry\n",
      "Harry\n"
     ]
    }
   ],
   "source": [
    "marksheet = []\n",
    "for _ in range(0,int(input())):\n",
    "    marksheet.append([input(), float(input())])   # [name,grade]\n",
    "\n",
    "second_highest = sorted(list(set([marks for name, marks in marksheet])))[1]\n",
    "print('\\n'.join([a for a,b in sorted(marksheet) if b == second_highest]))"
   ]
  },
  {
   "cell_type": "markdown",
   "id": "66e49d81",
   "metadata": {},
   "source": [
    "## `Finding the percentage`\n",
    "[Question Link](https://www.hackerrank.com/challenges/finding-the-percentage/problem)"
   ]
  },
  {
   "cell_type": "code",
   "execution_count": null,
   "id": "aac7b953",
   "metadata": {},
   "outputs": [],
   "source": [
    "n = int(input())\n",
    "student_marks = {}\n",
    "for i in range(n):\n",
    "    name,*score = input().split()\n",
    "    scores = list(map(float,score))\n",
    "    m = len(scores)\n",
    "    student_marks[name] = scores\n",
    "query_name = input()\n",
    "for i in student_marks:\n",
    "    if i == query_name:\n",
    "        avg = sum(student_marks[i]) / m\n",
    "        print(\"{0:.2f}\".format(avg))"
   ]
  },
  {
   "cell_type": "markdown",
   "id": "8efebe5f",
   "metadata": {},
   "source": [
    "## `Lists`\n",
    "[Question Link](https://www.hackerrank.com/challenges/python-lists/problem)"
   ]
  },
  {
   "cell_type": "code",
   "execution_count": 24,
   "id": "02fb8f3a",
   "metadata": {},
   "outputs": [
    {
     "name": "stdout",
     "output_type": "stream",
     "text": [
      "12\n",
      "insert 0 5\n",
      "insert 1 10\n",
      "print\n",
      "[5, 10]\n",
      "remove 5\n",
      "append 9\n",
      "append 6\n",
      "append 1\n",
      "print\n",
      "[10, 9, 6, 1]\n",
      "sort\n",
      "print\n",
      "[1, 6, 9, 10]\n",
      "pop\n",
      "reverse\n"
     ]
    }
   ],
   "source": [
    "n = int(input())\n",
    "lists = []\n",
    "for i in range(n):\n",
    "    command = input().split()\n",
    "    if command[0] == 'insert':\n",
    "        lists.insert(int(command[1]),int(command[2]))\n",
    "    if command[0] == 'print':\n",
    "        print(lists)\n",
    "    if command[0] == 'remove':\n",
    "        lists.remove(int(command[1]))\n",
    "    if command[0] == 'append':\n",
    "        lists.append(int(command[1]))\n",
    "    if command[0] == 'sort':\n",
    "        lists.sort()\n",
    "    if command[0] == 'pop':\n",
    "        lists.pop()\n",
    "    if command[0] =='reverse':\n",
    "        lists.reverse()"
   ]
  },
  {
   "cell_type": "markdown",
   "id": "8a69da11",
   "metadata": {},
   "source": [
    "## `Tuples`\n",
    "[Question Link](https://www.hackerrank.com/challenges/python-tuples/problem)"
   ]
  },
  {
   "cell_type": "code",
   "execution_count": 31,
   "id": "8979356d",
   "metadata": {},
   "outputs": [
    {
     "name": "stdout",
     "output_type": "stream",
     "text": [
      "1 2 3 4 5 6\n",
      "5881802312257552497\n"
     ]
    }
   ],
   "source": [
    "n = int(input())\n",
    "t = tuple(map(int,input().split()))\n",
    "print(hash(t))"
   ]
  },
  {
   "cell_type": "markdown",
   "id": "77467ac7",
   "metadata": {},
   "source": [
    "## `Introduction to Sets`\n",
    "[Question Link](https://www.hackerrank.com/challenges/py-introduction-to-sets/problem)"
   ]
  },
  {
   "cell_type": "code",
   "execution_count": null,
   "id": "a6978b72",
   "metadata": {},
   "outputs": [],
   "source": [
    "def average(arr):\n",
    "    arr = set(arr)\n",
    "    return sum(arr)/len(arr)\n",
    "if __name__ == '__main__':\n",
    "    n = int(input())\n",
    "    arr = list(map(int, input().split()))\n",
    "    result = average(arr)\n",
    "    print(result)"
   ]
  },
  {
   "cell_type": "markdown",
   "id": "b1f36b75",
   "metadata": {},
   "source": [
    "## `No Idea!`\n",
    "[Question Link](https://www.hackerrank.com/challenges/no-idea/problem)"
   ]
  },
  {
   "cell_type": "code",
   "execution_count": 33,
   "id": "b04eed9e",
   "metadata": {},
   "outputs": [
    {
     "name": "stdout",
     "output_type": "stream",
     "text": [
      "3 2\n",
      "1 5 3\n",
      "3 1\n",
      "5 7\n",
      "1\n"
     ]
    }
   ],
   "source": [
    "n,m = list(map(int,input().split()))\n",
    "arr = list(map(int,input().split()))\n",
    "A = set(map(int,input().split()))\n",
    "B = set(map(int,input().split()))\n",
    "sums = 0\n",
    "for i in arr:\n",
    "    if i in A:\n",
    "        sums = sums + 1\n",
    "    if i in B:\n",
    "        sums = sums - 1\n",
    "print(sums)"
   ]
  },
  {
   "cell_type": "markdown",
   "id": "48e4c9e8",
   "metadata": {},
   "source": [
    "## `Symmetric Difference`\n",
    "[Question Link plus set theory](https://www.hackerrank.com/challenges/symmetric-difference/problem)"
   ]
  },
  {
   "cell_type": "code",
   "execution_count": 45,
   "id": "fa0b1f80",
   "metadata": {},
   "outputs": [
    {
     "name": "stdout",
     "output_type": "stream",
     "text": [
      "5\n",
      "1 2 3 4 5\n",
      "4\n",
      "-10 2 3 6\n",
      "[-10, 1, 4, 5, 6]\n"
     ]
    }
   ],
   "source": [
    "m = int(input())\n",
    "set_m = set(map(int,input().split()))\n",
    "n = int(input())\n",
    "set_n = set(map(int,input().split()))\n",
    "sym_difference = sorted(list(set_m.symmetric_difference(set_n)))\n",
    "for i in sym_difference:\n",
    "    print(i)"
   ]
  },
  {
   "cell_type": "markdown",
   "id": "ce8b15b6",
   "metadata": {},
   "source": [
    "## `Set .add()`\n",
    "[Question Link](https://www.hackerrank.com/challenges/py-set-add/problem)"
   ]
  },
  {
   "cell_type": "code",
   "execution_count": 48,
   "id": "2277c8e9",
   "metadata": {},
   "outputs": [
    {
     "name": "stdout",
     "output_type": "stream",
     "text": [
      "3\n",
      "china\n",
      "india\n",
      "china\n",
      "2\n"
     ]
    }
   ],
   "source": [
    "n = int(input())\n",
    "sets = set()\n",
    "for i in range(n):\n",
    "    sets.add(input())\n",
    "print(len(sets))"
   ]
  },
  {
   "cell_type": "markdown",
   "id": "e663f045",
   "metadata": {},
   "source": [
    "## `Set .discard(), .remove() & .pop()`\n",
    "[Question link](https://www.hackerrank.com/challenges/py-set-discard-remove-pop/problem)"
   ]
  },
  {
   "cell_type": "code",
   "execution_count": 51,
   "id": "44be78df",
   "metadata": {},
   "outputs": [
    {
     "name": "stdout",
     "output_type": "stream",
     "text": [
      "9\n",
      "1 2 3 4 5 6 7 8 9\n",
      "10\n",
      "pop\n",
      "{2, 3, 4, 5, 6, 7, 8, 9}\n",
      "remove 9\n",
      "{2, 3, 4, 5, 6, 7, 8}\n",
      "discard 9\n",
      "remove 7\n",
      "{2, 3, 4, 5, 6, 8}\n",
      "discard 8\n",
      "pop\n",
      "{3, 4, 5, 6, 8}\n",
      "discard 6\n",
      "remove 5\n",
      "{3, 4, 6, 8}\n",
      "pop\n",
      "{4, 6, 8}\n",
      "discard 5\n",
      "18\n"
     ]
    }
   ],
   "source": [
    "n = int(input())\n",
    "arr = set(map(int,input().split()))\n",
    "m = int(input())\n",
    "for i in range(m):\n",
    "    command = input().split()\n",
    "    if command[0] == 'pop':\n",
    "        arr.pop()\n",
    "        \n",
    "    if command[0] == 'remove':\n",
    "        arr.remove(int(command[1]))\n",
    "        \n",
    "    if command[0] == 'discard':\n",
    "        arr.discard(int(command[1]))\n",
    "        \n",
    "print(sum(arr))"
   ]
  },
  {
   "cell_type": "markdown",
   "id": "5972da40",
   "metadata": {},
   "source": [
    "## `Set .union() Operation`\n",
    "[Question Link](https://www.hackerrank.com/challenges/py-set-union/problem)"
   ]
  },
  {
   "cell_type": "code",
   "execution_count": 53,
   "id": "80446435",
   "metadata": {},
   "outputs": [
    {
     "name": "stdout",
     "output_type": "stream",
     "text": [
      "9\n",
      "1 2 3 4 5 6 7 8 9\n",
      "9\n",
      "10 1 2 3 11 21 55 6 8\n",
      "13\n"
     ]
    }
   ],
   "source": [
    "n=int(input())\n",
    "eng_roll=set(map(int,input().split()))\n",
    "m=int(input())\n",
    "french_roll=set(map(int,input().split()))\n",
    "print(len(eng_roll.union(french_roll)))"
   ]
  },
  {
   "cell_type": "markdown",
   "id": "29b90a2e",
   "metadata": {},
   "source": [
    "## `Set .intersection() Operation`\n",
    "[Question Link](https://www.hackerrank.com/challenges/py-set-intersection-operation/problem)"
   ]
  },
  {
   "cell_type": "code",
   "execution_count": 1,
   "id": "b163936e",
   "metadata": {},
   "outputs": [
    {
     "name": "stdout",
     "output_type": "stream",
     "text": [
      "9\n",
      "1 2 3 4 5 6 7 8 9\n",
      "9\n",
      "10 1 2 3 11 21 55 6 8\n",
      "5\n"
     ]
    }
   ],
   "source": [
    "n=int(input())\n",
    "eng_roll=set(map(int,input().split()))\n",
    "m=int(input())\n",
    "french_roll=set(map(int,input().split()))\n",
    "print(len(eng_roll.intersection(french_roll)))"
   ]
  },
  {
   "cell_type": "markdown",
   "id": "7ca0c3dc",
   "metadata": {},
   "source": [
    "## `Set .difference() Operation`\n",
    "\n",
    "[Question Link](https://www.hackerrank.com/challenges/py-set-difference-operation/problem)"
   ]
  },
  {
   "cell_type": "code",
   "execution_count": 2,
   "id": "d7154268",
   "metadata": {},
   "outputs": [
    {
     "name": "stdout",
     "output_type": "stream",
     "text": [
      "9\n",
      "1 2 3 4 5 6 7 8 9\n",
      "9\n",
      "10 1 2 3 11 21 55 6 8\n",
      "4\n"
     ]
    }
   ],
   "source": [
    "n=int(input())\n",
    "eng_roll=set(map(int,input().split()))\n",
    "m=int(input())\n",
    "french_roll=set(map(int,input().split()))\n",
    "print(len(eng_roll.difference(french_roll)))"
   ]
  },
  {
   "cell_type": "markdown",
   "id": "952fad97",
   "metadata": {},
   "source": [
    "## `Set .symmetric_difference() Operation`\n",
    "[Question Link](https://www.hackerrank.com/challenges/py-set-symmetric-difference-operation/problem)"
   ]
  },
  {
   "cell_type": "code",
   "execution_count": 3,
   "id": "1c2f24ba",
   "metadata": {},
   "outputs": [
    {
     "name": "stdout",
     "output_type": "stream",
     "text": [
      "9\n",
      "1 2 3 4 5 6 7 8 9\n",
      "9\n",
      "10 1 2 3 11 21 55 6 8\n",
      "8\n"
     ]
    }
   ],
   "source": [
    "n=int(input())\n",
    "eng_roll=set(map(int,input().split()))\n",
    "m=int(input())\n",
    "french_roll=set(map(int,input().split()))\n",
    "print(len(eng_roll.symmetric_difference(french_roll)))\n"
   ]
  },
  {
   "cell_type": "markdown",
   "id": "1291cb11",
   "metadata": {},
   "source": [
    "## `Set Mutations`\n",
    "[Question Link](https://www.hackerrank.com/challenges/py-set-mutations/problem)"
   ]
  },
  {
   "cell_type": "code",
   "execution_count": null,
   "id": "b3c41b73",
   "metadata": {},
   "outputs": [],
   "source": [
    "_ = int(input())\n",
    "s1 = set(map(int, input().split()))\n",
    "N = int(input())\n",
    "\n",
    "for _ in range(N):\n",
    "    cmd, _ = input().split()\n",
    "    s2 = set(map(int, input().split()))\n",
    "    if(cmd == \"intersection_update\"):\n",
    "        s1.intersection_update(s2)\n",
    "    elif(cmd == \"update\"):\n",
    "        s1.update(s2)\n",
    "    elif(cmd == \"symmetric_difference_update\"):\n",
    "        s1.symmetric_difference_update(s2)\n",
    "    elif(cmd == \"difference_update\"):\n",
    "        s1.difference_update(s2)\n",
    "\n",
    "print(sum(s1))"
   ]
  },
  {
   "cell_type": "markdown",
   "id": "6efb677d",
   "metadata": {},
   "source": [
    "## `The Captain's Room`\n",
    "[Question link](https://www.hackerrank.com/challenges/py-the-captains-room/problem)"
   ]
  },
  {
   "cell_type": "code",
   "execution_count": null,
   "id": "2b3c6d55",
   "metadata": {},
   "outputs": [],
   "source": [
    "k,arr = int(input()),list(map(int, input().split()))\n",
    "myset = set(arr)\n",
    "print((sum(myset)*k - sum(arr))//(k-1))"
   ]
  },
  {
   "cell_type": "markdown",
   "id": "417787e2",
   "metadata": {},
   "source": [
    "## `Check Subset`\n",
    "[Question Link](https://www.hackerrank.com/challenges/py-check-subset/problem)"
   ]
  },
  {
   "cell_type": "code",
   "execution_count": null,
   "id": "a57348a6",
   "metadata": {},
   "outputs": [],
   "source": [
    "n = int(input())\n",
    "for i in range(n):\n",
    "    n_A = int(input())\n",
    "    A = set(map(int,input().split()))\n",
    "    n_B = int(input())\n",
    "    B = set(map(int,input().split()))\n",
    "    if A.issubset(B):\n",
    "        print(True)\n",
    "    else:\n",
    "        print(False)"
   ]
  },
  {
   "cell_type": "markdown",
   "id": "a87928b2",
   "metadata": {},
   "source": [
    "## `Check Strict Superset`\n",
    "[Question Link](https://www.hackerrank.com/challenges/py-check-strict-superset/problem)"
   ]
  },
  {
   "cell_type": "code",
   "execution_count": null,
   "id": "b08cbe33",
   "metadata": {},
   "outputs": [],
   "source": [
    "A = set(map(int,input().split()))\n",
    "n = int(input())\n",
    "count = 0\n",
    "for i in range(n):\n",
    "    B = set(map(int,input().split()))\n",
    "    if A.issuperset(B):\n",
    "        count += 1\n",
    "if count == n:\n",
    "    print(True)\n",
    "else:\n",
    "    print(False)"
   ]
  },
  {
   "cell_type": "markdown",
   "id": "2f96ab09",
   "metadata": {},
   "source": [
    "## `End Of Task2 ------------------------------------------------`"
   ]
  }
 ],
 "metadata": {
  "kernelspec": {
   "display_name": "Python 3",
   "language": "python",
   "name": "python3"
  },
  "language_info": {
   "codemirror_mode": {
    "name": "ipython",
    "version": 3
   },
   "file_extension": ".py",
   "mimetype": "text/x-python",
   "name": "python",
   "nbconvert_exporter": "python",
   "pygments_lexer": "ipython3",
   "version": "3.8.8"
  }
 },
 "nbformat": 4,
 "nbformat_minor": 5
}
