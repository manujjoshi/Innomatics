{
 "cells": [
  {
   "cell_type": "markdown",
   "id": "fe6779eb",
   "metadata": {},
   "source": [
    "## `Group(), Groups() & Groupdict()`\n",
    "#### [match vs search](https://www.geeksforgeeks.org/python-re-search-vs-re-match/)\n",
    "#### group()\n",
    "- A group() expression returns one or more subgroups of the match."
   ]
  },
  {
   "cell_type": "code",
   "execution_count": 2,
   "id": "5f5ef097",
   "metadata": {},
   "outputs": [
    {
     "name": "stdout",
     "output_type": "stream",
     "text": [
      "username@hackerrank.com\n",
      "username\n",
      "hackerrank\n",
      "com\n",
      "('username', 'hackerrank', 'com')\n"
     ]
    }
   ],
   "source": [
    "import re\n",
    "m = re.match(r'(\\w+)@(\\w+)\\.(\\w+)','username@hackerrank.com')\n",
    "print(m.group(0))       # The entire match \n",
    "\n",
    "print(m.group(1))       # The first parenthesized subgroup.\n",
    "\n",
    "print(m.group(2))       # The second parenthesized subgroup.\n",
    "\n",
    "print(m.group(3))       # The third parenthesized subgroup.\n",
    "\n",
    "print(m.group(1,2,3))   # Multiple arguments give us a tuple."
   ]
  },
  {
   "cell_type": "markdown",
   "id": "5343508c",
   "metadata": {},
   "source": [
    "#### groups()\n",
    "- A groups() expression returns a tuple containing all the subgroups of the match."
   ]
  },
  {
   "cell_type": "code",
   "execution_count": 3,
   "id": "f0a87f6b",
   "metadata": {},
   "outputs": [
    {
     "name": "stdout",
     "output_type": "stream",
     "text": [
      "('username', 'hackerrank', 'com')\n"
     ]
    }
   ],
   "source": [
    " import re\n",
    "m = re.match(r'(\\w+)@(\\w+)\\.(\\w+)','username@hackerrank.com')\n",
    "print(m.groups())"
   ]
  },
  {
   "cell_type": "markdown",
   "id": "5a00ed5e",
   "metadata": {},
   "source": [
    "#### groupdict()\n",
    "- A groupdict() expression returns a dictionary containing all the named subgroups of the match, keyed by the subgroup name."
   ]
  },
  {
   "cell_type": "code",
   "execution_count": 4,
   "id": "e67139c6",
   "metadata": {},
   "outputs": [
    {
     "name": "stdout",
     "output_type": "stream",
     "text": [
      "{'user': 'myname', 'website': 'hackerrank', 'extension': 'com'}\n"
     ]
    }
   ],
   "source": [
    "m = re.match(r'(?P<user>\\w+)@(?P<website>\\w+)\\.(?P<extension>\\w+)','myname@hackerrank.com')\n",
    "print(m.groupdict())"
   ]
  },
  {
   "cell_type": "markdown",
   "id": "8fe2d27f",
   "metadata": {},
   "source": [
    "## `Re.findall() & Re.finditer()`\n",
    "\n",
    "#### re.findall()\n",
    "- The expression re.findall() returns all the non-overlapping matches of patterns in a string as a list of strings."
   ]
  },
  {
   "cell_type": "code",
   "execution_count": 6,
   "id": "01819202",
   "metadata": {},
   "outputs": [
    {
     "name": "stdout",
     "output_type": "stream",
     "text": [
      "['h', 't', 't', 'p', 'w', 'w', 'w', 'h', 'a', 'c', 'k', 'e', 'r', 'r', 'a', 'n', 'k', 'c', 'o', 'm']\n"
     ]
    }
   ],
   "source": [
    "import re\n",
    "print(re.findall(r'\\w','http://www.hackerrank.com/'))"
   ]
  },
  {
   "cell_type": "markdown",
   "id": "9d756f5d",
   "metadata": {},
   "source": [
    "#### re.finditer()\n",
    "- The expression re.finditer() returns an iterator yielding MatchObject instances over all non-overlapping matches for the re pattern in the string."
   ]
  },
  {
   "cell_type": "code",
   "execution_count": 10,
   "id": "275c10c4",
   "metadata": {},
   "outputs": [
    {
     "name": "stdout",
     "output_type": "stream",
     "text": [
      "<callable_iterator object at 0x000001DECD036AC0>\n",
      "['h', 't', 't', 'p', 'w', 'w', 'w', 'h', 'a', 'c', 'k', 'e', 'r', 'r', 'a', 'n', 'k', 'c', 'o', 'm']\n"
     ]
    }
   ],
   "source": [
    "import re\n",
    "print(re.finditer(r'\\w','http://www.hackerrank.com/'))\n",
    "## <callable-iterator object at 0x0266C790>\n",
    "print(list(map(lambda x: x.group(),re.finditer(r'\\w','http://www.hackerrank.com/'))))"
   ]
  },
  {
   "cell_type": "markdown",
   "id": "3e8051c5",
   "metadata": {},
   "source": [
    "## `start() & end()`\n",
    "- These expressions return the indices of the start and end of the substring matched by the group."
   ]
  },
  {
   "cell_type": "code",
   "execution_count": 11,
   "id": "e4273f3f",
   "metadata": {},
   "outputs": [
    {
     "name": "stdout",
     "output_type": "stream",
     "text": [
      "4\n",
      "0\n"
     ]
    }
   ],
   "source": [
    "import re\n",
    "m = re.search(r'\\d+','1234')\n",
    "print(m.end())\n",
    "print(m.start())"
   ]
  },
  {
   "cell_type": "markdown",
   "id": "689c03c2",
   "metadata": {},
   "source": [
    "## `Regex Substitution`\n",
    "The re.sub() tool (sub stands for substitution) evaluates a pattern and, for each valid match, it calls a method (or lambda).\n",
    "The method is called for all matches and can be used to modify strings in different ways.\n",
    "The re.sub() method returns the modified string as an output.\n",
    "\n",
    "Learn more about [re.sub()](https://lzone.de/examples/Python%20re.sub)\n",
    "\n",
    "**Transformation of Strings**"
   ]
  },
  {
   "cell_type": "code",
   "execution_count": 14,
   "id": "a1407547",
   "metadata": {},
   "outputs": [
    {
     "name": "stdout",
     "output_type": "stream",
     "text": [
      "1 4 9 16 25 36 49 64 81\n"
     ]
    }
   ],
   "source": [
    "import re\n",
    "\n",
    "#Squaring numbers\n",
    "def square(match):\n",
    "    number = int(match.group(0))\n",
    "    return str(number**2)\n",
    "\n",
    "print(re.sub(r\"\\d+\", square, \"1 2 3 4 5 6 7 8 9\"))"
   ]
  },
  {
   "cell_type": "markdown",
   "id": "12c5a6b9",
   "metadata": {},
   "source": [
    "**Repalcement in Strings**"
   ]
  },
  {
   "cell_type": "code",
   "execution_count": 15,
   "id": "0b253db6",
   "metadata": {},
   "outputs": [
    {
     "name": "stdout",
     "output_type": "stream",
     "text": [
      "\n",
      "<head>\n",
      "<title>HTML</title>\n",
      "</head>\n",
      "<object type=\"application/x-flash\" \n",
      "  data=\"your-file.swf\" \n",
      "  width=\"0\" height=\"0\">\n",
      "  \n",
      "  <param name=\"quality\" value=\"high\"/>\n",
      "</object>\n",
      "\n"
     ]
    }
   ],
   "source": [
    "import re\n",
    "\n",
    "html = \"\"\"\n",
    "<head>\n",
    "<title>HTML</title>\n",
    "</head>\n",
    "<object type=\"application/x-flash\" \n",
    "  data=\"your-file.swf\" \n",
    "  width=\"0\" height=\"0\">\n",
    "  <!-- <param name=\"movie\"  value=\"your-file.swf\" /> -->\n",
    "  <param name=\"quality\" value=\"high\"/>\n",
    "</object>\n",
    "\"\"\"\n",
    "\n",
    "print(re.sub(\"(<!--.*?-->)\", \"\", html)) #remove comment"
   ]
  },
  {
   "cell_type": "code",
   "execution_count": null,
   "id": "62cb3c9b",
   "metadata": {},
   "outputs": [],
   "source": []
  }
 ],
 "metadata": {
  "kernelspec": {
   "display_name": "Python 3",
   "language": "python",
   "name": "python3"
  },
  "language_info": {
   "codemirror_mode": {
    "name": "ipython",
    "version": 3
   },
   "file_extension": ".py",
   "mimetype": "text/x-python",
   "name": "python",
   "nbconvert_exporter": "python",
   "pygments_lexer": "ipython3",
   "version": "3.8.8"
  }
 },
 "nbformat": 4,
 "nbformat_minor": 5
}
