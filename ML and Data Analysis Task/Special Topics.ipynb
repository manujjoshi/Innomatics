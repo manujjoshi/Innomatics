{
 "cells": [
  {
   "cell_type": "markdown",
   "id": "c4b82867",
   "metadata": {},
   "source": [
    "### [Kanav sir github](https://github.com/bansalkanav/Machine_Learning_and_Deep_Learning)\n",
    "### `List comprehensions`"
   ]
  },
  {
   "cell_type": "code",
   "execution_count": 1,
   "id": "282e899c",
   "metadata": {},
   "outputs": [
    {
     "data": {
      "text/plain": [
       "[1, 100, 4, 16, 49]"
      ]
     },
     "execution_count": 1,
     "metadata": {},
     "output_type": "execute_result"
    }
   ],
   "source": [
    "lst1 = [1,10,2,4,7]\n",
    "lst2 = [i**2 for i in lst1]\n",
    "lst2"
   ]
  },
  {
   "cell_type": "code",
   "execution_count": 2,
   "id": "93e72037",
   "metadata": {},
   "outputs": [
    {
     "data": {
      "text/plain": [
       "[1, 1000, 8, 64, 343]"
      ]
     },
     "execution_count": 2,
     "metadata": {},
     "output_type": "execute_result"
    }
   ],
   "source": [
    "lst3 = [i**3\n",
    "        for i in lst1]\n",
    "lst3"
   ]
  },
  {
   "cell_type": "code",
   "execution_count": 3,
   "id": "d43980e4",
   "metadata": {},
   "outputs": [
    {
     "data": {
      "text/plain": [
       "[1, 49]"
      ]
     },
     "execution_count": 3,
     "metadata": {},
     "output_type": "execute_result"
    }
   ],
   "source": [
    "lst4 = [i**2 for i in lst1 if i%2!=0]\n",
    "lst4"
   ]
  },
  {
   "cell_type": "markdown",
   "id": "824a1da0",
   "metadata": {},
   "source": [
    "### `Labmda function`"
   ]
  },
  {
   "cell_type": "code",
   "execution_count": 4,
   "id": "6f935da0",
   "metadata": {},
   "outputs": [],
   "source": [
    "square = lambda x:x**2   # no more a anonymous function"
   ]
  },
  {
   "cell_type": "code",
   "execution_count": 5,
   "id": "0941ca94",
   "metadata": {},
   "outputs": [
    {
     "data": {
      "text/plain": [
       "25"
      ]
     },
     "execution_count": 5,
     "metadata": {},
     "output_type": "execute_result"
    }
   ],
   "source": [
    "square(5)"
   ]
  },
  {
   "cell_type": "markdown",
   "id": "2cef2132",
   "metadata": {},
   "source": [
    "### `Ternary operator`"
   ]
  },
  {
   "cell_type": "code",
   "execution_count": 6,
   "id": "288ccf44",
   "metadata": {},
   "outputs": [],
   "source": [
    "# 1 if x%2==0 else 0 "
   ]
  },
  {
   "cell_type": "markdown",
   "id": "226cce73",
   "metadata": {},
   "source": [
    "### `Handling Missing Values`\n",
    "- KNN imputer "
   ]
  },
  {
   "cell_type": "markdown",
   "id": "8cb2dea7",
   "metadata": {},
   "source": [
    "### `Case Study`"
   ]
  },
  {
   "cell_type": "code",
   "execution_count": 7,
   "id": "460b6f7c",
   "metadata": {},
   "outputs": [],
   "source": [
    "import pandas as pd\n",
    "import numpy as np"
   ]
  },
  {
   "cell_type": "code",
   "execution_count": 8,
   "id": "800c7b75",
   "metadata": {},
   "outputs": [
    {
     "data": {
      "text/html": [
       "<div>\n",
       "<style scoped>\n",
       "    .dataframe tbody tr th:only-of-type {\n",
       "        vertical-align: middle;\n",
       "    }\n",
       "\n",
       "    .dataframe tbody tr th {\n",
       "        vertical-align: top;\n",
       "    }\n",
       "\n",
       "    .dataframe thead th {\n",
       "        text-align: right;\n",
       "    }\n",
       "</style>\n",
       "<table border=\"1\" class=\"dataframe\">\n",
       "  <thead>\n",
       "    <tr style=\"text-align: right;\">\n",
       "      <th></th>\n",
       "      <th>car_ID</th>\n",
       "      <th>symboling</th>\n",
       "      <th>CarName</th>\n",
       "      <th>fueltype</th>\n",
       "      <th>aspiration</th>\n",
       "      <th>doornumber</th>\n",
       "      <th>carbody</th>\n",
       "      <th>drivewheel</th>\n",
       "      <th>enginelocation</th>\n",
       "      <th>wheelbase</th>\n",
       "      <th>...</th>\n",
       "      <th>enginesize</th>\n",
       "      <th>fuelsystem</th>\n",
       "      <th>boreratio</th>\n",
       "      <th>stroke</th>\n",
       "      <th>compressionratio</th>\n",
       "      <th>horsepower</th>\n",
       "      <th>peakrpm</th>\n",
       "      <th>citympg</th>\n",
       "      <th>highwaympg</th>\n",
       "      <th>price</th>\n",
       "    </tr>\n",
       "  </thead>\n",
       "  <tbody>\n",
       "    <tr>\n",
       "      <th>0</th>\n",
       "      <td>1</td>\n",
       "      <td>3</td>\n",
       "      <td>alfa-romero giulia</td>\n",
       "      <td>gas</td>\n",
       "      <td>std</td>\n",
       "      <td>two</td>\n",
       "      <td>convertible</td>\n",
       "      <td>rwd</td>\n",
       "      <td>front</td>\n",
       "      <td>88.6</td>\n",
       "      <td>...</td>\n",
       "      <td>130</td>\n",
       "      <td>mpfi</td>\n",
       "      <td>3.47</td>\n",
       "      <td>2.68</td>\n",
       "      <td>9.0</td>\n",
       "      <td>111</td>\n",
       "      <td>5000</td>\n",
       "      <td>21</td>\n",
       "      <td>27</td>\n",
       "      <td>13495.0</td>\n",
       "    </tr>\n",
       "    <tr>\n",
       "      <th>1</th>\n",
       "      <td>2</td>\n",
       "      <td>3</td>\n",
       "      <td>alfa-romero stelvio</td>\n",
       "      <td>gas</td>\n",
       "      <td>std</td>\n",
       "      <td>two</td>\n",
       "      <td>convertible</td>\n",
       "      <td>rwd</td>\n",
       "      <td>front</td>\n",
       "      <td>88.6</td>\n",
       "      <td>...</td>\n",
       "      <td>130</td>\n",
       "      <td>mpfi</td>\n",
       "      <td>3.47</td>\n",
       "      <td>2.68</td>\n",
       "      <td>9.0</td>\n",
       "      <td>111</td>\n",
       "      <td>5000</td>\n",
       "      <td>21</td>\n",
       "      <td>27</td>\n",
       "      <td>16500.0</td>\n",
       "    </tr>\n",
       "    <tr>\n",
       "      <th>2</th>\n",
       "      <td>3</td>\n",
       "      <td>1</td>\n",
       "      <td>alfa-romero Quadrifoglio</td>\n",
       "      <td>gas</td>\n",
       "      <td>std</td>\n",
       "      <td>two</td>\n",
       "      <td>hatchback</td>\n",
       "      <td>rwd</td>\n",
       "      <td>front</td>\n",
       "      <td>94.5</td>\n",
       "      <td>...</td>\n",
       "      <td>152</td>\n",
       "      <td>mpfi</td>\n",
       "      <td>2.68</td>\n",
       "      <td>3.47</td>\n",
       "      <td>9.0</td>\n",
       "      <td>154</td>\n",
       "      <td>5000</td>\n",
       "      <td>19</td>\n",
       "      <td>26</td>\n",
       "      <td>16500.0</td>\n",
       "    </tr>\n",
       "    <tr>\n",
       "      <th>3</th>\n",
       "      <td>4</td>\n",
       "      <td>2</td>\n",
       "      <td>audi 100 ls</td>\n",
       "      <td>gas</td>\n",
       "      <td>std</td>\n",
       "      <td>four</td>\n",
       "      <td>sedan</td>\n",
       "      <td>fwd</td>\n",
       "      <td>front</td>\n",
       "      <td>99.8</td>\n",
       "      <td>...</td>\n",
       "      <td>109</td>\n",
       "      <td>mpfi</td>\n",
       "      <td>3.19</td>\n",
       "      <td>3.40</td>\n",
       "      <td>10.0</td>\n",
       "      <td>102</td>\n",
       "      <td>5500</td>\n",
       "      <td>24</td>\n",
       "      <td>30</td>\n",
       "      <td>13950.0</td>\n",
       "    </tr>\n",
       "    <tr>\n",
       "      <th>4</th>\n",
       "      <td>5</td>\n",
       "      <td>2</td>\n",
       "      <td>audi 100ls</td>\n",
       "      <td>gas</td>\n",
       "      <td>std</td>\n",
       "      <td>four</td>\n",
       "      <td>sedan</td>\n",
       "      <td>4wd</td>\n",
       "      <td>front</td>\n",
       "      <td>99.4</td>\n",
       "      <td>...</td>\n",
       "      <td>136</td>\n",
       "      <td>mpfi</td>\n",
       "      <td>3.19</td>\n",
       "      <td>3.40</td>\n",
       "      <td>8.0</td>\n",
       "      <td>115</td>\n",
       "      <td>5500</td>\n",
       "      <td>18</td>\n",
       "      <td>22</td>\n",
       "      <td>17450.0</td>\n",
       "    </tr>\n",
       "  </tbody>\n",
       "</table>\n",
       "<p>5 rows × 26 columns</p>\n",
       "</div>"
      ],
      "text/plain": [
       "   car_ID  symboling                   CarName fueltype aspiration doornumber  \\\n",
       "0       1          3        alfa-romero giulia      gas        std        two   \n",
       "1       2          3       alfa-romero stelvio      gas        std        two   \n",
       "2       3          1  alfa-romero Quadrifoglio      gas        std        two   \n",
       "3       4          2               audi 100 ls      gas        std       four   \n",
       "4       5          2                audi 100ls      gas        std       four   \n",
       "\n",
       "       carbody drivewheel enginelocation  wheelbase  ...  enginesize  \\\n",
       "0  convertible        rwd          front       88.6  ...         130   \n",
       "1  convertible        rwd          front       88.6  ...         130   \n",
       "2    hatchback        rwd          front       94.5  ...         152   \n",
       "3        sedan        fwd          front       99.8  ...         109   \n",
       "4        sedan        4wd          front       99.4  ...         136   \n",
       "\n",
       "   fuelsystem  boreratio  stroke compressionratio horsepower  peakrpm citympg  \\\n",
       "0        mpfi       3.47    2.68              9.0        111     5000      21   \n",
       "1        mpfi       3.47    2.68              9.0        111     5000      21   \n",
       "2        mpfi       2.68    3.47              9.0        154     5000      19   \n",
       "3        mpfi       3.19    3.40             10.0        102     5500      24   \n",
       "4        mpfi       3.19    3.40              8.0        115     5500      18   \n",
       "\n",
       "   highwaympg    price  \n",
       "0          27  13495.0  \n",
       "1          27  16500.0  \n",
       "2          26  16500.0  \n",
       "3          30  13950.0  \n",
       "4          22  17450.0  \n",
       "\n",
       "[5 rows x 26 columns]"
      ]
     },
     "execution_count": 8,
     "metadata": {},
     "output_type": "execute_result"
    }
   ],
   "source": [
    "data = pd.read_csv('CarPrice_Assignment.csv')\n",
    "data.head()"
   ]
  },
  {
   "cell_type": "code",
   "execution_count": 9,
   "id": "8a42be32",
   "metadata": {},
   "outputs": [
    {
     "data": {
      "text/plain": [
       "Index(['car_ID', 'symboling', 'CarName', 'fueltype', 'aspiration',\n",
       "       'doornumber', 'carbody', 'drivewheel', 'enginelocation', 'wheelbase',\n",
       "       'carlength', 'carwidth', 'carheight', 'curbweight', 'enginetype',\n",
       "       'cylindernumber', 'enginesize', 'fuelsystem', 'boreratio', 'stroke',\n",
       "       'compressionratio', 'horsepower', 'peakrpm', 'citympg', 'highwaympg',\n",
       "       'price'],\n",
       "      dtype='object')"
      ]
     },
     "execution_count": 9,
     "metadata": {},
     "output_type": "execute_result"
    }
   ],
   "source": [
    "data.columns"
   ]
  },
  {
   "cell_type": "code",
   "execution_count": 10,
   "id": "733b9752",
   "metadata": {},
   "outputs": [],
   "source": [
    "data = data.rename(columns={'car_ID': 'Car ID','symboling':'Symboling',\n",
    "                           'CarName':'Car Name','fueltype':'Fuel Type',\n",
    "                            'aspiration':'Aspiration','doornumber':'Door Number',\n",
    "                            'carbody':'Car Body','drivewheel':'Drive Wheel',\n",
    "                            'enginelocation':'Engine Location','wheelbase':'Wheel Base',\n",
    "                            'carlength':'Car Length','carwidth':'Car Width',\n",
    "                            'carheight':'Car Height','curbweight':'Curb Weight',\n",
    "                            'enginetype':'Engine Type','cylindernumber':'Cylinder Number',\n",
    "                            'enginesize':'Engine Size','fuelsystem':'Fuel System',\n",
    "                            'boreratio':'Bore Ratio','stroke':'Stroke',\n",
    "                            'compressionratio':'Compression Ratio','horsepower':'Horsepower',\n",
    "                            'peakrpm':'Peak Rpm','citympg':'City Mpg','highwaympg':'Highway Mpg',\n",
    "                            'price':'Price'\n",
    "                           })"
   ]
  },
  {
   "cell_type": "code",
   "execution_count": 11,
   "id": "ac6154f9",
   "metadata": {},
   "outputs": [
    {
     "data": {
      "text/html": [
       "<div>\n",
       "<style scoped>\n",
       "    .dataframe tbody tr th:only-of-type {\n",
       "        vertical-align: middle;\n",
       "    }\n",
       "\n",
       "    .dataframe tbody tr th {\n",
       "        vertical-align: top;\n",
       "    }\n",
       "\n",
       "    .dataframe thead th {\n",
       "        text-align: right;\n",
       "    }\n",
       "</style>\n",
       "<table border=\"1\" class=\"dataframe\">\n",
       "  <thead>\n",
       "    <tr style=\"text-align: right;\">\n",
       "      <th></th>\n",
       "      <th>Car ID</th>\n",
       "      <th>Symboling</th>\n",
       "      <th>Car Name</th>\n",
       "      <th>Fuel Type</th>\n",
       "      <th>Aspiration</th>\n",
       "      <th>Door Number</th>\n",
       "      <th>Car Body</th>\n",
       "      <th>Drive Wheel</th>\n",
       "      <th>Engine Location</th>\n",
       "      <th>Wheel Base</th>\n",
       "      <th>...</th>\n",
       "      <th>Engine Size</th>\n",
       "      <th>Fuel System</th>\n",
       "      <th>Bore Ratio</th>\n",
       "      <th>Stroke</th>\n",
       "      <th>Compression Ratio</th>\n",
       "      <th>Horsepower</th>\n",
       "      <th>Peak Rpm</th>\n",
       "      <th>City Mpg</th>\n",
       "      <th>Highway Mpg</th>\n",
       "      <th>Price</th>\n",
       "    </tr>\n",
       "  </thead>\n",
       "  <tbody>\n",
       "    <tr>\n",
       "      <th>0</th>\n",
       "      <td>1</td>\n",
       "      <td>3</td>\n",
       "      <td>alfa-romero giulia</td>\n",
       "      <td>gas</td>\n",
       "      <td>std</td>\n",
       "      <td>two</td>\n",
       "      <td>convertible</td>\n",
       "      <td>rwd</td>\n",
       "      <td>front</td>\n",
       "      <td>88.6</td>\n",
       "      <td>...</td>\n",
       "      <td>130</td>\n",
       "      <td>mpfi</td>\n",
       "      <td>3.47</td>\n",
       "      <td>2.68</td>\n",
       "      <td>9.0</td>\n",
       "      <td>111</td>\n",
       "      <td>5000</td>\n",
       "      <td>21</td>\n",
       "      <td>27</td>\n",
       "      <td>13495.0</td>\n",
       "    </tr>\n",
       "    <tr>\n",
       "      <th>1</th>\n",
       "      <td>2</td>\n",
       "      <td>3</td>\n",
       "      <td>alfa-romero stelvio</td>\n",
       "      <td>gas</td>\n",
       "      <td>std</td>\n",
       "      <td>two</td>\n",
       "      <td>convertible</td>\n",
       "      <td>rwd</td>\n",
       "      <td>front</td>\n",
       "      <td>88.6</td>\n",
       "      <td>...</td>\n",
       "      <td>130</td>\n",
       "      <td>mpfi</td>\n",
       "      <td>3.47</td>\n",
       "      <td>2.68</td>\n",
       "      <td>9.0</td>\n",
       "      <td>111</td>\n",
       "      <td>5000</td>\n",
       "      <td>21</td>\n",
       "      <td>27</td>\n",
       "      <td>16500.0</td>\n",
       "    </tr>\n",
       "    <tr>\n",
       "      <th>2</th>\n",
       "      <td>3</td>\n",
       "      <td>1</td>\n",
       "      <td>alfa-romero Quadrifoglio</td>\n",
       "      <td>gas</td>\n",
       "      <td>std</td>\n",
       "      <td>two</td>\n",
       "      <td>hatchback</td>\n",
       "      <td>rwd</td>\n",
       "      <td>front</td>\n",
       "      <td>94.5</td>\n",
       "      <td>...</td>\n",
       "      <td>152</td>\n",
       "      <td>mpfi</td>\n",
       "      <td>2.68</td>\n",
       "      <td>3.47</td>\n",
       "      <td>9.0</td>\n",
       "      <td>154</td>\n",
       "      <td>5000</td>\n",
       "      <td>19</td>\n",
       "      <td>26</td>\n",
       "      <td>16500.0</td>\n",
       "    </tr>\n",
       "    <tr>\n",
       "      <th>3</th>\n",
       "      <td>4</td>\n",
       "      <td>2</td>\n",
       "      <td>audi 100 ls</td>\n",
       "      <td>gas</td>\n",
       "      <td>std</td>\n",
       "      <td>four</td>\n",
       "      <td>sedan</td>\n",
       "      <td>fwd</td>\n",
       "      <td>front</td>\n",
       "      <td>99.8</td>\n",
       "      <td>...</td>\n",
       "      <td>109</td>\n",
       "      <td>mpfi</td>\n",
       "      <td>3.19</td>\n",
       "      <td>3.40</td>\n",
       "      <td>10.0</td>\n",
       "      <td>102</td>\n",
       "      <td>5500</td>\n",
       "      <td>24</td>\n",
       "      <td>30</td>\n",
       "      <td>13950.0</td>\n",
       "    </tr>\n",
       "    <tr>\n",
       "      <th>4</th>\n",
       "      <td>5</td>\n",
       "      <td>2</td>\n",
       "      <td>audi 100ls</td>\n",
       "      <td>gas</td>\n",
       "      <td>std</td>\n",
       "      <td>four</td>\n",
       "      <td>sedan</td>\n",
       "      <td>4wd</td>\n",
       "      <td>front</td>\n",
       "      <td>99.4</td>\n",
       "      <td>...</td>\n",
       "      <td>136</td>\n",
       "      <td>mpfi</td>\n",
       "      <td>3.19</td>\n",
       "      <td>3.40</td>\n",
       "      <td>8.0</td>\n",
       "      <td>115</td>\n",
       "      <td>5500</td>\n",
       "      <td>18</td>\n",
       "      <td>22</td>\n",
       "      <td>17450.0</td>\n",
       "    </tr>\n",
       "  </tbody>\n",
       "</table>\n",
       "<p>5 rows × 26 columns</p>\n",
       "</div>"
      ],
      "text/plain": [
       "   Car ID  Symboling                  Car Name Fuel Type Aspiration  \\\n",
       "0       1          3        alfa-romero giulia       gas        std   \n",
       "1       2          3       alfa-romero stelvio       gas        std   \n",
       "2       3          1  alfa-romero Quadrifoglio       gas        std   \n",
       "3       4          2               audi 100 ls       gas        std   \n",
       "4       5          2                audi 100ls       gas        std   \n",
       "\n",
       "  Door Number     Car Body Drive Wheel Engine Location  Wheel Base  ...  \\\n",
       "0         two  convertible         rwd           front        88.6  ...   \n",
       "1         two  convertible         rwd           front        88.6  ...   \n",
       "2         two    hatchback         rwd           front        94.5  ...   \n",
       "3        four        sedan         fwd           front        99.8  ...   \n",
       "4        four        sedan         4wd           front        99.4  ...   \n",
       "\n",
       "   Engine Size  Fuel System  Bore Ratio  Stroke Compression Ratio Horsepower  \\\n",
       "0          130         mpfi        3.47    2.68               9.0        111   \n",
       "1          130         mpfi        3.47    2.68               9.0        111   \n",
       "2          152         mpfi        2.68    3.47               9.0        154   \n",
       "3          109         mpfi        3.19    3.40              10.0        102   \n",
       "4          136         mpfi        3.19    3.40               8.0        115   \n",
       "\n",
       "   Peak Rpm City Mpg  Highway Mpg    Price  \n",
       "0      5000       21           27  13495.0  \n",
       "1      5000       21           27  16500.0  \n",
       "2      5000       19           26  16500.0  \n",
       "3      5500       24           30  13950.0  \n",
       "4      5500       18           22  17450.0  \n",
       "\n",
       "[5 rows x 26 columns]"
      ]
     },
     "execution_count": 11,
     "metadata": {},
     "output_type": "execute_result"
    }
   ],
   "source": [
    "data.head()"
   ]
  },
  {
   "cell_type": "markdown",
   "id": "26bc9a8b",
   "metadata": {},
   "source": [
    "#### `Kanav sir Strategy`\n",
    "- **snake casing**\n",
    "    - convert column names to lower case\n",
    "    - try to remove all spaces with underscore"
   ]
  },
  {
   "cell_type": "code",
   "execution_count": 12,
   "id": "9cb254c2",
   "metadata": {},
   "outputs": [],
   "source": [
    "col_names = [col.lower().replace(' ','_') for col in data.columns]"
   ]
  },
  {
   "cell_type": "code",
   "execution_count": 13,
   "id": "feef6f4a",
   "metadata": {},
   "outputs": [
    {
     "data": {
      "text/plain": [
       "['car_id',\n",
       " 'symboling',\n",
       " 'car_name',\n",
       " 'fuel_type',\n",
       " 'aspiration',\n",
       " 'door_number',\n",
       " 'car_body',\n",
       " 'drive_wheel',\n",
       " 'engine_location',\n",
       " 'wheel_base',\n",
       " 'car_length',\n",
       " 'car_width',\n",
       " 'car_height',\n",
       " 'curb_weight',\n",
       " 'engine_type',\n",
       " 'cylinder_number',\n",
       " 'engine_size',\n",
       " 'fuel_system',\n",
       " 'bore_ratio',\n",
       " 'stroke',\n",
       " 'compression_ratio',\n",
       " 'horsepower',\n",
       " 'peak_rpm',\n",
       " 'city_mpg',\n",
       " 'highway_mpg',\n",
       " 'price']"
      ]
     },
     "execution_count": 13,
     "metadata": {},
     "output_type": "execute_result"
    }
   ],
   "source": [
    "col_names"
   ]
  },
  {
   "cell_type": "markdown",
   "id": "ca410c44",
   "metadata": {},
   "source": [
    "#### `col.strip().lower() if column name contains unnecessary spaces`"
   ]
  },
  {
   "cell_type": "code",
   "execution_count": 14,
   "id": "2e8e9a4d",
   "metadata": {},
   "outputs": [],
   "source": [
    "data.columns = col_names"
   ]
  },
  {
   "cell_type": "code",
   "execution_count": 15,
   "id": "b69ac4f0",
   "metadata": {},
   "outputs": [
    {
     "data": {
      "text/html": [
       "<div>\n",
       "<style scoped>\n",
       "    .dataframe tbody tr th:only-of-type {\n",
       "        vertical-align: middle;\n",
       "    }\n",
       "\n",
       "    .dataframe tbody tr th {\n",
       "        vertical-align: top;\n",
       "    }\n",
       "\n",
       "    .dataframe thead th {\n",
       "        text-align: right;\n",
       "    }\n",
       "</style>\n",
       "<table border=\"1\" class=\"dataframe\">\n",
       "  <thead>\n",
       "    <tr style=\"text-align: right;\">\n",
       "      <th></th>\n",
       "      <th>car_id</th>\n",
       "      <th>symboling</th>\n",
       "      <th>car_name</th>\n",
       "      <th>fuel_type</th>\n",
       "      <th>aspiration</th>\n",
       "      <th>door_number</th>\n",
       "      <th>car_body</th>\n",
       "      <th>drive_wheel</th>\n",
       "      <th>engine_location</th>\n",
       "      <th>wheel_base</th>\n",
       "      <th>...</th>\n",
       "      <th>engine_size</th>\n",
       "      <th>fuel_system</th>\n",
       "      <th>bore_ratio</th>\n",
       "      <th>stroke</th>\n",
       "      <th>compression_ratio</th>\n",
       "      <th>horsepower</th>\n",
       "      <th>peak_rpm</th>\n",
       "      <th>city_mpg</th>\n",
       "      <th>highway_mpg</th>\n",
       "      <th>price</th>\n",
       "    </tr>\n",
       "  </thead>\n",
       "  <tbody>\n",
       "    <tr>\n",
       "      <th>0</th>\n",
       "      <td>1</td>\n",
       "      <td>3</td>\n",
       "      <td>alfa-romero giulia</td>\n",
       "      <td>gas</td>\n",
       "      <td>std</td>\n",
       "      <td>two</td>\n",
       "      <td>convertible</td>\n",
       "      <td>rwd</td>\n",
       "      <td>front</td>\n",
       "      <td>88.6</td>\n",
       "      <td>...</td>\n",
       "      <td>130</td>\n",
       "      <td>mpfi</td>\n",
       "      <td>3.47</td>\n",
       "      <td>2.68</td>\n",
       "      <td>9.0</td>\n",
       "      <td>111</td>\n",
       "      <td>5000</td>\n",
       "      <td>21</td>\n",
       "      <td>27</td>\n",
       "      <td>13495.0</td>\n",
       "    </tr>\n",
       "    <tr>\n",
       "      <th>1</th>\n",
       "      <td>2</td>\n",
       "      <td>3</td>\n",
       "      <td>alfa-romero stelvio</td>\n",
       "      <td>gas</td>\n",
       "      <td>std</td>\n",
       "      <td>two</td>\n",
       "      <td>convertible</td>\n",
       "      <td>rwd</td>\n",
       "      <td>front</td>\n",
       "      <td>88.6</td>\n",
       "      <td>...</td>\n",
       "      <td>130</td>\n",
       "      <td>mpfi</td>\n",
       "      <td>3.47</td>\n",
       "      <td>2.68</td>\n",
       "      <td>9.0</td>\n",
       "      <td>111</td>\n",
       "      <td>5000</td>\n",
       "      <td>21</td>\n",
       "      <td>27</td>\n",
       "      <td>16500.0</td>\n",
       "    </tr>\n",
       "    <tr>\n",
       "      <th>2</th>\n",
       "      <td>3</td>\n",
       "      <td>1</td>\n",
       "      <td>alfa-romero Quadrifoglio</td>\n",
       "      <td>gas</td>\n",
       "      <td>std</td>\n",
       "      <td>two</td>\n",
       "      <td>hatchback</td>\n",
       "      <td>rwd</td>\n",
       "      <td>front</td>\n",
       "      <td>94.5</td>\n",
       "      <td>...</td>\n",
       "      <td>152</td>\n",
       "      <td>mpfi</td>\n",
       "      <td>2.68</td>\n",
       "      <td>3.47</td>\n",
       "      <td>9.0</td>\n",
       "      <td>154</td>\n",
       "      <td>5000</td>\n",
       "      <td>19</td>\n",
       "      <td>26</td>\n",
       "      <td>16500.0</td>\n",
       "    </tr>\n",
       "    <tr>\n",
       "      <th>3</th>\n",
       "      <td>4</td>\n",
       "      <td>2</td>\n",
       "      <td>audi 100 ls</td>\n",
       "      <td>gas</td>\n",
       "      <td>std</td>\n",
       "      <td>four</td>\n",
       "      <td>sedan</td>\n",
       "      <td>fwd</td>\n",
       "      <td>front</td>\n",
       "      <td>99.8</td>\n",
       "      <td>...</td>\n",
       "      <td>109</td>\n",
       "      <td>mpfi</td>\n",
       "      <td>3.19</td>\n",
       "      <td>3.40</td>\n",
       "      <td>10.0</td>\n",
       "      <td>102</td>\n",
       "      <td>5500</td>\n",
       "      <td>24</td>\n",
       "      <td>30</td>\n",
       "      <td>13950.0</td>\n",
       "    </tr>\n",
       "    <tr>\n",
       "      <th>4</th>\n",
       "      <td>5</td>\n",
       "      <td>2</td>\n",
       "      <td>audi 100ls</td>\n",
       "      <td>gas</td>\n",
       "      <td>std</td>\n",
       "      <td>four</td>\n",
       "      <td>sedan</td>\n",
       "      <td>4wd</td>\n",
       "      <td>front</td>\n",
       "      <td>99.4</td>\n",
       "      <td>...</td>\n",
       "      <td>136</td>\n",
       "      <td>mpfi</td>\n",
       "      <td>3.19</td>\n",
       "      <td>3.40</td>\n",
       "      <td>8.0</td>\n",
       "      <td>115</td>\n",
       "      <td>5500</td>\n",
       "      <td>18</td>\n",
       "      <td>22</td>\n",
       "      <td>17450.0</td>\n",
       "    </tr>\n",
       "  </tbody>\n",
       "</table>\n",
       "<p>5 rows × 26 columns</p>\n",
       "</div>"
      ],
      "text/plain": [
       "   car_id  symboling                  car_name fuel_type aspiration  \\\n",
       "0       1          3        alfa-romero giulia       gas        std   \n",
       "1       2          3       alfa-romero stelvio       gas        std   \n",
       "2       3          1  alfa-romero Quadrifoglio       gas        std   \n",
       "3       4          2               audi 100 ls       gas        std   \n",
       "4       5          2                audi 100ls       gas        std   \n",
       "\n",
       "  door_number     car_body drive_wheel engine_location  wheel_base  ...  \\\n",
       "0         two  convertible         rwd           front        88.6  ...   \n",
       "1         two  convertible         rwd           front        88.6  ...   \n",
       "2         two    hatchback         rwd           front        94.5  ...   \n",
       "3        four        sedan         fwd           front        99.8  ...   \n",
       "4        four        sedan         4wd           front        99.4  ...   \n",
       "\n",
       "   engine_size  fuel_system  bore_ratio  stroke compression_ratio horsepower  \\\n",
       "0          130         mpfi        3.47    2.68               9.0        111   \n",
       "1          130         mpfi        3.47    2.68               9.0        111   \n",
       "2          152         mpfi        2.68    3.47               9.0        154   \n",
       "3          109         mpfi        3.19    3.40              10.0        102   \n",
       "4          136         mpfi        3.19    3.40               8.0        115   \n",
       "\n",
       "   peak_rpm city_mpg  highway_mpg    price  \n",
       "0      5000       21           27  13495.0  \n",
       "1      5000       21           27  16500.0  \n",
       "2      5000       19           26  16500.0  \n",
       "3      5500       24           30  13950.0  \n",
       "4      5500       18           22  17450.0  \n",
       "\n",
       "[5 rows x 26 columns]"
      ]
     },
     "execution_count": 15,
     "metadata": {},
     "output_type": "execute_result"
    }
   ],
   "source": [
    "data.head()"
   ]
  },
  {
   "cell_type": "markdown",
   "id": "ac6ccdf1",
   "metadata": {},
   "source": [
    "#### `As part of case study we will deal: car_name , door_number, peak_rpm`"
   ]
  },
  {
   "cell_type": "code",
   "execution_count": 16,
   "id": "4477ea1e",
   "metadata": {},
   "outputs": [
    {
     "name": "stdout",
     "output_type": "stream",
     "text": [
      "<class 'pandas.core.frame.DataFrame'>\n",
      "RangeIndex: 205 entries, 0 to 204\n",
      "Data columns (total 26 columns):\n",
      " #   Column             Non-Null Count  Dtype  \n",
      "---  ------             --------------  -----  \n",
      " 0   car_id             205 non-null    int64  \n",
      " 1   symboling          205 non-null    int64  \n",
      " 2   car_name           205 non-null    object \n",
      " 3   fuel_type          205 non-null    object \n",
      " 4   aspiration         205 non-null    object \n",
      " 5   door_number        205 non-null    object \n",
      " 6   car_body           205 non-null    object \n",
      " 7   drive_wheel        205 non-null    object \n",
      " 8   engine_location    205 non-null    object \n",
      " 9   wheel_base         205 non-null    float64\n",
      " 10  car_length         205 non-null    float64\n",
      " 11  car_width          205 non-null    float64\n",
      " 12  car_height         205 non-null    float64\n",
      " 13  curb_weight        205 non-null    int64  \n",
      " 14  engine_type        205 non-null    object \n",
      " 15  cylinder_number    205 non-null    object \n",
      " 16  engine_size        205 non-null    int64  \n",
      " 17  fuel_system        205 non-null    object \n",
      " 18  bore_ratio         205 non-null    float64\n",
      " 19  stroke             205 non-null    float64\n",
      " 20  compression_ratio  205 non-null    float64\n",
      " 21  horsepower         205 non-null    int64  \n",
      " 22  peak_rpm           205 non-null    int64  \n",
      " 23  city_mpg           205 non-null    int64  \n",
      " 24  highway_mpg        205 non-null    int64  \n",
      " 25  price              205 non-null    float64\n",
      "dtypes: float64(8), int64(8), object(10)\n",
      "memory usage: 41.8+ KB\n"
     ]
    }
   ],
   "source": [
    "data.info()"
   ]
  },
  {
   "cell_type": "code",
   "execution_count": 17,
   "id": "4f20af3f",
   "metadata": {},
   "outputs": [
    {
     "data": {
      "text/plain": [
       "toyota corona               6\n",
       "toyota corolla              6\n",
       "peugeot 504                 6\n",
       "subaru dl                   4\n",
       "mazda 626                   3\n",
       "                           ..\n",
       "bmw z4                      1\n",
       "plymouth fury gran sedan    1\n",
       "volkswagen rabbit custom    1\n",
       "mazda rx2 coupe             1\n",
       "nissan leaf                 1\n",
       "Name: car_name, Length: 147, dtype: int64"
      ]
     },
     "execution_count": 17,
     "metadata": {},
     "output_type": "execute_result"
    }
   ],
   "source": [
    "data['car_name'].value_counts()"
   ]
  },
  {
   "cell_type": "code",
   "execution_count": 18,
   "id": "09eab567",
   "metadata": {},
   "outputs": [
    {
     "data": {
      "text/plain": [
       "four    115\n",
       "two      90\n",
       "Name: door_number, dtype: int64"
      ]
     },
     "execution_count": 18,
     "metadata": {},
     "output_type": "execute_result"
    }
   ],
   "source": [
    "data['door_number'].value_counts()"
   ]
  },
  {
   "cell_type": "code",
   "execution_count": 19,
   "id": "34ca49b7",
   "metadata": {},
   "outputs": [
    {
     "data": {
      "text/plain": [
       "5500    37\n",
       "4800    36\n",
       "5000    27\n",
       "5200    23\n",
       "5400    13\n",
       "6000     9\n",
       "5250     7\n",
       "5800     7\n",
       "4500     7\n",
       "5100     5\n",
       "4150     5\n",
       "4200     5\n",
       "4750     4\n",
       "4350     4\n",
       "4250     3\n",
       "4400     3\n",
       "5900     3\n",
       "6600     2\n",
       "5750     1\n",
       "5300     1\n",
       "4650     1\n",
       "5600     1\n",
       "4900     1\n",
       "Name: peak_rpm, dtype: int64"
      ]
     },
     "execution_count": 19,
     "metadata": {},
     "output_type": "execute_result"
    }
   ],
   "source": [
    "data['peak_rpm'].value_counts()"
   ]
  },
  {
   "cell_type": "code",
   "execution_count": 20,
   "id": "8f83fd98",
   "metadata": {},
   "outputs": [
    {
     "data": {
      "text/html": [
       "<div>\n",
       "<style scoped>\n",
       "    .dataframe tbody tr th:only-of-type {\n",
       "        vertical-align: middle;\n",
       "    }\n",
       "\n",
       "    .dataframe tbody tr th {\n",
       "        vertical-align: top;\n",
       "    }\n",
       "\n",
       "    .dataframe thead th {\n",
       "        text-align: right;\n",
       "    }\n",
       "</style>\n",
       "<table border=\"1\" class=\"dataframe\">\n",
       "  <thead>\n",
       "    <tr style=\"text-align: right;\">\n",
       "      <th>car_body</th>\n",
       "      <th>convertible</th>\n",
       "      <th>hardtop</th>\n",
       "      <th>hatchback</th>\n",
       "      <th>sedan</th>\n",
       "      <th>wagon</th>\n",
       "    </tr>\n",
       "    <tr>\n",
       "      <th>door_number</th>\n",
       "      <th></th>\n",
       "      <th></th>\n",
       "      <th></th>\n",
       "      <th></th>\n",
       "      <th></th>\n",
       "    </tr>\n",
       "  </thead>\n",
       "  <tbody>\n",
       "    <tr>\n",
       "      <th>four</th>\n",
       "      <td>0</td>\n",
       "      <td>0</td>\n",
       "      <td>10</td>\n",
       "      <td>80</td>\n",
       "      <td>25</td>\n",
       "    </tr>\n",
       "    <tr>\n",
       "      <th>two</th>\n",
       "      <td>6</td>\n",
       "      <td>8</td>\n",
       "      <td>60</td>\n",
       "      <td>16</td>\n",
       "      <td>0</td>\n",
       "    </tr>\n",
       "  </tbody>\n",
       "</table>\n",
       "</div>"
      ],
      "text/plain": [
       "car_body     convertible  hardtop  hatchback  sedan  wagon\n",
       "door_number                                               \n",
       "four                   0        0         10     80     25\n",
       "two                    6        8         60     16      0"
      ]
     },
     "execution_count": 20,
     "metadata": {},
     "output_type": "execute_result"
    }
   ],
   "source": [
    "pd.crosstab(data['door_number'],data['car_body'])"
   ]
  },
  {
   "cell_type": "code",
   "execution_count": 21,
   "id": "cfbe1078",
   "metadata": {},
   "outputs": [
    {
     "data": {
      "text/html": [
       "<div>\n",
       "<style scoped>\n",
       "    .dataframe tbody tr th:only-of-type {\n",
       "        vertical-align: middle;\n",
       "    }\n",
       "\n",
       "    .dataframe tbody tr th {\n",
       "        vertical-align: top;\n",
       "    }\n",
       "\n",
       "    .dataframe thead th {\n",
       "        text-align: right;\n",
       "    }\n",
       "</style>\n",
       "<table border=\"1\" class=\"dataframe\">\n",
       "  <thead>\n",
       "    <tr style=\"text-align: right;\">\n",
       "      <th>engine_location</th>\n",
       "      <th>front</th>\n",
       "      <th>rear</th>\n",
       "    </tr>\n",
       "    <tr>\n",
       "      <th>door_number</th>\n",
       "      <th></th>\n",
       "      <th></th>\n",
       "    </tr>\n",
       "  </thead>\n",
       "  <tbody>\n",
       "    <tr>\n",
       "      <th>four</th>\n",
       "      <td>115</td>\n",
       "      <td>0</td>\n",
       "    </tr>\n",
       "    <tr>\n",
       "      <th>two</th>\n",
       "      <td>87</td>\n",
       "      <td>3</td>\n",
       "    </tr>\n",
       "  </tbody>\n",
       "</table>\n",
       "</div>"
      ],
      "text/plain": [
       "engine_location  front  rear\n",
       "door_number                 \n",
       "four               115     0\n",
       "two                 87     3"
      ]
     },
     "execution_count": 21,
     "metadata": {},
     "output_type": "execute_result"
    }
   ],
   "source": [
    "pd.crosstab(data['door_number'],data['engine_location'])"
   ]
  },
  {
   "cell_type": "markdown",
   "id": "d16ba24f",
   "metadata": {},
   "source": [
    "#### `If data contain abnormality`"
   ]
  },
  {
   "cell_type": "code",
   "execution_count": 22,
   "id": "4fafc08c",
   "metadata": {},
   "outputs": [],
   "source": [
    "data['door_number'].replace(to_replace='?',value='four',regex=False,inplace=True)"
   ]
  },
  {
   "cell_type": "markdown",
   "id": "9fd2ac09",
   "metadata": {},
   "source": [
    "#### `convert some data into exact format`"
   ]
  },
  {
   "cell_type": "code",
   "execution_count": 23,
   "id": "f64a56c3",
   "metadata": {},
   "outputs": [
    {
     "data": {
      "text/plain": [
       "0      2\n",
       "1      2\n",
       "2      2\n",
       "3      4\n",
       "4      4\n",
       "      ..\n",
       "200    4\n",
       "201    4\n",
       "202    4\n",
       "203    4\n",
       "204    4\n",
       "Name: door_number, Length: 205, dtype: int64"
      ]
     },
     "execution_count": 23,
     "metadata": {},
     "output_type": "execute_result"
    }
   ],
   "source": [
    "data['door_number'].apply(lambda x: 4 if x == 'four' else 2)"
   ]
  },
  {
   "cell_type": "code",
   "execution_count": 24,
   "id": "01dccb1d",
   "metadata": {},
   "outputs": [
    {
     "data": {
      "text/plain": [
       "four    115\n",
       "two      90\n",
       "Name: door_number, dtype: int64"
      ]
     },
     "execution_count": 24,
     "metadata": {},
     "output_type": "execute_result"
    }
   ],
   "source": [
    "data['door_number'].value_counts()"
   ]
  },
  {
   "cell_type": "markdown",
   "id": "9af952ce",
   "metadata": {},
   "source": [
    "#### `but data do not changed, lets assign`"
   ]
  },
  {
   "cell_type": "code",
   "execution_count": 25,
   "id": "1f7c47d1",
   "metadata": {},
   "outputs": [],
   "source": [
    "data.door_number = data['door_number'].apply(lambda x: 4 if x == 'four' else 2)"
   ]
  },
  {
   "cell_type": "code",
   "execution_count": 26,
   "id": "cb9fcce5",
   "metadata": {},
   "outputs": [
    {
     "data": {
      "text/plain": [
       "4    115\n",
       "2     90\n",
       "Name: door_number, dtype: int64"
      ]
     },
     "execution_count": 26,
     "metadata": {},
     "output_type": "execute_result"
    }
   ],
   "source": [
    "data['door_number'].value_counts()"
   ]
  },
  {
   "cell_type": "code",
   "execution_count": 27,
   "id": "b24b35b9",
   "metadata": {},
   "outputs": [
    {
     "data": {
      "text/html": [
       "<div>\n",
       "<style scoped>\n",
       "    .dataframe tbody tr th:only-of-type {\n",
       "        vertical-align: middle;\n",
       "    }\n",
       "\n",
       "    .dataframe tbody tr th {\n",
       "        vertical-align: top;\n",
       "    }\n",
       "\n",
       "    .dataframe thead th {\n",
       "        text-align: right;\n",
       "    }\n",
       "</style>\n",
       "<table border=\"1\" class=\"dataframe\">\n",
       "  <thead>\n",
       "    <tr style=\"text-align: right;\">\n",
       "      <th></th>\n",
       "      <th>car_id</th>\n",
       "      <th>symboling</th>\n",
       "      <th>car_name</th>\n",
       "      <th>fuel_type</th>\n",
       "      <th>aspiration</th>\n",
       "      <th>door_number</th>\n",
       "      <th>car_body</th>\n",
       "      <th>drive_wheel</th>\n",
       "      <th>engine_location</th>\n",
       "      <th>wheel_base</th>\n",
       "      <th>...</th>\n",
       "      <th>engine_size</th>\n",
       "      <th>fuel_system</th>\n",
       "      <th>bore_ratio</th>\n",
       "      <th>stroke</th>\n",
       "      <th>compression_ratio</th>\n",
       "      <th>horsepower</th>\n",
       "      <th>peak_rpm</th>\n",
       "      <th>city_mpg</th>\n",
       "      <th>highway_mpg</th>\n",
       "      <th>price</th>\n",
       "    </tr>\n",
       "  </thead>\n",
       "  <tbody>\n",
       "    <tr>\n",
       "      <th>0</th>\n",
       "      <td>1</td>\n",
       "      <td>3</td>\n",
       "      <td>alfa-romero giulia</td>\n",
       "      <td>gas</td>\n",
       "      <td>std</td>\n",
       "      <td>2</td>\n",
       "      <td>convertible</td>\n",
       "      <td>rwd</td>\n",
       "      <td>front</td>\n",
       "      <td>88.6</td>\n",
       "      <td>...</td>\n",
       "      <td>130</td>\n",
       "      <td>mpfi</td>\n",
       "      <td>3.47</td>\n",
       "      <td>2.68</td>\n",
       "      <td>9.0</td>\n",
       "      <td>111</td>\n",
       "      <td>5000</td>\n",
       "      <td>21</td>\n",
       "      <td>27</td>\n",
       "      <td>13495.0</td>\n",
       "    </tr>\n",
       "    <tr>\n",
       "      <th>1</th>\n",
       "      <td>2</td>\n",
       "      <td>3</td>\n",
       "      <td>alfa-romero stelvio</td>\n",
       "      <td>gas</td>\n",
       "      <td>std</td>\n",
       "      <td>2</td>\n",
       "      <td>convertible</td>\n",
       "      <td>rwd</td>\n",
       "      <td>front</td>\n",
       "      <td>88.6</td>\n",
       "      <td>...</td>\n",
       "      <td>130</td>\n",
       "      <td>mpfi</td>\n",
       "      <td>3.47</td>\n",
       "      <td>2.68</td>\n",
       "      <td>9.0</td>\n",
       "      <td>111</td>\n",
       "      <td>5000</td>\n",
       "      <td>21</td>\n",
       "      <td>27</td>\n",
       "      <td>16500.0</td>\n",
       "    </tr>\n",
       "    <tr>\n",
       "      <th>2</th>\n",
       "      <td>3</td>\n",
       "      <td>1</td>\n",
       "      <td>alfa-romero Quadrifoglio</td>\n",
       "      <td>gas</td>\n",
       "      <td>std</td>\n",
       "      <td>2</td>\n",
       "      <td>hatchback</td>\n",
       "      <td>rwd</td>\n",
       "      <td>front</td>\n",
       "      <td>94.5</td>\n",
       "      <td>...</td>\n",
       "      <td>152</td>\n",
       "      <td>mpfi</td>\n",
       "      <td>2.68</td>\n",
       "      <td>3.47</td>\n",
       "      <td>9.0</td>\n",
       "      <td>154</td>\n",
       "      <td>5000</td>\n",
       "      <td>19</td>\n",
       "      <td>26</td>\n",
       "      <td>16500.0</td>\n",
       "    </tr>\n",
       "    <tr>\n",
       "      <th>3</th>\n",
       "      <td>4</td>\n",
       "      <td>2</td>\n",
       "      <td>audi 100 ls</td>\n",
       "      <td>gas</td>\n",
       "      <td>std</td>\n",
       "      <td>4</td>\n",
       "      <td>sedan</td>\n",
       "      <td>fwd</td>\n",
       "      <td>front</td>\n",
       "      <td>99.8</td>\n",
       "      <td>...</td>\n",
       "      <td>109</td>\n",
       "      <td>mpfi</td>\n",
       "      <td>3.19</td>\n",
       "      <td>3.40</td>\n",
       "      <td>10.0</td>\n",
       "      <td>102</td>\n",
       "      <td>5500</td>\n",
       "      <td>24</td>\n",
       "      <td>30</td>\n",
       "      <td>13950.0</td>\n",
       "    </tr>\n",
       "    <tr>\n",
       "      <th>4</th>\n",
       "      <td>5</td>\n",
       "      <td>2</td>\n",
       "      <td>audi 100ls</td>\n",
       "      <td>gas</td>\n",
       "      <td>std</td>\n",
       "      <td>4</td>\n",
       "      <td>sedan</td>\n",
       "      <td>4wd</td>\n",
       "      <td>front</td>\n",
       "      <td>99.4</td>\n",
       "      <td>...</td>\n",
       "      <td>136</td>\n",
       "      <td>mpfi</td>\n",
       "      <td>3.19</td>\n",
       "      <td>3.40</td>\n",
       "      <td>8.0</td>\n",
       "      <td>115</td>\n",
       "      <td>5500</td>\n",
       "      <td>18</td>\n",
       "      <td>22</td>\n",
       "      <td>17450.0</td>\n",
       "    </tr>\n",
       "  </tbody>\n",
       "</table>\n",
       "<p>5 rows × 26 columns</p>\n",
       "</div>"
      ],
      "text/plain": [
       "   car_id  symboling                  car_name fuel_type aspiration  \\\n",
       "0       1          3        alfa-romero giulia       gas        std   \n",
       "1       2          3       alfa-romero stelvio       gas        std   \n",
       "2       3          1  alfa-romero Quadrifoglio       gas        std   \n",
       "3       4          2               audi 100 ls       gas        std   \n",
       "4       5          2                audi 100ls       gas        std   \n",
       "\n",
       "   door_number     car_body drive_wheel engine_location  wheel_base  ...  \\\n",
       "0            2  convertible         rwd           front        88.6  ...   \n",
       "1            2  convertible         rwd           front        88.6  ...   \n",
       "2            2    hatchback         rwd           front        94.5  ...   \n",
       "3            4        sedan         fwd           front        99.8  ...   \n",
       "4            4        sedan         4wd           front        99.4  ...   \n",
       "\n",
       "   engine_size  fuel_system  bore_ratio  stroke compression_ratio horsepower  \\\n",
       "0          130         mpfi        3.47    2.68               9.0        111   \n",
       "1          130         mpfi        3.47    2.68               9.0        111   \n",
       "2          152         mpfi        2.68    3.47               9.0        154   \n",
       "3          109         mpfi        3.19    3.40              10.0        102   \n",
       "4          136         mpfi        3.19    3.40               8.0        115   \n",
       "\n",
       "   peak_rpm city_mpg  highway_mpg    price  \n",
       "0      5000       21           27  13495.0  \n",
       "1      5000       21           27  16500.0  \n",
       "2      5000       19           26  16500.0  \n",
       "3      5500       24           30  13950.0  \n",
       "4      5500       18           22  17450.0  \n",
       "\n",
       "[5 rows x 26 columns]"
      ]
     },
     "execution_count": 27,
     "metadata": {},
     "output_type": "execute_result"
    }
   ],
   "source": [
    "data.head()"
   ]
  },
  {
   "cell_type": "code",
   "execution_count": 28,
   "id": "46123719",
   "metadata": {},
   "outputs": [],
   "source": [
    "data.door_number = data.door_number.astype(int)"
   ]
  },
  {
   "cell_type": "markdown",
   "id": "6d1ae98f",
   "metadata": {},
   "source": [
    "#### `remove abnormalities where 5000 is written as 5k`"
   ]
  },
  {
   "cell_type": "code",
   "execution_count": 29,
   "id": "b1cdc928",
   "metadata": {},
   "outputs": [],
   "source": [
    "# data.peak_rpm.apply(lambda x:(int(x.replace('K',''))*1000) if 'K' in x else int(x))"
   ]
  },
  {
   "cell_type": "markdown",
   "id": "6b992596",
   "metadata": {},
   "source": [
    "#### `remove abnormalities where 5000 is written as 5k or 5,000`"
   ]
  },
  {
   "cell_type": "code",
   "execution_count": 30,
   "id": "caef085c",
   "metadata": {},
   "outputs": [],
   "source": [
    "# data.peak_rpm.apply(lambda x:(int(x.replace('K',''))*1000) if 'K' in x else int(x.replace(',','')) if ',' in x else int(x))"
   ]
  },
  {
   "cell_type": "code",
   "execution_count": 31,
   "id": "30782132",
   "metadata": {},
   "outputs": [
    {
     "data": {
      "text/plain": [
       "four      159\n",
       "six        24\n",
       "five       11\n",
       "eight       5\n",
       "two         4\n",
       "twelve      1\n",
       "three       1\n",
       "Name: cylinder_number, dtype: int64"
      ]
     },
     "execution_count": 31,
     "metadata": {},
     "output_type": "execute_result"
    }
   ],
   "source": [
    "data.cylinder_number.value_counts()"
   ]
  },
  {
   "cell_type": "code",
   "execution_count": 32,
   "id": "9d7564b0",
   "metadata": {},
   "outputs": [
    {
     "data": {
      "text/plain": [
       "0           alfa-romero giulia\n",
       "1          alfa-romero stelvio\n",
       "2     alfa-romero Quadrifoglio\n",
       "3                  audi 100 ls\n",
       "4                   audi 100ls\n",
       "5                     audi fox\n",
       "6                   audi 100ls\n",
       "7                    audi 5000\n",
       "8                    audi 4000\n",
       "9          audi 5000s (diesel)\n",
       "10                    bmw 320i\n",
       "11                    bmw 320i\n",
       "12                      bmw x1\n",
       "13                      bmw x3\n",
       "14                      bmw z4\n",
       "15                      bmw x4\n",
       "16                      bmw x5\n",
       "17                      bmw x3\n",
       "18            chevrolet impala\n",
       "19       chevrolet monte carlo\n",
       "Name: car_name, dtype: object"
      ]
     },
     "execution_count": 32,
     "metadata": {},
     "output_type": "execute_result"
    }
   ],
   "source": [
    "data.car_name[:20]"
   ]
  },
  {
   "cell_type": "markdown",
   "id": "4d6f31f3",
   "metadata": {},
   "source": [
    "#### `extract company name`"
   ]
  },
  {
   "cell_type": "code",
   "execution_count": 35,
   "id": "2538491a",
   "metadata": {},
   "outputs": [
    {
     "data": {
      "text/plain": [
       "0      alfa-romero\n",
       "1      alfa-romero\n",
       "2      alfa-romero\n",
       "3             audi\n",
       "4             audi\n",
       "          ...     \n",
       "200          volvo\n",
       "201          volvo\n",
       "202          volvo\n",
       "203          volvo\n",
       "204          volvo\n",
       "Name: car_name, Length: 205, dtype: object"
      ]
     },
     "execution_count": 35,
     "metadata": {},
     "output_type": "execute_result"
    }
   ],
   "source": [
    "data.car_name.apply(lambda x:x.split()[0])"
   ]
  },
  {
   "cell_type": "code",
   "execution_count": 84,
   "id": "5724be6e",
   "metadata": {},
   "outputs": [],
   "source": [
    "data['car_company'] = data.car_name.apply(lambda x:x.split()[0])"
   ]
  },
  {
   "cell_type": "code",
   "execution_count": 85,
   "id": "0e1f5d16",
   "metadata": {},
   "outputs": [
    {
     "data": {
      "text/plain": [
       "toyota         31\n",
       "nissan         17\n",
       "mazda          15\n",
       "mitsubishi     13\n",
       "honda          13\n",
       "subaru         12\n",
       "peugeot        11\n",
       "volvo          11\n",
       "dodge           9\n",
       "volkswagen      9\n",
       "bmw             8\n",
       "buick           8\n",
       "audi            7\n",
       "plymouth        7\n",
       "saab            6\n",
       "isuzu           4\n",
       "porsche         4\n",
       "chevrolet       3\n",
       "alfa-romero     3\n",
       "jaguar          3\n",
       "maxda           2\n",
       "renault         2\n",
       "vw              2\n",
       "vokswagen       1\n",
       "Nissan          1\n",
       "porcshce        1\n",
       "mercury         1\n",
       "toyouta         1\n",
       "Name: car_company, dtype: int64"
      ]
     },
     "execution_count": 85,
     "metadata": {},
     "output_type": "execute_result"
    }
   ],
   "source": [
    "data.car_company.value_counts()"
   ]
  },
  {
   "cell_type": "code",
   "execution_count": 86,
   "id": "263ba0ba",
   "metadata": {},
   "outputs": [
    {
     "data": {
      "text/plain": [
       "Index(['car_id', 'symboling', 'car_name', 'fuel_type', 'aspiration',\n",
       "       'door_number', 'car_body', 'drive_wheel', 'engine_location',\n",
       "       'wheel_base', 'car_length', 'car_width', 'car_height', 'curb_weight',\n",
       "       'engine_type', 'cylinder_number', 'engine_size', 'fuel_system',\n",
       "       'bore_ratio', 'stroke', 'compression_ratio', 'horsepower', 'peak_rpm',\n",
       "       'city_mpg', 'highway_mpg', 'price', 'car_company'],\n",
       "      dtype='object')"
      ]
     },
     "execution_count": 86,
     "metadata": {},
     "output_type": "execute_result"
    }
   ],
   "source": [
    "data.columns"
   ]
  },
  {
   "cell_type": "code",
   "execution_count": 87,
   "id": "205da991",
   "metadata": {},
   "outputs": [],
   "source": [
    "data.loc[(data['car_company'] == 'vw') | (data['car_company'] == 'vokswagen'),'car_company'] = 'volkswagen'"
   ]
  },
  {
   "cell_type": "code",
   "execution_count": 88,
   "id": "7630380d",
   "metadata": {},
   "outputs": [],
   "source": [
    "data.loc[data['car_company'] == 'porcshce','car_company'] = 'porsche'"
   ]
  },
  {
   "cell_type": "code",
   "execution_count": 89,
   "id": "ce4e8c43",
   "metadata": {},
   "outputs": [],
   "source": [
    "data.loc[data['car_company'] == 'toyouta','car_company'] = 'toyota'"
   ]
  },
  {
   "cell_type": "code",
   "execution_count": 90,
   "id": "35f5759e",
   "metadata": {},
   "outputs": [],
   "source": [
    "data.loc[data['car_company'] == 'Nissan','car_company'] = 'nissan'"
   ]
  },
  {
   "cell_type": "code",
   "execution_count": 91,
   "id": "54261cf4",
   "metadata": {},
   "outputs": [],
   "source": [
    "data.loc[data['car_company'] == 'maxda','car_company'] = 'mazda'"
   ]
  },
  {
   "cell_type": "markdown",
   "id": "780f9399",
   "metadata": {},
   "source": [
    "#### `Can also be done by lambda function`"
   ]
  },
  {
   "cell_type": "code",
   "execution_count": 92,
   "id": "391c1cfd",
   "metadata": {},
   "outputs": [],
   "source": [
    "# data.car_company.apply(lambda x:'volkawegen' if x=='vw' or x=='vokswagen' else \n",
    "#                       'porsche' if x == 'porcshce' else \n",
    "#                       'toyota' if x == 'toyouta' else \n",
    "#                       'nissan' if x == 'Nissan' else \n",
    "#                       'mazda' if x == 'maxda' else x)"
   ]
  },
  {
   "cell_type": "code",
   "execution_count": 93,
   "id": "73175cd7",
   "metadata": {},
   "outputs": [
    {
     "data": {
      "text/plain": [
       "toyota         32\n",
       "nissan         18\n",
       "mazda          17\n",
       "honda          13\n",
       "mitsubishi     13\n",
       "subaru         12\n",
       "volkswagen     12\n",
       "volvo          11\n",
       "peugeot        11\n",
       "dodge           9\n",
       "buick           8\n",
       "bmw             8\n",
       "plymouth        7\n",
       "audi            7\n",
       "saab            6\n",
       "porsche         5\n",
       "isuzu           4\n",
       "alfa-romero     3\n",
       "jaguar          3\n",
       "chevrolet       3\n",
       "renault         2\n",
       "mercury         1\n",
       "Name: car_company, dtype: int64"
      ]
     },
     "execution_count": 93,
     "metadata": {},
     "output_type": "execute_result"
    }
   ],
   "source": [
    "data.car_company.value_counts()"
   ]
  },
  {
   "cell_type": "code",
   "execution_count": 94,
   "id": "e3b9f8bb",
   "metadata": {},
   "outputs": [],
   "source": [
    "data.drop('car_name',axis=1,inplace=True)"
   ]
  },
  {
   "cell_type": "code",
   "execution_count": 95,
   "id": "7d0a7e4b",
   "metadata": {},
   "outputs": [
    {
     "data": {
      "text/plain": [
       "Index(['car_id', 'symboling', 'fuel_type', 'aspiration', 'door_number',\n",
       "       'car_body', 'drive_wheel', 'engine_location', 'wheel_base',\n",
       "       'car_length', 'car_width', 'car_height', 'curb_weight', 'engine_type',\n",
       "       'cylinder_number', 'engine_size', 'fuel_system', 'bore_ratio', 'stroke',\n",
       "       'compression_ratio', 'horsepower', 'peak_rpm', 'city_mpg',\n",
       "       'highway_mpg', 'price', 'car_company'],\n",
       "      dtype='object')"
      ]
     },
     "execution_count": 95,
     "metadata": {},
     "output_type": "execute_result"
    }
   ],
   "source": [
    "data.columns"
   ]
  },
  {
   "cell_type": "markdown",
   "id": "048539ad",
   "metadata": {},
   "source": [
    "### `sagregate data`"
   ]
  },
  {
   "cell_type": "code",
   "execution_count": 97,
   "id": "7da8dc2b",
   "metadata": {},
   "outputs": [
    {
     "data": {
      "text/html": [
       "<div>\n",
       "<style scoped>\n",
       "    .dataframe tbody tr th:only-of-type {\n",
       "        vertical-align: middle;\n",
       "    }\n",
       "\n",
       "    .dataframe tbody tr th {\n",
       "        vertical-align: top;\n",
       "    }\n",
       "\n",
       "    .dataframe thead th {\n",
       "        text-align: right;\n",
       "    }\n",
       "</style>\n",
       "<table border=\"1\" class=\"dataframe\">\n",
       "  <thead>\n",
       "    <tr style=\"text-align: right;\">\n",
       "      <th></th>\n",
       "      <th>fuel_type</th>\n",
       "      <th>aspiration</th>\n",
       "      <th>car_body</th>\n",
       "      <th>drive_wheel</th>\n",
       "      <th>engine_location</th>\n",
       "      <th>engine_type</th>\n",
       "      <th>cylinder_number</th>\n",
       "      <th>fuel_system</th>\n",
       "      <th>car_company</th>\n",
       "    </tr>\n",
       "  </thead>\n",
       "  <tbody>\n",
       "    <tr>\n",
       "      <th>0</th>\n",
       "      <td>gas</td>\n",
       "      <td>std</td>\n",
       "      <td>convertible</td>\n",
       "      <td>rwd</td>\n",
       "      <td>front</td>\n",
       "      <td>dohc</td>\n",
       "      <td>four</td>\n",
       "      <td>mpfi</td>\n",
       "      <td>alfa-romero</td>\n",
       "    </tr>\n",
       "    <tr>\n",
       "      <th>1</th>\n",
       "      <td>gas</td>\n",
       "      <td>std</td>\n",
       "      <td>convertible</td>\n",
       "      <td>rwd</td>\n",
       "      <td>front</td>\n",
       "      <td>dohc</td>\n",
       "      <td>four</td>\n",
       "      <td>mpfi</td>\n",
       "      <td>alfa-romero</td>\n",
       "    </tr>\n",
       "    <tr>\n",
       "      <th>2</th>\n",
       "      <td>gas</td>\n",
       "      <td>std</td>\n",
       "      <td>hatchback</td>\n",
       "      <td>rwd</td>\n",
       "      <td>front</td>\n",
       "      <td>ohcv</td>\n",
       "      <td>six</td>\n",
       "      <td>mpfi</td>\n",
       "      <td>alfa-romero</td>\n",
       "    </tr>\n",
       "    <tr>\n",
       "      <th>3</th>\n",
       "      <td>gas</td>\n",
       "      <td>std</td>\n",
       "      <td>sedan</td>\n",
       "      <td>fwd</td>\n",
       "      <td>front</td>\n",
       "      <td>ohc</td>\n",
       "      <td>four</td>\n",
       "      <td>mpfi</td>\n",
       "      <td>audi</td>\n",
       "    </tr>\n",
       "    <tr>\n",
       "      <th>4</th>\n",
       "      <td>gas</td>\n",
       "      <td>std</td>\n",
       "      <td>sedan</td>\n",
       "      <td>4wd</td>\n",
       "      <td>front</td>\n",
       "      <td>ohc</td>\n",
       "      <td>five</td>\n",
       "      <td>mpfi</td>\n",
       "      <td>audi</td>\n",
       "    </tr>\n",
       "  </tbody>\n",
       "</table>\n",
       "</div>"
      ],
      "text/plain": [
       "  fuel_type aspiration     car_body drive_wheel engine_location engine_type  \\\n",
       "0       gas        std  convertible         rwd           front        dohc   \n",
       "1       gas        std  convertible         rwd           front        dohc   \n",
       "2       gas        std    hatchback         rwd           front        ohcv   \n",
       "3       gas        std        sedan         fwd           front         ohc   \n",
       "4       gas        std        sedan         4wd           front         ohc   \n",
       "\n",
       "  cylinder_number fuel_system  car_company  \n",
       "0            four        mpfi  alfa-romero  \n",
       "1            four        mpfi  alfa-romero  \n",
       "2             six        mpfi  alfa-romero  \n",
       "3            four        mpfi         audi  \n",
       "4            five        mpfi         audi  "
      ]
     },
     "execution_count": 97,
     "metadata": {},
     "output_type": "execute_result"
    }
   ],
   "source": [
    "categorical_data = data.select_dtypes(include=['object'])\n",
    "categorical_data.head()"
   ]
  },
  {
   "cell_type": "code",
   "execution_count": 98,
   "id": "d345c95a",
   "metadata": {},
   "outputs": [
    {
     "data": {
      "text/html": [
       "<div>\n",
       "<style scoped>\n",
       "    .dataframe tbody tr th:only-of-type {\n",
       "        vertical-align: middle;\n",
       "    }\n",
       "\n",
       "    .dataframe tbody tr th {\n",
       "        vertical-align: top;\n",
       "    }\n",
       "\n",
       "    .dataframe thead th {\n",
       "        text-align: right;\n",
       "    }\n",
       "</style>\n",
       "<table border=\"1\" class=\"dataframe\">\n",
       "  <thead>\n",
       "    <tr style=\"text-align: right;\">\n",
       "      <th></th>\n",
       "      <th>car_id</th>\n",
       "      <th>symboling</th>\n",
       "      <th>wheel_base</th>\n",
       "      <th>car_length</th>\n",
       "      <th>car_width</th>\n",
       "      <th>car_height</th>\n",
       "      <th>curb_weight</th>\n",
       "      <th>engine_size</th>\n",
       "      <th>bore_ratio</th>\n",
       "      <th>stroke</th>\n",
       "      <th>compression_ratio</th>\n",
       "      <th>horsepower</th>\n",
       "      <th>peak_rpm</th>\n",
       "      <th>city_mpg</th>\n",
       "      <th>highway_mpg</th>\n",
       "      <th>price</th>\n",
       "    </tr>\n",
       "  </thead>\n",
       "  <tbody>\n",
       "    <tr>\n",
       "      <th>0</th>\n",
       "      <td>1</td>\n",
       "      <td>3</td>\n",
       "      <td>88.6</td>\n",
       "      <td>168.8</td>\n",
       "      <td>64.1</td>\n",
       "      <td>48.8</td>\n",
       "      <td>2548</td>\n",
       "      <td>130</td>\n",
       "      <td>3.47</td>\n",
       "      <td>2.68</td>\n",
       "      <td>9.0</td>\n",
       "      <td>111</td>\n",
       "      <td>5000</td>\n",
       "      <td>21</td>\n",
       "      <td>27</td>\n",
       "      <td>13495.0</td>\n",
       "    </tr>\n",
       "    <tr>\n",
       "      <th>1</th>\n",
       "      <td>2</td>\n",
       "      <td>3</td>\n",
       "      <td>88.6</td>\n",
       "      <td>168.8</td>\n",
       "      <td>64.1</td>\n",
       "      <td>48.8</td>\n",
       "      <td>2548</td>\n",
       "      <td>130</td>\n",
       "      <td>3.47</td>\n",
       "      <td>2.68</td>\n",
       "      <td>9.0</td>\n",
       "      <td>111</td>\n",
       "      <td>5000</td>\n",
       "      <td>21</td>\n",
       "      <td>27</td>\n",
       "      <td>16500.0</td>\n",
       "    </tr>\n",
       "    <tr>\n",
       "      <th>2</th>\n",
       "      <td>3</td>\n",
       "      <td>1</td>\n",
       "      <td>94.5</td>\n",
       "      <td>171.2</td>\n",
       "      <td>65.5</td>\n",
       "      <td>52.4</td>\n",
       "      <td>2823</td>\n",
       "      <td>152</td>\n",
       "      <td>2.68</td>\n",
       "      <td>3.47</td>\n",
       "      <td>9.0</td>\n",
       "      <td>154</td>\n",
       "      <td>5000</td>\n",
       "      <td>19</td>\n",
       "      <td>26</td>\n",
       "      <td>16500.0</td>\n",
       "    </tr>\n",
       "    <tr>\n",
       "      <th>3</th>\n",
       "      <td>4</td>\n",
       "      <td>2</td>\n",
       "      <td>99.8</td>\n",
       "      <td>176.6</td>\n",
       "      <td>66.2</td>\n",
       "      <td>54.3</td>\n",
       "      <td>2337</td>\n",
       "      <td>109</td>\n",
       "      <td>3.19</td>\n",
       "      <td>3.40</td>\n",
       "      <td>10.0</td>\n",
       "      <td>102</td>\n",
       "      <td>5500</td>\n",
       "      <td>24</td>\n",
       "      <td>30</td>\n",
       "      <td>13950.0</td>\n",
       "    </tr>\n",
       "    <tr>\n",
       "      <th>4</th>\n",
       "      <td>5</td>\n",
       "      <td>2</td>\n",
       "      <td>99.4</td>\n",
       "      <td>176.6</td>\n",
       "      <td>66.4</td>\n",
       "      <td>54.3</td>\n",
       "      <td>2824</td>\n",
       "      <td>136</td>\n",
       "      <td>3.19</td>\n",
       "      <td>3.40</td>\n",
       "      <td>8.0</td>\n",
       "      <td>115</td>\n",
       "      <td>5500</td>\n",
       "      <td>18</td>\n",
       "      <td>22</td>\n",
       "      <td>17450.0</td>\n",
       "    </tr>\n",
       "  </tbody>\n",
       "</table>\n",
       "</div>"
      ],
      "text/plain": [
       "   car_id  symboling  wheel_base  car_length  car_width  car_height  \\\n",
       "0       1          3        88.6       168.8       64.1        48.8   \n",
       "1       2          3        88.6       168.8       64.1        48.8   \n",
       "2       3          1        94.5       171.2       65.5        52.4   \n",
       "3       4          2        99.8       176.6       66.2        54.3   \n",
       "4       5          2        99.4       176.6       66.4        54.3   \n",
       "\n",
       "   curb_weight  engine_size  bore_ratio  stroke  compression_ratio  \\\n",
       "0         2548          130        3.47    2.68                9.0   \n",
       "1         2548          130        3.47    2.68                9.0   \n",
       "2         2823          152        2.68    3.47                9.0   \n",
       "3         2337          109        3.19    3.40               10.0   \n",
       "4         2824          136        3.19    3.40                8.0   \n",
       "\n",
       "   horsepower  peak_rpm  city_mpg  highway_mpg    price  \n",
       "0         111      5000        21           27  13495.0  \n",
       "1         111      5000        21           27  16500.0  \n",
       "2         154      5000        19           26  16500.0  \n",
       "3         102      5500        24           30  13950.0  \n",
       "4         115      5500        18           22  17450.0  "
      ]
     },
     "execution_count": 98,
     "metadata": {},
     "output_type": "execute_result"
    }
   ],
   "source": [
    "numerical_data = data.select_dtypes(include=['int64','float64'])\n",
    "numerical_data.head()"
   ]
  },
  {
   "cell_type": "code",
   "execution_count": 100,
   "id": "90843a1c",
   "metadata": {},
   "outputs": [
    {
     "data": {
      "text/plain": [
       "9"
      ]
     },
     "execution_count": 100,
     "metadata": {},
     "output_type": "execute_result"
    }
   ],
   "source": [
    "len(categorical_data.columns)"
   ]
  },
  {
   "cell_type": "code",
   "execution_count": 102,
   "id": "9a2c17eb",
   "metadata": {},
   "outputs": [
    {
     "data": {
      "text/plain": [
       "16"
      ]
     },
     "execution_count": 102,
     "metadata": {},
     "output_type": "execute_result"
    }
   ],
   "source": [
    "len(numerical_data.columns)"
   ]
  },
  {
   "cell_type": "code",
   "execution_count": 103,
   "id": "75493630",
   "metadata": {},
   "outputs": [
    {
     "data": {
      "text/plain": [
       "(205, 26)"
      ]
     },
     "execution_count": 103,
     "metadata": {},
     "output_type": "execute_result"
    }
   ],
   "source": [
    "data.shape"
   ]
  },
  {
   "cell_type": "markdown",
   "id": "b476e1c9",
   "metadata": {},
   "source": [
    "#### `we miss one columns`"
   ]
  },
  {
   "cell_type": "code",
   "execution_count": 105,
   "id": "3d3adb33",
   "metadata": {},
   "outputs": [
    {
     "name": "stdout",
     "output_type": "stream",
     "text": [
      "<class 'pandas.core.frame.DataFrame'>\n",
      "RangeIndex: 205 entries, 0 to 204\n",
      "Data columns (total 26 columns):\n",
      " #   Column             Non-Null Count  Dtype  \n",
      "---  ------             --------------  -----  \n",
      " 0   car_id             205 non-null    int64  \n",
      " 1   symboling          205 non-null    int64  \n",
      " 2   fuel_type          205 non-null    object \n",
      " 3   aspiration         205 non-null    object \n",
      " 4   door_number        205 non-null    int32  \n",
      " 5   car_body           205 non-null    object \n",
      " 6   drive_wheel        205 non-null    object \n",
      " 7   engine_location    205 non-null    object \n",
      " 8   wheel_base         205 non-null    float64\n",
      " 9   car_length         205 non-null    float64\n",
      " 10  car_width          205 non-null    float64\n",
      " 11  car_height         205 non-null    float64\n",
      " 12  curb_weight        205 non-null    int64  \n",
      " 13  engine_type        205 non-null    object \n",
      " 14  cylinder_number    205 non-null    object \n",
      " 15  engine_size        205 non-null    int64  \n",
      " 16  fuel_system        205 non-null    object \n",
      " 17  bore_ratio         205 non-null    float64\n",
      " 18  stroke             205 non-null    float64\n",
      " 19  compression_ratio  205 non-null    float64\n",
      " 20  horsepower         205 non-null    int64  \n",
      " 21  peak_rpm           205 non-null    int64  \n",
      " 22  city_mpg           205 non-null    int64  \n",
      " 23  highway_mpg        205 non-null    int64  \n",
      " 24  price              205 non-null    float64\n",
      " 25  car_company        205 non-null    object \n",
      "dtypes: float64(8), int32(1), int64(8), object(9)\n",
      "memory usage: 41.0+ KB\n"
     ]
    }
   ],
   "source": [
    "data.info()"
   ]
  },
  {
   "cell_type": "markdown",
   "id": "49362049",
   "metadata": {},
   "source": [
    "#### `convert int 32 to 64 of door number to take all numerical columns`"
   ]
  },
  {
   "cell_type": "code",
   "execution_count": 107,
   "id": "03fe0444",
   "metadata": {},
   "outputs": [
    {
     "name": "stdout",
     "output_type": "stream",
     "text": [
      "door_number\n"
     ]
    }
   ],
   "source": [
    "for col in data.columns:\n",
    "    if data[col].dtype == 'int32':\n",
    "        print(col)"
   ]
  },
  {
   "cell_type": "code",
   "execution_count": 111,
   "id": "772f4710",
   "metadata": {},
   "outputs": [],
   "source": [
    "for col in data.columns:\n",
    "    if data[col].dtype == 'int32':\n",
    "        data[col] = data[col].astype('int64')"
   ]
  },
  {
   "cell_type": "code",
   "execution_count": 112,
   "id": "e6fdd5b9",
   "metadata": {},
   "outputs": [
    {
     "name": "stdout",
     "output_type": "stream",
     "text": [
      "<class 'pandas.core.frame.DataFrame'>\n",
      "RangeIndex: 205 entries, 0 to 204\n",
      "Data columns (total 26 columns):\n",
      " #   Column             Non-Null Count  Dtype  \n",
      "---  ------             --------------  -----  \n",
      " 0   car_id             205 non-null    int64  \n",
      " 1   symboling          205 non-null    int64  \n",
      " 2   fuel_type          205 non-null    object \n",
      " 3   aspiration         205 non-null    object \n",
      " 4   door_number        205 non-null    int64  \n",
      " 5   car_body           205 non-null    object \n",
      " 6   drive_wheel        205 non-null    object \n",
      " 7   engine_location    205 non-null    object \n",
      " 8   wheel_base         205 non-null    float64\n",
      " 9   car_length         205 non-null    float64\n",
      " 10  car_width          205 non-null    float64\n",
      " 11  car_height         205 non-null    float64\n",
      " 12  curb_weight        205 non-null    int64  \n",
      " 13  engine_type        205 non-null    object \n",
      " 14  cylinder_number    205 non-null    object \n",
      " 15  engine_size        205 non-null    int64  \n",
      " 16  fuel_system        205 non-null    object \n",
      " 17  bore_ratio         205 non-null    float64\n",
      " 18  stroke             205 non-null    float64\n",
      " 19  compression_ratio  205 non-null    float64\n",
      " 20  horsepower         205 non-null    int64  \n",
      " 21  peak_rpm           205 non-null    int64  \n",
      " 22  city_mpg           205 non-null    int64  \n",
      " 23  highway_mpg        205 non-null    int64  \n",
      " 24  price              205 non-null    float64\n",
      " 25  car_company        205 non-null    object \n",
      "dtypes: float64(8), int64(9), object(9)\n",
      "memory usage: 41.8+ KB\n"
     ]
    }
   ],
   "source": [
    "data.info()"
   ]
  },
  {
   "cell_type": "code",
   "execution_count": 114,
   "id": "d9610b5e",
   "metadata": {},
   "outputs": [
    {
     "data": {
      "text/html": [
       "<div>\n",
       "<style scoped>\n",
       "    .dataframe tbody tr th:only-of-type {\n",
       "        vertical-align: middle;\n",
       "    }\n",
       "\n",
       "    .dataframe tbody tr th {\n",
       "        vertical-align: top;\n",
       "    }\n",
       "\n",
       "    .dataframe thead th {\n",
       "        text-align: right;\n",
       "    }\n",
       "</style>\n",
       "<table border=\"1\" class=\"dataframe\">\n",
       "  <thead>\n",
       "    <tr style=\"text-align: right;\">\n",
       "      <th></th>\n",
       "      <th>car_id</th>\n",
       "      <th>symboling</th>\n",
       "      <th>fuel_type</th>\n",
       "      <th>aspiration</th>\n",
       "      <th>door_number</th>\n",
       "      <th>car_body</th>\n",
       "      <th>drive_wheel</th>\n",
       "      <th>engine_location</th>\n",
       "      <th>wheel_base</th>\n",
       "      <th>car_length</th>\n",
       "      <th>...</th>\n",
       "      <th>fuel_system</th>\n",
       "      <th>bore_ratio</th>\n",
       "      <th>stroke</th>\n",
       "      <th>compression_ratio</th>\n",
       "      <th>horsepower</th>\n",
       "      <th>peak_rpm</th>\n",
       "      <th>city_mpg</th>\n",
       "      <th>highway_mpg</th>\n",
       "      <th>price</th>\n",
       "      <th>car_company</th>\n",
       "    </tr>\n",
       "  </thead>\n",
       "  <tbody>\n",
       "    <tr>\n",
       "      <th>0</th>\n",
       "      <td>1</td>\n",
       "      <td>3</td>\n",
       "      <td>gas</td>\n",
       "      <td>std</td>\n",
       "      <td>2</td>\n",
       "      <td>convertible</td>\n",
       "      <td>rwd</td>\n",
       "      <td>front</td>\n",
       "      <td>88.6</td>\n",
       "      <td>168.8</td>\n",
       "      <td>...</td>\n",
       "      <td>mpfi</td>\n",
       "      <td>3.47</td>\n",
       "      <td>2.68</td>\n",
       "      <td>9.0</td>\n",
       "      <td>111</td>\n",
       "      <td>5000</td>\n",
       "      <td>21</td>\n",
       "      <td>27</td>\n",
       "      <td>13495.0</td>\n",
       "      <td>alfa-romero</td>\n",
       "    </tr>\n",
       "    <tr>\n",
       "      <th>1</th>\n",
       "      <td>2</td>\n",
       "      <td>3</td>\n",
       "      <td>gas</td>\n",
       "      <td>std</td>\n",
       "      <td>2</td>\n",
       "      <td>convertible</td>\n",
       "      <td>rwd</td>\n",
       "      <td>front</td>\n",
       "      <td>88.6</td>\n",
       "      <td>168.8</td>\n",
       "      <td>...</td>\n",
       "      <td>mpfi</td>\n",
       "      <td>3.47</td>\n",
       "      <td>2.68</td>\n",
       "      <td>9.0</td>\n",
       "      <td>111</td>\n",
       "      <td>5000</td>\n",
       "      <td>21</td>\n",
       "      <td>27</td>\n",
       "      <td>16500.0</td>\n",
       "      <td>alfa-romero</td>\n",
       "    </tr>\n",
       "    <tr>\n",
       "      <th>2</th>\n",
       "      <td>3</td>\n",
       "      <td>1</td>\n",
       "      <td>gas</td>\n",
       "      <td>std</td>\n",
       "      <td>2</td>\n",
       "      <td>hatchback</td>\n",
       "      <td>rwd</td>\n",
       "      <td>front</td>\n",
       "      <td>94.5</td>\n",
       "      <td>171.2</td>\n",
       "      <td>...</td>\n",
       "      <td>mpfi</td>\n",
       "      <td>2.68</td>\n",
       "      <td>3.47</td>\n",
       "      <td>9.0</td>\n",
       "      <td>154</td>\n",
       "      <td>5000</td>\n",
       "      <td>19</td>\n",
       "      <td>26</td>\n",
       "      <td>16500.0</td>\n",
       "      <td>alfa-romero</td>\n",
       "    </tr>\n",
       "    <tr>\n",
       "      <th>3</th>\n",
       "      <td>4</td>\n",
       "      <td>2</td>\n",
       "      <td>gas</td>\n",
       "      <td>std</td>\n",
       "      <td>4</td>\n",
       "      <td>sedan</td>\n",
       "      <td>fwd</td>\n",
       "      <td>front</td>\n",
       "      <td>99.8</td>\n",
       "      <td>176.6</td>\n",
       "      <td>...</td>\n",
       "      <td>mpfi</td>\n",
       "      <td>3.19</td>\n",
       "      <td>3.40</td>\n",
       "      <td>10.0</td>\n",
       "      <td>102</td>\n",
       "      <td>5500</td>\n",
       "      <td>24</td>\n",
       "      <td>30</td>\n",
       "      <td>13950.0</td>\n",
       "      <td>audi</td>\n",
       "    </tr>\n",
       "    <tr>\n",
       "      <th>4</th>\n",
       "      <td>5</td>\n",
       "      <td>2</td>\n",
       "      <td>gas</td>\n",
       "      <td>std</td>\n",
       "      <td>4</td>\n",
       "      <td>sedan</td>\n",
       "      <td>4wd</td>\n",
       "      <td>front</td>\n",
       "      <td>99.4</td>\n",
       "      <td>176.6</td>\n",
       "      <td>...</td>\n",
       "      <td>mpfi</td>\n",
       "      <td>3.19</td>\n",
       "      <td>3.40</td>\n",
       "      <td>8.0</td>\n",
       "      <td>115</td>\n",
       "      <td>5500</td>\n",
       "      <td>18</td>\n",
       "      <td>22</td>\n",
       "      <td>17450.0</td>\n",
       "      <td>audi</td>\n",
       "    </tr>\n",
       "  </tbody>\n",
       "</table>\n",
       "<p>5 rows × 26 columns</p>\n",
       "</div>"
      ],
      "text/plain": [
       "   car_id  symboling fuel_type aspiration  door_number     car_body  \\\n",
       "0       1          3       gas        std            2  convertible   \n",
       "1       2          3       gas        std            2  convertible   \n",
       "2       3          1       gas        std            2    hatchback   \n",
       "3       4          2       gas        std            4        sedan   \n",
       "4       5          2       gas        std            4        sedan   \n",
       "\n",
       "  drive_wheel engine_location  wheel_base  car_length  ...  fuel_system  \\\n",
       "0         rwd           front        88.6       168.8  ...         mpfi   \n",
       "1         rwd           front        88.6       168.8  ...         mpfi   \n",
       "2         rwd           front        94.5       171.2  ...         mpfi   \n",
       "3         fwd           front        99.8       176.6  ...         mpfi   \n",
       "4         4wd           front        99.4       176.6  ...         mpfi   \n",
       "\n",
       "   bore_ratio  stroke compression_ratio horsepower  peak_rpm city_mpg  \\\n",
       "0        3.47    2.68               9.0        111      5000       21   \n",
       "1        3.47    2.68               9.0        111      5000       21   \n",
       "2        2.68    3.47               9.0        154      5000       19   \n",
       "3        3.19    3.40              10.0        102      5500       24   \n",
       "4        3.19    3.40               8.0        115      5500       18   \n",
       "\n",
       "   highway_mpg    price  car_company  \n",
       "0           27  13495.0  alfa-romero  \n",
       "1           27  16500.0  alfa-romero  \n",
       "2           26  16500.0  alfa-romero  \n",
       "3           30  13950.0         audi  \n",
       "4           22  17450.0         audi  \n",
       "\n",
       "[5 rows x 26 columns]"
      ]
     },
     "execution_count": 114,
     "metadata": {},
     "output_type": "execute_result"
    }
   ],
   "source": [
    "data.head()"
   ]
  },
  {
   "cell_type": "markdown",
   "id": "4293f1cc",
   "metadata": {},
   "source": [
    "# `END -------------------------------------------------`"
   ]
  }
 ],
 "metadata": {
  "kernelspec": {
   "display_name": "Python 3",
   "language": "python",
   "name": "python3"
  },
  "language_info": {
   "codemirror_mode": {
    "name": "ipython",
    "version": 3
   },
   "file_extension": ".py",
   "mimetype": "text/x-python",
   "name": "python",
   "nbconvert_exporter": "python",
   "pygments_lexer": "ipython3",
   "version": "3.8.8"
  }
 },
 "nbformat": 4,
 "nbformat_minor": 5
}
