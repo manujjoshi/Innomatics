{
 "cells": [
  {
   "cell_type": "code",
   "execution_count": null,
   "metadata": {
    "id": "OLRZtWr25hkk"
   },
   "outputs": [],
   "source": [
    "import pandas as pd\n",
    "import numpy as np\n",
    "import seaborn as sns\n",
    "import matplotlib.pyplot as plt\n",
    "%matplotlib inline\n",
    "sns.set(style=\"whitegrid\", color_codes=True)\n",
    "pd.set_option('display.max_columns', None)\n"
   ]
  },
  {
   "cell_type": "code",
   "execution_count": null,
   "metadata": {
    "id": "d87Scr0x5hkn"
   },
   "outputs": [],
   "source": [
    "data=pd.read_excel('train.xlsx')\n"
   ]
  },
  {
   "cell_type": "code",
   "execution_count": null,
   "metadata": {
    "id": "zrz3MQNf5hko",
    "outputId": "f74866c7-4545-414e-e744-f4fc575bf78f"
   },
   "outputs": [
    {
     "data": {
      "text/plain": [
       "(3998, 38)"
      ]
     },
     "execution_count": 4,
     "metadata": {},
     "output_type": "execute_result"
    }
   ],
   "source": [
    "data.shape"
   ]
  },
  {
   "cell_type": "code",
   "execution_count": null,
   "metadata": {
    "id": "FUsDpELN5hkp",
    "outputId": "506d11e6-8e6d-4eda-f886-6dfda3bd71e8"
   },
   "outputs": [
    {
     "data": {
      "text/plain": [
       "Index(['ID', 'Salary', 'DOJ', 'DOL', 'Designation', 'JobCity', 'Gender', 'DOB',\n",
       "       '10percentage', '10board', '12graduation', '12percentage', '12board',\n",
       "       'CollegeID', 'CollegeTier', 'Degree', 'Specialization', 'collegeGPA',\n",
       "       'CollegeCityID', 'CollegeCityTier', 'CollegeState', 'GraduationYear',\n",
       "       'English', 'Logical', 'Quant', 'Domain', 'ComputerProgramming',\n",
       "       'ElectronicsAndSemicon', 'ComputerScience', 'MechanicalEngg',\n",
       "       'ElectricalEngg', 'TelecomEngg', 'CivilEngg', 'conscientiousness',\n",
       "       'agreeableness', 'extraversion', 'nueroticism',\n",
       "       'openess_to_experience'],\n",
       "      dtype='object')"
      ]
     },
     "execution_count": 5,
     "metadata": {},
     "output_type": "execute_result"
    }
   ],
   "source": [
    "data.columns"
   ]
  },
  {
   "cell_type": "code",
   "execution_count": null,
   "metadata": {
    "id": "JuFrJcLc5hkq",
    "outputId": "d30944d1-e78f-4a5e-c3f8-5897040b036c"
   },
   "outputs": [
    {
     "data": {
      "text/html": [
       "<div>\n",
       "<style scoped>\n",
       "    .dataframe tbody tr th:only-of-type {\n",
       "        vertical-align: middle;\n",
       "    }\n",
       "\n",
       "    .dataframe tbody tr th {\n",
       "        vertical-align: top;\n",
       "    }\n",
       "\n",
       "    .dataframe thead th {\n",
       "        text-align: right;\n",
       "    }\n",
       "</style>\n",
       "<table border=\"1\" class=\"dataframe\">\n",
       "  <thead>\n",
       "    <tr style=\"text-align: right;\">\n",
       "      <th></th>\n",
       "      <th>ID</th>\n",
       "      <th>Salary</th>\n",
       "      <th>10percentage</th>\n",
       "      <th>12graduation</th>\n",
       "      <th>12percentage</th>\n",
       "      <th>CollegeID</th>\n",
       "      <th>CollegeTier</th>\n",
       "      <th>collegeGPA</th>\n",
       "      <th>CollegeCityID</th>\n",
       "      <th>CollegeCityTier</th>\n",
       "      <th>GraduationYear</th>\n",
       "      <th>English</th>\n",
       "      <th>Logical</th>\n",
       "      <th>Quant</th>\n",
       "      <th>Domain</th>\n",
       "      <th>ComputerProgramming</th>\n",
       "      <th>ElectronicsAndSemicon</th>\n",
       "      <th>ComputerScience</th>\n",
       "      <th>MechanicalEngg</th>\n",
       "      <th>ElectricalEngg</th>\n",
       "      <th>TelecomEngg</th>\n",
       "      <th>CivilEngg</th>\n",
       "      <th>conscientiousness</th>\n",
       "      <th>agreeableness</th>\n",
       "      <th>extraversion</th>\n",
       "      <th>nueroticism</th>\n",
       "      <th>openess_to_experience</th>\n",
       "    </tr>\n",
       "  </thead>\n",
       "  <tbody>\n",
       "    <tr>\n",
       "      <th>count</th>\n",
       "      <td>3.998000e+03</td>\n",
       "      <td>3.998000e+03</td>\n",
       "      <td>3998.000000</td>\n",
       "      <td>3998.000000</td>\n",
       "      <td>3998.000000</td>\n",
       "      <td>3998.000000</td>\n",
       "      <td>3998.000000</td>\n",
       "      <td>3998.000000</td>\n",
       "      <td>3998.000000</td>\n",
       "      <td>3998.000000</td>\n",
       "      <td>3998.000000</td>\n",
       "      <td>3998.000000</td>\n",
       "      <td>3998.000000</td>\n",
       "      <td>3998.000000</td>\n",
       "      <td>3998.000000</td>\n",
       "      <td>3998.000000</td>\n",
       "      <td>3998.000000</td>\n",
       "      <td>3998.000000</td>\n",
       "      <td>3998.000000</td>\n",
       "      <td>3998.000000</td>\n",
       "      <td>3998.000000</td>\n",
       "      <td>3998.000000</td>\n",
       "      <td>3998.000000</td>\n",
       "      <td>3998.000000</td>\n",
       "      <td>3998.000000</td>\n",
       "      <td>3998.000000</td>\n",
       "      <td>3998.000000</td>\n",
       "    </tr>\n",
       "    <tr>\n",
       "      <th>mean</th>\n",
       "      <td>6.637945e+05</td>\n",
       "      <td>3.076998e+05</td>\n",
       "      <td>77.925443</td>\n",
       "      <td>2008.087544</td>\n",
       "      <td>74.466366</td>\n",
       "      <td>5156.851426</td>\n",
       "      <td>1.925713</td>\n",
       "      <td>71.486171</td>\n",
       "      <td>5156.851426</td>\n",
       "      <td>0.300400</td>\n",
       "      <td>2012.105803</td>\n",
       "      <td>501.649075</td>\n",
       "      <td>501.598799</td>\n",
       "      <td>513.378189</td>\n",
       "      <td>0.510490</td>\n",
       "      <td>353.102801</td>\n",
       "      <td>95.328414</td>\n",
       "      <td>90.742371</td>\n",
       "      <td>22.974737</td>\n",
       "      <td>16.478739</td>\n",
       "      <td>31.851176</td>\n",
       "      <td>2.683842</td>\n",
       "      <td>-0.037831</td>\n",
       "      <td>0.146496</td>\n",
       "      <td>0.002763</td>\n",
       "      <td>-0.169033</td>\n",
       "      <td>-0.138110</td>\n",
       "    </tr>\n",
       "    <tr>\n",
       "      <th>std</th>\n",
       "      <td>3.632182e+05</td>\n",
       "      <td>2.127375e+05</td>\n",
       "      <td>9.850162</td>\n",
       "      <td>1.653599</td>\n",
       "      <td>10.999933</td>\n",
       "      <td>4802.261482</td>\n",
       "      <td>0.262270</td>\n",
       "      <td>8.167338</td>\n",
       "      <td>4802.261482</td>\n",
       "      <td>0.458489</td>\n",
       "      <td>31.857271</td>\n",
       "      <td>104.940021</td>\n",
       "      <td>86.783297</td>\n",
       "      <td>122.302332</td>\n",
       "      <td>0.468671</td>\n",
       "      <td>205.355519</td>\n",
       "      <td>158.241218</td>\n",
       "      <td>175.273083</td>\n",
       "      <td>98.123311</td>\n",
       "      <td>87.585634</td>\n",
       "      <td>104.852845</td>\n",
       "      <td>36.658505</td>\n",
       "      <td>1.028666</td>\n",
       "      <td>0.941782</td>\n",
       "      <td>0.951471</td>\n",
       "      <td>1.007580</td>\n",
       "      <td>1.008075</td>\n",
       "    </tr>\n",
       "    <tr>\n",
       "      <th>min</th>\n",
       "      <td>1.124400e+04</td>\n",
       "      <td>3.500000e+04</td>\n",
       "      <td>43.000000</td>\n",
       "      <td>1995.000000</td>\n",
       "      <td>40.000000</td>\n",
       "      <td>2.000000</td>\n",
       "      <td>1.000000</td>\n",
       "      <td>6.450000</td>\n",
       "      <td>2.000000</td>\n",
       "      <td>0.000000</td>\n",
       "      <td>0.000000</td>\n",
       "      <td>180.000000</td>\n",
       "      <td>195.000000</td>\n",
       "      <td>120.000000</td>\n",
       "      <td>-1.000000</td>\n",
       "      <td>-1.000000</td>\n",
       "      <td>-1.000000</td>\n",
       "      <td>-1.000000</td>\n",
       "      <td>-1.000000</td>\n",
       "      <td>-1.000000</td>\n",
       "      <td>-1.000000</td>\n",
       "      <td>-1.000000</td>\n",
       "      <td>-4.126700</td>\n",
       "      <td>-5.781600</td>\n",
       "      <td>-4.600900</td>\n",
       "      <td>-2.643000</td>\n",
       "      <td>-7.375700</td>\n",
       "    </tr>\n",
       "    <tr>\n",
       "      <th>25%</th>\n",
       "      <td>3.342842e+05</td>\n",
       "      <td>1.800000e+05</td>\n",
       "      <td>71.680000</td>\n",
       "      <td>2007.000000</td>\n",
       "      <td>66.000000</td>\n",
       "      <td>494.000000</td>\n",
       "      <td>2.000000</td>\n",
       "      <td>66.407500</td>\n",
       "      <td>494.000000</td>\n",
       "      <td>0.000000</td>\n",
       "      <td>2012.000000</td>\n",
       "      <td>425.000000</td>\n",
       "      <td>445.000000</td>\n",
       "      <td>430.000000</td>\n",
       "      <td>0.342315</td>\n",
       "      <td>295.000000</td>\n",
       "      <td>-1.000000</td>\n",
       "      <td>-1.000000</td>\n",
       "      <td>-1.000000</td>\n",
       "      <td>-1.000000</td>\n",
       "      <td>-1.000000</td>\n",
       "      <td>-1.000000</td>\n",
       "      <td>-0.713525</td>\n",
       "      <td>-0.287100</td>\n",
       "      <td>-0.604800</td>\n",
       "      <td>-0.868200</td>\n",
       "      <td>-0.669200</td>\n",
       "    </tr>\n",
       "    <tr>\n",
       "      <th>50%</th>\n",
       "      <td>6.396000e+05</td>\n",
       "      <td>3.000000e+05</td>\n",
       "      <td>79.150000</td>\n",
       "      <td>2008.000000</td>\n",
       "      <td>74.400000</td>\n",
       "      <td>3879.000000</td>\n",
       "      <td>2.000000</td>\n",
       "      <td>71.720000</td>\n",
       "      <td>3879.000000</td>\n",
       "      <td>0.000000</td>\n",
       "      <td>2013.000000</td>\n",
       "      <td>500.000000</td>\n",
       "      <td>505.000000</td>\n",
       "      <td>515.000000</td>\n",
       "      <td>0.622643</td>\n",
       "      <td>415.000000</td>\n",
       "      <td>-1.000000</td>\n",
       "      <td>-1.000000</td>\n",
       "      <td>-1.000000</td>\n",
       "      <td>-1.000000</td>\n",
       "      <td>-1.000000</td>\n",
       "      <td>-1.000000</td>\n",
       "      <td>0.046400</td>\n",
       "      <td>0.212400</td>\n",
       "      <td>0.091400</td>\n",
       "      <td>-0.234400</td>\n",
       "      <td>-0.094300</td>\n",
       "    </tr>\n",
       "    <tr>\n",
       "      <th>75%</th>\n",
       "      <td>9.904800e+05</td>\n",
       "      <td>3.700000e+05</td>\n",
       "      <td>85.670000</td>\n",
       "      <td>2009.000000</td>\n",
       "      <td>82.600000</td>\n",
       "      <td>8818.000000</td>\n",
       "      <td>2.000000</td>\n",
       "      <td>76.327500</td>\n",
       "      <td>8818.000000</td>\n",
       "      <td>1.000000</td>\n",
       "      <td>2014.000000</td>\n",
       "      <td>570.000000</td>\n",
       "      <td>565.000000</td>\n",
       "      <td>595.000000</td>\n",
       "      <td>0.842248</td>\n",
       "      <td>495.000000</td>\n",
       "      <td>233.000000</td>\n",
       "      <td>-1.000000</td>\n",
       "      <td>-1.000000</td>\n",
       "      <td>-1.000000</td>\n",
       "      <td>-1.000000</td>\n",
       "      <td>-1.000000</td>\n",
       "      <td>0.702700</td>\n",
       "      <td>0.812800</td>\n",
       "      <td>0.672000</td>\n",
       "      <td>0.526200</td>\n",
       "      <td>0.502400</td>\n",
       "    </tr>\n",
       "    <tr>\n",
       "      <th>max</th>\n",
       "      <td>1.298275e+06</td>\n",
       "      <td>4.000000e+06</td>\n",
       "      <td>97.760000</td>\n",
       "      <td>2013.000000</td>\n",
       "      <td>98.700000</td>\n",
       "      <td>18409.000000</td>\n",
       "      <td>2.000000</td>\n",
       "      <td>99.930000</td>\n",
       "      <td>18409.000000</td>\n",
       "      <td>1.000000</td>\n",
       "      <td>2017.000000</td>\n",
       "      <td>875.000000</td>\n",
       "      <td>795.000000</td>\n",
       "      <td>900.000000</td>\n",
       "      <td>0.999910</td>\n",
       "      <td>840.000000</td>\n",
       "      <td>612.000000</td>\n",
       "      <td>715.000000</td>\n",
       "      <td>623.000000</td>\n",
       "      <td>676.000000</td>\n",
       "      <td>548.000000</td>\n",
       "      <td>516.000000</td>\n",
       "      <td>1.995300</td>\n",
       "      <td>1.904800</td>\n",
       "      <td>2.535400</td>\n",
       "      <td>3.352500</td>\n",
       "      <td>1.822400</td>\n",
       "    </tr>\n",
       "  </tbody>\n",
       "</table>\n",
       "</div>"
      ],
      "text/plain": [
       "                 ID        Salary  10percentage  12graduation  12percentage  \\\n",
       "count  3.998000e+03  3.998000e+03   3998.000000   3998.000000   3998.000000   \n",
       "mean   6.637945e+05  3.076998e+05     77.925443   2008.087544     74.466366   \n",
       "std    3.632182e+05  2.127375e+05      9.850162      1.653599     10.999933   \n",
       "min    1.124400e+04  3.500000e+04     43.000000   1995.000000     40.000000   \n",
       "25%    3.342842e+05  1.800000e+05     71.680000   2007.000000     66.000000   \n",
       "50%    6.396000e+05  3.000000e+05     79.150000   2008.000000     74.400000   \n",
       "75%    9.904800e+05  3.700000e+05     85.670000   2009.000000     82.600000   \n",
       "max    1.298275e+06  4.000000e+06     97.760000   2013.000000     98.700000   \n",
       "\n",
       "          CollegeID  CollegeTier   collegeGPA  CollegeCityID  CollegeCityTier  \\\n",
       "count   3998.000000  3998.000000  3998.000000    3998.000000      3998.000000   \n",
       "mean    5156.851426     1.925713    71.486171    5156.851426         0.300400   \n",
       "std     4802.261482     0.262270     8.167338    4802.261482         0.458489   \n",
       "min        2.000000     1.000000     6.450000       2.000000         0.000000   \n",
       "25%      494.000000     2.000000    66.407500     494.000000         0.000000   \n",
       "50%     3879.000000     2.000000    71.720000    3879.000000         0.000000   \n",
       "75%     8818.000000     2.000000    76.327500    8818.000000         1.000000   \n",
       "max    18409.000000     2.000000    99.930000   18409.000000         1.000000   \n",
       "\n",
       "       GraduationYear      English      Logical        Quant       Domain  \\\n",
       "count     3998.000000  3998.000000  3998.000000  3998.000000  3998.000000   \n",
       "mean      2012.105803   501.649075   501.598799   513.378189     0.510490   \n",
       "std         31.857271   104.940021    86.783297   122.302332     0.468671   \n",
       "min          0.000000   180.000000   195.000000   120.000000    -1.000000   \n",
       "25%       2012.000000   425.000000   445.000000   430.000000     0.342315   \n",
       "50%       2013.000000   500.000000   505.000000   515.000000     0.622643   \n",
       "75%       2014.000000   570.000000   565.000000   595.000000     0.842248   \n",
       "max       2017.000000   875.000000   795.000000   900.000000     0.999910   \n",
       "\n",
       "       ComputerProgramming  ElectronicsAndSemicon  ComputerScience  \\\n",
       "count          3998.000000            3998.000000      3998.000000   \n",
       "mean            353.102801              95.328414        90.742371   \n",
       "std             205.355519             158.241218       175.273083   \n",
       "min              -1.000000              -1.000000        -1.000000   \n",
       "25%             295.000000              -1.000000        -1.000000   \n",
       "50%             415.000000              -1.000000        -1.000000   \n",
       "75%             495.000000             233.000000        -1.000000   \n",
       "max             840.000000             612.000000       715.000000   \n",
       "\n",
       "       MechanicalEngg  ElectricalEngg  TelecomEngg    CivilEngg  \\\n",
       "count     3998.000000     3998.000000  3998.000000  3998.000000   \n",
       "mean        22.974737       16.478739    31.851176     2.683842   \n",
       "std         98.123311       87.585634   104.852845    36.658505   \n",
       "min         -1.000000       -1.000000    -1.000000    -1.000000   \n",
       "25%         -1.000000       -1.000000    -1.000000    -1.000000   \n",
       "50%         -1.000000       -1.000000    -1.000000    -1.000000   \n",
       "75%         -1.000000       -1.000000    -1.000000    -1.000000   \n",
       "max        623.000000      676.000000   548.000000   516.000000   \n",
       "\n",
       "       conscientiousness  agreeableness  extraversion  nueroticism  \\\n",
       "count        3998.000000    3998.000000   3998.000000  3998.000000   \n",
       "mean           -0.037831       0.146496      0.002763    -0.169033   \n",
       "std             1.028666       0.941782      0.951471     1.007580   \n",
       "min            -4.126700      -5.781600     -4.600900    -2.643000   \n",
       "25%            -0.713525      -0.287100     -0.604800    -0.868200   \n",
       "50%             0.046400       0.212400      0.091400    -0.234400   \n",
       "75%             0.702700       0.812800      0.672000     0.526200   \n",
       "max             1.995300       1.904800      2.535400     3.352500   \n",
       "\n",
       "       openess_to_experience  \n",
       "count            3998.000000  \n",
       "mean               -0.138110  \n",
       "std                 1.008075  \n",
       "min                -7.375700  \n",
       "25%                -0.669200  \n",
       "50%                -0.094300  \n",
       "75%                 0.502400  \n",
       "max                 1.822400  "
      ]
     },
     "execution_count": 6,
     "metadata": {},
     "output_type": "execute_result"
    }
   ],
   "source": [
    "data.describe()"
   ]
  },
  {
   "cell_type": "code",
   "execution_count": null,
   "metadata": {
    "id": "DGOWjQsP5hkq",
    "outputId": "831e91a7-6df3-46a9-eecf-bc7f8a5598a3"
   },
   "outputs": [
    {
     "data": {
      "text/html": [
       "<div>\n",
       "<style scoped>\n",
       "    .dataframe tbody tr th:only-of-type {\n",
       "        vertical-align: middle;\n",
       "    }\n",
       "\n",
       "    .dataframe tbody tr th {\n",
       "        vertical-align: top;\n",
       "    }\n",
       "\n",
       "    .dataframe thead th {\n",
       "        text-align: right;\n",
       "    }\n",
       "</style>\n",
       "<table border=\"1\" class=\"dataframe\">\n",
       "  <thead>\n",
       "    <tr style=\"text-align: right;\">\n",
       "      <th></th>\n",
       "      <th>Salary</th>\n",
       "      <th>DOJ</th>\n",
       "      <th>DOL</th>\n",
       "      <th>Designation</th>\n",
       "      <th>JobCity</th>\n",
       "      <th>Gender</th>\n",
       "      <th>DOB</th>\n",
       "      <th>10percentage</th>\n",
       "      <th>10board</th>\n",
       "      <th>12graduation</th>\n",
       "      <th>12percentage</th>\n",
       "      <th>12board</th>\n",
       "      <th>CollegeID</th>\n",
       "      <th>CollegeTier</th>\n",
       "      <th>Degree</th>\n",
       "      <th>Specialization</th>\n",
       "      <th>collegeGPA</th>\n",
       "      <th>CollegeCityID</th>\n",
       "      <th>CollegeCityTier</th>\n",
       "      <th>CollegeState</th>\n",
       "      <th>GraduationYear</th>\n",
       "      <th>English</th>\n",
       "      <th>Logical</th>\n",
       "      <th>Quant</th>\n",
       "      <th>Domain</th>\n",
       "      <th>ComputerProgramming</th>\n",
       "      <th>ElectronicsAndSemicon</th>\n",
       "      <th>ComputerScience</th>\n",
       "      <th>MechanicalEngg</th>\n",
       "      <th>ElectricalEngg</th>\n",
       "      <th>TelecomEngg</th>\n",
       "      <th>CivilEngg</th>\n",
       "      <th>conscientiousness</th>\n",
       "      <th>agreeableness</th>\n",
       "      <th>extraversion</th>\n",
       "      <th>nueroticism</th>\n",
       "      <th>openess_to_experience</th>\n",
       "    </tr>\n",
       "    <tr>\n",
       "      <th>ID</th>\n",
       "      <th></th>\n",
       "      <th></th>\n",
       "      <th></th>\n",
       "      <th></th>\n",
       "      <th></th>\n",
       "      <th></th>\n",
       "      <th></th>\n",
       "      <th></th>\n",
       "      <th></th>\n",
       "      <th></th>\n",
       "      <th></th>\n",
       "      <th></th>\n",
       "      <th></th>\n",
       "      <th></th>\n",
       "      <th></th>\n",
       "      <th></th>\n",
       "      <th></th>\n",
       "      <th></th>\n",
       "      <th></th>\n",
       "      <th></th>\n",
       "      <th></th>\n",
       "      <th></th>\n",
       "      <th></th>\n",
       "      <th></th>\n",
       "      <th></th>\n",
       "      <th></th>\n",
       "      <th></th>\n",
       "      <th></th>\n",
       "      <th></th>\n",
       "      <th></th>\n",
       "      <th></th>\n",
       "      <th></th>\n",
       "      <th></th>\n",
       "      <th></th>\n",
       "      <th></th>\n",
       "      <th></th>\n",
       "      <th></th>\n",
       "    </tr>\n",
       "  </thead>\n",
       "  <tbody>\n",
       "    <tr>\n",
       "      <th>203097</th>\n",
       "      <td>420000</td>\n",
       "      <td>2012-06-01</td>\n",
       "      <td>present</td>\n",
       "      <td>senior quality engineer</td>\n",
       "      <td>Bangalore</td>\n",
       "      <td>f</td>\n",
       "      <td>1990-02-19</td>\n",
       "      <td>84.3</td>\n",
       "      <td>board ofsecondary education,ap</td>\n",
       "      <td>2007</td>\n",
       "      <td>95.8</td>\n",
       "      <td>board of intermediate education,ap</td>\n",
       "      <td>1141</td>\n",
       "      <td>2</td>\n",
       "      <td>B.Tech/B.E.</td>\n",
       "      <td>computer engineering</td>\n",
       "      <td>78.00</td>\n",
       "      <td>1141</td>\n",
       "      <td>0</td>\n",
       "      <td>Andhra Pradesh</td>\n",
       "      <td>2011</td>\n",
       "      <td>515</td>\n",
       "      <td>585</td>\n",
       "      <td>525</td>\n",
       "      <td>0.635979</td>\n",
       "      <td>445</td>\n",
       "      <td>-1</td>\n",
       "      <td>-1</td>\n",
       "      <td>-1</td>\n",
       "      <td>-1</td>\n",
       "      <td>-1</td>\n",
       "      <td>-1</td>\n",
       "      <td>0.9737</td>\n",
       "      <td>0.8128</td>\n",
       "      <td>0.5269</td>\n",
       "      <td>1.35490</td>\n",
       "      <td>-0.4455</td>\n",
       "    </tr>\n",
       "    <tr>\n",
       "      <th>579905</th>\n",
       "      <td>500000</td>\n",
       "      <td>2013-09-01</td>\n",
       "      <td>present</td>\n",
       "      <td>assistant manager</td>\n",
       "      <td>Indore</td>\n",
       "      <td>m</td>\n",
       "      <td>1989-10-04</td>\n",
       "      <td>85.4</td>\n",
       "      <td>cbse</td>\n",
       "      <td>2007</td>\n",
       "      <td>85.0</td>\n",
       "      <td>cbse</td>\n",
       "      <td>5807</td>\n",
       "      <td>2</td>\n",
       "      <td>B.Tech/B.E.</td>\n",
       "      <td>electronics and communication engineering</td>\n",
       "      <td>70.06</td>\n",
       "      <td>5807</td>\n",
       "      <td>0</td>\n",
       "      <td>Madhya Pradesh</td>\n",
       "      <td>2012</td>\n",
       "      <td>695</td>\n",
       "      <td>610</td>\n",
       "      <td>780</td>\n",
       "      <td>0.960603</td>\n",
       "      <td>-1</td>\n",
       "      <td>466</td>\n",
       "      <td>-1</td>\n",
       "      <td>-1</td>\n",
       "      <td>-1</td>\n",
       "      <td>-1</td>\n",
       "      <td>-1</td>\n",
       "      <td>-0.7335</td>\n",
       "      <td>0.3789</td>\n",
       "      <td>1.2396</td>\n",
       "      <td>-0.10760</td>\n",
       "      <td>0.8637</td>\n",
       "    </tr>\n",
       "    <tr>\n",
       "      <th>810601</th>\n",
       "      <td>325000</td>\n",
       "      <td>2014-06-01</td>\n",
       "      <td>present</td>\n",
       "      <td>systems engineer</td>\n",
       "      <td>Chennai</td>\n",
       "      <td>f</td>\n",
       "      <td>1992-08-03</td>\n",
       "      <td>85.0</td>\n",
       "      <td>cbse</td>\n",
       "      <td>2010</td>\n",
       "      <td>68.2</td>\n",
       "      <td>cbse</td>\n",
       "      <td>64</td>\n",
       "      <td>2</td>\n",
       "      <td>B.Tech/B.E.</td>\n",
       "      <td>information technology</td>\n",
       "      <td>70.00</td>\n",
       "      <td>64</td>\n",
       "      <td>0</td>\n",
       "      <td>Uttar Pradesh</td>\n",
       "      <td>2014</td>\n",
       "      <td>615</td>\n",
       "      <td>545</td>\n",
       "      <td>370</td>\n",
       "      <td>0.450877</td>\n",
       "      <td>395</td>\n",
       "      <td>-1</td>\n",
       "      <td>-1</td>\n",
       "      <td>-1</td>\n",
       "      <td>-1</td>\n",
       "      <td>-1</td>\n",
       "      <td>-1</td>\n",
       "      <td>0.2718</td>\n",
       "      <td>1.7109</td>\n",
       "      <td>0.1637</td>\n",
       "      <td>-0.86820</td>\n",
       "      <td>0.6721</td>\n",
       "    </tr>\n",
       "    <tr>\n",
       "      <th>267447</th>\n",
       "      <td>1100000</td>\n",
       "      <td>2011-07-01</td>\n",
       "      <td>present</td>\n",
       "      <td>senior software engineer</td>\n",
       "      <td>Gurgaon</td>\n",
       "      <td>m</td>\n",
       "      <td>1989-12-05</td>\n",
       "      <td>85.6</td>\n",
       "      <td>cbse</td>\n",
       "      <td>2007</td>\n",
       "      <td>83.6</td>\n",
       "      <td>cbse</td>\n",
       "      <td>6920</td>\n",
       "      <td>1</td>\n",
       "      <td>B.Tech/B.E.</td>\n",
       "      <td>computer engineering</td>\n",
       "      <td>74.64</td>\n",
       "      <td>6920</td>\n",
       "      <td>1</td>\n",
       "      <td>Delhi</td>\n",
       "      <td>2011</td>\n",
       "      <td>635</td>\n",
       "      <td>585</td>\n",
       "      <td>625</td>\n",
       "      <td>0.974396</td>\n",
       "      <td>615</td>\n",
       "      <td>-1</td>\n",
       "      <td>-1</td>\n",
       "      <td>-1</td>\n",
       "      <td>-1</td>\n",
       "      <td>-1</td>\n",
       "      <td>-1</td>\n",
       "      <td>0.0464</td>\n",
       "      <td>0.3448</td>\n",
       "      <td>-0.3440</td>\n",
       "      <td>-0.40780</td>\n",
       "      <td>-0.9194</td>\n",
       "    </tr>\n",
       "    <tr>\n",
       "      <th>343523</th>\n",
       "      <td>200000</td>\n",
       "      <td>2014-03-01</td>\n",
       "      <td>2015-03-01 00:00:00</td>\n",
       "      <td>get</td>\n",
       "      <td>Manesar</td>\n",
       "      <td>m</td>\n",
       "      <td>1991-02-27</td>\n",
       "      <td>78.0</td>\n",
       "      <td>cbse</td>\n",
       "      <td>2008</td>\n",
       "      <td>76.8</td>\n",
       "      <td>cbse</td>\n",
       "      <td>11368</td>\n",
       "      <td>2</td>\n",
       "      <td>B.Tech/B.E.</td>\n",
       "      <td>electronics and communication engineering</td>\n",
       "      <td>73.90</td>\n",
       "      <td>11368</td>\n",
       "      <td>0</td>\n",
       "      <td>Uttar Pradesh</td>\n",
       "      <td>2012</td>\n",
       "      <td>545</td>\n",
       "      <td>625</td>\n",
       "      <td>465</td>\n",
       "      <td>0.124502</td>\n",
       "      <td>-1</td>\n",
       "      <td>233</td>\n",
       "      <td>-1</td>\n",
       "      <td>-1</td>\n",
       "      <td>-1</td>\n",
       "      <td>-1</td>\n",
       "      <td>-1</td>\n",
       "      <td>-0.8810</td>\n",
       "      <td>-0.2793</td>\n",
       "      <td>-1.0697</td>\n",
       "      <td>0.09163</td>\n",
       "      <td>-0.1295</td>\n",
       "    </tr>\n",
       "  </tbody>\n",
       "</table>\n",
       "</div>"
      ],
      "text/plain": [
       "         Salary        DOJ                  DOL               Designation  \\\n",
       "ID                                                                          \n",
       "203097   420000 2012-06-01              present   senior quality engineer   \n",
       "579905   500000 2013-09-01              present         assistant manager   \n",
       "810601   325000 2014-06-01              present          systems engineer   \n",
       "267447  1100000 2011-07-01              present  senior software engineer   \n",
       "343523   200000 2014-03-01  2015-03-01 00:00:00                       get   \n",
       "\n",
       "          JobCity Gender        DOB  10percentage  \\\n",
       "ID                                                  \n",
       "203097  Bangalore      f 1990-02-19          84.3   \n",
       "579905     Indore      m 1989-10-04          85.4   \n",
       "810601    Chennai      f 1992-08-03          85.0   \n",
       "267447    Gurgaon      m 1989-12-05          85.6   \n",
       "343523    Manesar      m 1991-02-27          78.0   \n",
       "\n",
       "                               10board  12graduation  12percentage  \\\n",
       "ID                                                                   \n",
       "203097  board ofsecondary education,ap          2007          95.8   \n",
       "579905                            cbse          2007          85.0   \n",
       "810601                            cbse          2010          68.2   \n",
       "267447                            cbse          2007          83.6   \n",
       "343523                            cbse          2008          76.8   \n",
       "\n",
       "                                   12board  CollegeID  CollegeTier  \\\n",
       "ID                                                                   \n",
       "203097  board of intermediate education,ap       1141            2   \n",
       "579905                                cbse       5807            2   \n",
       "810601                                cbse         64            2   \n",
       "267447                                cbse       6920            1   \n",
       "343523                                cbse      11368            2   \n",
       "\n",
       "             Degree                             Specialization  collegeGPA  \\\n",
       "ID                                                                           \n",
       "203097  B.Tech/B.E.                       computer engineering       78.00   \n",
       "579905  B.Tech/B.E.  electronics and communication engineering       70.06   \n",
       "810601  B.Tech/B.E.                     information technology       70.00   \n",
       "267447  B.Tech/B.E.                       computer engineering       74.64   \n",
       "343523  B.Tech/B.E.  electronics and communication engineering       73.90   \n",
       "\n",
       "        CollegeCityID  CollegeCityTier    CollegeState  GraduationYear  \\\n",
       "ID                                                                       \n",
       "203097           1141                0  Andhra Pradesh            2011   \n",
       "579905           5807                0  Madhya Pradesh            2012   \n",
       "810601             64                0   Uttar Pradesh            2014   \n",
       "267447           6920                1           Delhi            2011   \n",
       "343523          11368                0   Uttar Pradesh            2012   \n",
       "\n",
       "        English  Logical  Quant    Domain  ComputerProgramming  \\\n",
       "ID                                                               \n",
       "203097      515      585    525  0.635979                  445   \n",
       "579905      695      610    780  0.960603                   -1   \n",
       "810601      615      545    370  0.450877                  395   \n",
       "267447      635      585    625  0.974396                  615   \n",
       "343523      545      625    465  0.124502                   -1   \n",
       "\n",
       "        ElectronicsAndSemicon  ComputerScience  MechanicalEngg  \\\n",
       "ID                                                               \n",
       "203097                     -1               -1              -1   \n",
       "579905                    466               -1              -1   \n",
       "810601                     -1               -1              -1   \n",
       "267447                     -1               -1              -1   \n",
       "343523                    233               -1              -1   \n",
       "\n",
       "        ElectricalEngg  TelecomEngg  CivilEngg  conscientiousness  \\\n",
       "ID                                                                  \n",
       "203097              -1           -1         -1             0.9737   \n",
       "579905              -1           -1         -1            -0.7335   \n",
       "810601              -1           -1         -1             0.2718   \n",
       "267447              -1           -1         -1             0.0464   \n",
       "343523              -1           -1         -1            -0.8810   \n",
       "\n",
       "        agreeableness  extraversion  nueroticism  openess_to_experience  \n",
       "ID                                                                       \n",
       "203097         0.8128        0.5269      1.35490                -0.4455  \n",
       "579905         0.3789        1.2396     -0.10760                 0.8637  \n",
       "810601         1.7109        0.1637     -0.86820                 0.6721  \n",
       "267447         0.3448       -0.3440     -0.40780                -0.9194  \n",
       "343523        -0.2793       -1.0697      0.09163                -0.1295  "
      ]
     },
     "execution_count": 7,
     "metadata": {},
     "output_type": "execute_result"
    }
   ],
   "source": [
    "data.set_index(\"ID\" ,inplace=True)\n",
    "data.head(5)"
   ]
  },
  {
   "cell_type": "markdown",
   "metadata": {
    "id": "WbyuUUUb5hkr"
   },
   "source": [
    "# Removing outliers "
   ]
  },
  {
   "cell_type": "markdown",
   "metadata": {
    "id": "JrZlVTtt5hks"
   },
   "source": [
    "Salary >10,00,000 is very rare, especially in the first job. So these are considered as outliers and removed."
   ]
  },
  {
   "cell_type": "code",
   "execution_count": null,
   "metadata": {
    "id": "_8iKviWT5hkt",
    "outputId": "39ca3b9c-acfc-45ee-c60e-75d139ee6cb9"
   },
   "outputs": [
    {
     "name": "stdout",
     "output_type": "stream",
     "text": [
      "Number of Rows in dataframe in which Salary 250000  :  1710\n",
      "Number of Rows in dataframe in which Salary 500000  :  3683\n",
      "Number of Rows in dataframe in which Salary 750000  :  3929\n",
      "Number of Rows in dataframe in which Salary 1000000  :  3962\n",
      "Number of Rows in dataframe in which Salary 1250000  :  3975\n",
      "Number of Rows in dataframe in which Salary 1500000  :  3981\n",
      "Number of Rows in dataframe in which Salary 1750000  :  3982\n"
     ]
    }
   ],
   "source": [
    "# row in which value of 'salary less than certian amount\n",
    "for i in range(1,8):\n",
    "    seriesObj = data.apply(lambda x: True if x['Salary'] <= 250000*i  else False , axis=1)\n",
    "    # Count number of True in series\n",
    "    numOfRows = len(seriesObj[seriesObj == True].index)\n",
    " \n",
    "    print('Number of Rows in dataframe in which Salary %d  : '%((250000*i)), numOfRows)\n"
   ]
  },
  {
   "cell_type": "code",
   "execution_count": null,
   "metadata": {
    "id": "1BPK_E3d5hkt",
    "outputId": "7f5a1ba4-d9fa-4aab-f5c1-290b96492b0f"
   },
   "outputs": [
    {
     "data": {
      "text/plain": [
       "(3962, 37)"
      ]
     },
     "execution_count": 9,
     "metadata": {},
     "output_type": "execute_result"
    }
   ],
   "source": [
    "indexNames = data[ data['Salary'] > 1000000 ].index\n",
    " \n",
    "# Delete these row indexes from dataFrame\n",
    "data.drop(indexNames , inplace=True)\n",
    "data.shape"
   ]
  },
  {
   "cell_type": "markdown",
   "metadata": {
    "id": "N73oRrhn5hku"
   },
   "source": [
    "Only year is retained from the DOB column."
   ]
  },
  {
   "cell_type": "code",
   "execution_count": null,
   "metadata": {
    "id": "-3BT-t9R5hkv",
    "scrolled": false
   },
   "outputs": [],
   "source": [
    "data['DOB']=pd.to_datetime(data['DOB'])\n",
    "data['Dyear']=data['DOB'].dt.year\n",
    "data.drop(columns=['DOB'],axis=1,inplace=True)\n",
    "\n",
    "data['12graduation']=pd.to_datetime(data['12graduation'])\n",
    "data['12gyear']=data['12graduation'].dt.year\n",
    "data.drop(columns=['12graduation'],axis=1,inplace=True)\n",
    "\n",
    "data['GraduationYear']=pd.to_datetime(data['GraduationYear'])\n",
    "data['gyear']=data['GraduationYear'].dt.year\n",
    "data.drop(columns=['GraduationYear'],axis=1,inplace=True)\n",
    "\n",
    "data['12GradAge']=abs(data['12gyear']-data['Dyear'])\n",
    "data['GradAge']=abs(data['gyear']-data['Dyear'])\n",
    "\n"
   ]
  },
  {
   "cell_type": "markdown",
   "metadata": {
    "id": "4-AHjpEr5hkw"
   },
   "source": [
    "Dropping the collegeID,collegeCityID and DOB columns since they are unnecessary for our analysis."
   ]
  },
  {
   "cell_type": "code",
   "execution_count": null,
   "metadata": {
    "id": "Kd7WK75F5hkw"
   },
   "outputs": [],
   "source": [
    "data.drop(columns=['CollegeID','CollegeCityID'],axis=1,inplace=True)\n",
    "data.drop(columns=['12gyear', 'gyear','Dyear'],axis=1,inplace=True)\n"
   ]
  },
  {
   "cell_type": "code",
   "execution_count": null,
   "metadata": {
    "id": "YxvOpCta5hkx",
    "outputId": "b293fa60-9b14-4ac5-9dbb-cf2aa9180022"
   },
   "outputs": [
    {
     "data": {
      "text/plain": [
       "Salary                      0\n",
       "DOJ                         0\n",
       "DOL                         0\n",
       "Designation                 0\n",
       "JobCity                     0\n",
       "Gender                      0\n",
       "10percentage                0\n",
       "10board                   344\n",
       "12percentage                0\n",
       "12board                   353\n",
       "CollegeTier                 0\n",
       "Degree                      0\n",
       "Specialization              0\n",
       "collegeGPA                  0\n",
       "CollegeCityTier          2771\n",
       "CollegeState                0\n",
       "English                     0\n",
       "Logical                     0\n",
       "Quant                       0\n",
       "Domain                    244\n",
       "ComputerProgramming       863\n",
       "ElectronicsAndSemicon       0\n",
       "ComputerScience          3066\n",
       "MechanicalEngg              0\n",
       "ElectricalEngg              0\n",
       "TelecomEngg                 0\n",
       "CivilEngg                   0\n",
       "conscientiousness           0\n",
       "agreeableness               0\n",
       "extraversion                0\n",
       "nueroticism                 0\n",
       "openess_to_experience       0\n",
       "12GradAge                   0\n",
       "GradAge                     0\n",
       "dtype: int64"
      ]
     },
     "execution_count": 13,
     "metadata": {},
     "output_type": "execute_result"
    }
   ],
   "source": [
    "(data == 0).astype(int).sum(axis=0) #counting the number of 0's per column"
   ]
  },
  {
   "cell_type": "code",
   "execution_count": null,
   "metadata": {
    "id": "B7cjbdcl5hkx",
    "outputId": "93af65e1-898d-431c-bfef-283d7aca29fd"
   },
   "outputs": [
    {
     "data": {
      "text/plain": [
       "Salary                      0\n",
       "DOJ                         0\n",
       "DOL                         0\n",
       "Designation                 0\n",
       "JobCity                   458\n",
       "Gender                      0\n",
       "10percentage                0\n",
       "10board                     0\n",
       "12percentage                0\n",
       "12board                     0\n",
       "CollegeTier                 0\n",
       "Degree                      0\n",
       "Specialization              0\n",
       "collegeGPA                  0\n",
       "CollegeCityTier             0\n",
       "CollegeState                0\n",
       "English                     0\n",
       "Logical                     0\n",
       "Quant                       0\n",
       "Domain                      0\n",
       "ComputerProgramming         0\n",
       "ElectronicsAndSemicon    2827\n",
       "ComputerScience             0\n",
       "MechanicalEngg           3731\n",
       "ElectricalEngg           3801\n",
       "TelecomEngg              3590\n",
       "CivilEngg                3920\n",
       "conscientiousness           0\n",
       "agreeableness               0\n",
       "extraversion                0\n",
       "nueroticism                 0\n",
       "openess_to_experience       0\n",
       "12GradAge                   0\n",
       "GradAge                     0\n",
       "dtype: int64"
      ]
     },
     "execution_count": 14,
     "metadata": {},
     "output_type": "execute_result"
    }
   ],
   "source": [
    "data.isin([-1, 'NaN']).sum() #finding number of null values\n"
   ]
  },
  {
   "cell_type": "markdown",
   "metadata": {
    "id": "asVcVVdA5hky"
   },
   "source": [
    "One hot ecoding for 12board column"
   ]
  },
  {
   "cell_type": "code",
   "execution_count": null,
   "metadata": {
    "id": "8Z3vZT1s5hky",
    "outputId": "837da332-83e5-48c7-d482-a08685bd495c"
   },
   "outputs": [
    {
     "data": {
      "text/plain": [
       "array(['board of intermediate education,ap', 'cbse', 'state board',\n",
       "       'mp board', 'isc', 'icse', 'karnataka pre university board', 'up',\n",
       "       'p u board, karnataka', 'dept of pre-university education', 'bie',\n",
       "       'kerala state hse board', 'up board', 0, 'bseb', 'chse', 'puc',\n",
       "       ' upboard',\n",
       "       'state  board of intermediate education, andhra pradesh',\n",
       "       'karnataka state board',\n",
       "       'west bengal state council of technical education', 'wbchse',\n",
       "       'maharashtra state board', 'ssc', 'isc board',\n",
       "       'sda matric higher secondary school', 'uttar pradesh board', 'ibe',\n",
       "       'chsc', 'board of intermediate', 'isce', 'upboard', 'sbtet',\n",
       "       'hisher seconadry examination(state board)', 'pre university',\n",
       "       'borad of intermediate', 'j & k board',\n",
       "       'intermediate board of andhra pardesh', 'rbse',\n",
       "       'central board of secondary education', 'jkbose', 'hbse',\n",
       "       'board of intermediate education', 'state', 'ms board', 'pue',\n",
       "       'intermediate state board', 'stateboard', 'hsc',\n",
       "       'electonincs and communication(dote)', 'karnataka pu board',\n",
       "       'government polytechnic mumbai , mumbai board', 'pu board',\n",
       "       'baord of intermediate education', 'apbie', 'andhra board',\n",
       "       'tamilnadu stateboard',\n",
       "       'west bengal council of higher secondary education',\n",
       "       'cbse,new delhi', 'u p board', 'intermediate', 'biec,patna',\n",
       "       'diploma in engg (e &tc) tilak maharashtra vidayapeeth',\n",
       "       'hsc pune', 'pu board karnataka', 'kerala', 'gsheb',\n",
       "       'up(allahabad)', 'nagpur', 'st joseph hr sec school',\n",
       "       'pre university board', 'ipe', 'maharashtra', 'kea', 'apsb',\n",
       "       'himachal pradesh board of school education', 'staae board',\n",
       "       'international baccalaureate (ib) diploma', 'nios',\n",
       "       'karnataka board of university',\n",
       "       'board of secondary education rajasthan', 'uttarakhand board',\n",
       "       'ua', 'scte vt orissa', 'matriculation',\n",
       "       'department of pre-university education', 'wbscte',\n",
       "       'preuniversity board(karnataka)', 'jharkhand accademic council',\n",
       "       'bieap', 'msbte (diploma in computer technology)',\n",
       "       'jharkhand acamedic council (ranchi)',\n",
       "       'department of pre-university eduction', 'biec', 'all india board',\n",
       "       'sjrcw', ' board of intermediate', 'msbte',\n",
       "       'sri sankara vidyalaya', 'chse, odisha', 'bihar board',\n",
       "       'maharashtra state(latur board)', 'rajasthan board', 'mpboard',\n",
       "       'state board of technical eduction panchkula', 'upbhsie', 'apbsc',\n",
       "       'state board of technical education and training',\n",
       "       'secondary board of rajasthan',\n",
       "       'tamilnadu higher secondary education board',\n",
       "       'jharkhand academic council',\n",
       "       'board of intermediate education,hyderabad', 'up baord', 'pu',\n",
       "       'dte', 'board of secondary education', 'pre-university',\n",
       "       'board of intermediate education,andhra pradesh',\n",
       "       'up board , allahabad', 'srv girls higher sec school,rasipuram',\n",
       "       'intermediate board of education,andhra pradesh',\n",
       "       'intermediate board examination',\n",
       "       'department of pre-university education, bangalore',\n",
       "       'stmiras college for girls', 'mbose',\n",
       "       'department of pre-university education(government of karnataka)',\n",
       "       'dpue', 'msbte pune', 'board of school education harayana',\n",
       "       'sbte, jharkhand', 'bihar intermediate education council, patna',\n",
       "       'higher secondary', 's j polytechnic', 'latur',\n",
       "       'board of secondary education, rajasthan', 'jyoti nivas', 'pseb',\n",
       "       'biec-patna', 'board of intermediate education,andra pradesh',\n",
       "       'chse,orissa', 'pre-university board', 'mp', 'intermediate board',\n",
       "       'govt of karnataka department of pre-university education',\n",
       "       'karnataka education board',\n",
       "       'board of secondary school of education', 'pu board ,karnataka',\n",
       "       'karnataka secondary education board', 'karnataka sslc',\n",
       "       'board of intermediate ap', 'u p', 'state board of karnataka',\n",
       "       'directorate of technical education,banglore', 'matric board',\n",
       "       'andhpradesh board of intermediate education',\n",
       "       'stjoseph of cluny matrhrsecschool,neyveli,cuddalore district',\n",
       "       'bte up', 'scte and vt ,orissa', 'hbsc',\n",
       "       'jawahar higher secondary school', 'nagpur board', 'bsemp',\n",
       "       'board of intermediate education, andhra pradesh',\n",
       "       'board of higher secondary orissa',\n",
       "       'board of secondary education,rajasthan(rbse)',\n",
       "       'board of intermediate education:ap,hyderabad', 'science college',\n",
       "       'karnatak pu board', 'aissce', 'pre university board of karnataka',\n",
       "       'bihar', 'kerala state board', 'uo board', 'cicse',\n",
       "       'karnataka board', 'tn state board',\n",
       "       'kolhapur divisional board, maharashtra',\n",
       "       'jaycee matriculation school',\n",
       "       'board of higher secondary examination, kerala',\n",
       "       'uttaranchal state board', 'intermidiate', 'bciec,patna', 'bice',\n",
       "       'karnataka state', 'state broad', 'wbbhse', 'gseb',\n",
       "       'uttar pradesh', 'ghseb', 'board of school education uttarakhand',\n",
       "       'gseb/technical education board', 'msbshse,pune',\n",
       "       'tamilnadu state board', 'board of technical education',\n",
       "       'kerala university', 'uttaranchal shiksha avam pariksha parishad',\n",
       "       'chse(concil of higher secondary education)',\n",
       "       'bright way college, (up board)', 'board of intermidiate',\n",
       "       'higher secondary state certificate', 'karanataka secondary board',\n",
       "       'maharashtra board', 'cgbse', 'diploma in computers', 'bte,delhi',\n",
       "       'rajasthan board ajmer', 'mpbse', 'pune board',\n",
       "       'state board of technical education', 'gshseb',\n",
       "       'amravati divisional board', 'dote (diploma - computer engg)',\n",
       "       'karnataka pre-university board', 'jharkhand board',\n",
       "       'punjab state board of technical education & industrial training',\n",
       "       'department of technical education',\n",
       "       'sri chaitanya junior kalasala', 'state board (jac, ranchi)',\n",
       "       'aligarh muslim university', 'tamil nadu state board', 'hse',\n",
       "       'karnataka secondary education', 'state board ',\n",
       "       'karnataka pre unversity board',\n",
       "       'ks rangasamy institute of technology',\n",
       "       'karnataka board secondary education', 'narayana junior college',\n",
       "       'bteup', 'board of intermediate(bie)', 'hsc maharashtra board',\n",
       "       'tamil nadu state', 'uttrakhand board', 'psbte',\n",
       "       'stateboard/tamil nadu', 'intermediate council patna',\n",
       "       'technical board, punchkula', 'board of intermidiate examination',\n",
       "       'sri kannika parameswari highier secondary school, udumalpet',\n",
       "       'ap board', 'nashik board', 'himachal pradesh board',\n",
       "       'maharashtra satate board',\n",
       "       'andhra pradesh board of secondary education',\n",
       "       'tamil nadu polytechnic',\n",
       "       'maharashtra state board mumbai divisional board',\n",
       "       'department of pre university education',\n",
       "       'dav public school,hehal', 'board of intermediate education, ap',\n",
       "       'rajasthan board of secondary education',\n",
       "       'department of technical education, bangalore', 'chse,odisha',\n",
       "       'maharashtra nasik board',\n",
       "       'west bengal council of higher secondary examination (wbchse)',\n",
       "       'holy cross matriculation hr sec school', 'cbsc',\n",
       "       'pu  board karnataka', 'biec patna', 'kolhapur', 'bseb, patna',\n",
       "       'up board allahabad', 'nagpur board,nagpur', 'diploma(msbte)',\n",
       "       'dav public school', 'pre university board, karnataka',\n",
       "       'ssm srsecschool', 'state bord', 'jstb,jharkhand',\n",
       "       'intermediate board of education', 'mp board bhopal', 'pub',\n",
       "       'madhya pradesh board', 'bihar intermediate education council',\n",
       "       'west bengal council of higher secondary eucation',\n",
       "       'isc board , new delhi', 'mpc',\n",
       "       'certificate for higher secondary education (chse)orissa',\n",
       "       'maharashtra state board for hsc',\n",
       "       'board of intermeadiate education', 'latur board',\n",
       "       'andhra pradesh', 'karnataka pre-university',\n",
       "       'lucknow public college', 'nagpur divisional board',\n",
       "       'ap intermediate board', 'cgbse raipur', 'uttranchal board',\n",
       "       'jiec', 'central board of secondary education, new delhi',\n",
       "       'bihar school examination board patna',\n",
       "       'state board of technical education harayana', 'mp-bse',\n",
       "       'up bourd', 'dav public school sec 14',\n",
       "       'haryana state board of technical education chandigarh',\n",
       "       'council for indian school certificate examination',\n",
       "       'jaswant modern school', 'madhya pradesh open school',\n",
       "       'aurangabad board', 'j&k state board of school education',\n",
       "       'diploma ( maharashtra state board of technical education)',\n",
       "       'board of technicaleducation ,delhi',\n",
       "       'maharashtra state boar of secondary and higher secondary education',\n",
       "       'hslc (tamil nadu state board)',\n",
       "       'karnataka state examination board', 'puboard', 'nasik',\n",
       "       'west bengal board of higher secondary education',\n",
       "       'up board,allahabad', 'board of intrmediate education,ap', 'cbese',\n",
       "       'karnataka state pre- university board',\n",
       "       'state board - west bengal council of higher secondary education : wbchse',\n",
       "       'maharashtra state board of secondary & higher secondary education',\n",
       "       'biec, patna', 'state syllabus', 'cbse board', 'scte&vt',\n",
       "       'board of intermediate,ap',\n",
       "       'secnior secondary education board of rajasthan',\n",
       "       'maharashtra board, pune', 'rbse (state board)',\n",
       "       'board of intermidiate education,ap',\n",
       "       'board of high school and intermediate education uttarpradesh',\n",
       "       'higher secondary education',\n",
       "       'board fo intermediate education, ap', 'intermedite',\n",
       "       'ap board for intermediate education', 'ahsec',\n",
       "       'punjab state board of technical education & industrial training, chandigarh',\n",
       "       'state board - tamilnadu', 'jharkhand acedemic council',\n",
       "       'scte & vt (diploma)', 'karnataka pu',\n",
       "       'board of intmediate education ap', 'up-board',\n",
       "       'boardofintermediate'], dtype=object)"
      ]
     },
     "execution_count": 15,
     "metadata": {},
     "output_type": "execute_result"
    }
   ],
   "source": [
    "data['12board'].unique()"
   ]
  },
  {
   "cell_type": "code",
   "execution_count": null,
   "metadata": {
    "id": "111aOriq5hkz"
   },
   "outputs": [],
   "source": [
    "replace_list_state=['board of intermediate education,ap', 'state board',\n",
    "       'mp board',  'karnataka pre university board', 'up',\n",
    "       'p u board, karnataka', 'dept of pre-university education', 'bie',\n",
    "       'kerala state hse board', 'up board', 'bseb', 'chse', 'puc',\n",
    "       ' upboard',\n",
    "       'state  board of intermediate education, andhra pradesh',\n",
    "       'karnataka state board',\n",
    "       'west bengal state council of technical education', 'wbchse',\n",
    "       'maharashtra state board', 'ssc',\n",
    "       'sda matric higher secondary school', 'uttar pradesh board', 'ibe',\n",
    "       'chsc', 'board of intermediate', 'upboard', 'sbtet',\n",
    "       'hisher seconadry examination(state board)', 'pre university',\n",
    "       'borad of intermediate', 'j & k board',\n",
    "       'intermediate board of andhra pardesh', 'rbse',\n",
    "       'central board of secondary education', 'jkbose', 'hbse',\n",
    "       'board of intermediate education', 'state', 'ms board', 'pue',\n",
    "       'intermediate state board', 'stateboard', 'hsc',\n",
    "       'electonincs and communication(dote)', 'karnataka pu board',\n",
    "       'government polytechnic mumbai , mumbai board', 'pu board',\n",
    "       'baord of intermediate education', 'apbie', 'andhra board',\n",
    "       'tamilnadu stateboard',\n",
    "       'west bengal council of higher secondary education',\n",
    "       'cbse,new delhi', 'u p board', 'intermediate', 'biec,patna',\n",
    "       'diploma in engg (e &tc) tilak maharashtra vidayapeeth',\n",
    "       'hsc pune', 'pu board karnataka', 'kerala', 'gsheb',\n",
    "       'up(allahabad)', 'nagpur', 'st joseph hr sec school',\n",
    "       'pre university board', 'ipe', 'maharashtra', 'kea', 'apsb',\n",
    "       'himachal pradesh board of school education', 'staae board',\n",
    "       'international baccalaureate (ib) diploma', 'nios',\n",
    "       'karnataka board of university',\n",
    "       'board of secondary education rajasthan', 'uttarakhand board',\n",
    "       'ua', 'scte vt orissa', 'matriculation',\n",
    "       'department of pre-university education', 'wbscte',\n",
    "       'preuniversity board(karnataka)', 'jharkhand accademic council',\n",
    "       'bieap', 'msbte (diploma in computer technology)',\n",
    "       'jharkhand acamedic council (ranchi)',\n",
    "       'department of pre-university eduction', 'biec',\n",
    "       'sjrcw', ' board of intermediate', 'msbte',\n",
    "       'sri sankara vidyalaya', 'chse, odisha', 'bihar board',\n",
    "       'maharashtra state(latur board)', 'rajasthan board', 'mpboard',\n",
    "       'state board of technical eduction panchkula', 'upbhsie', 'apbsc',\n",
    "       'state board of technical education and training',\n",
    "       'secondary board of rajasthan',\n",
    "       'tamilnadu higher secondary education board',\n",
    "       'jharkhand academic council',\n",
    "       'board of intermediate education,hyderabad', 'up baord', 'pu',\n",
    "       'dte', 'board of secondary education', 'pre-university',\n",
    "       'board of intermediate education,andhra pradesh',\n",
    "       'up board , allahabad', 'srv girls higher sec school,rasipuram',\n",
    "       'intermediate board of education,andhra pradesh',\n",
    "       'intermediate board examination',\n",
    "       'department of pre-university education, bangalore',\n",
    "       'stmiras college for girls', 'mbose',\n",
    "       'department of pre-university education(government of karnataka)',\n",
    "       'dpue', 'msbte pune', 'board of school education harayana',\n",
    "       'sbte, jharkhand', 'bihar intermediate education council, patna',\n",
    "       'higher secondary', 's j polytechnic', 'latur',\n",
    "       'board of secondary education, rajasthan', 'jyoti nivas', 'pseb',\n",
    "       'biec-patna', 'board of intermediate education,andra pradesh',\n",
    "       'chse,orissa', 'pre-university board', 'mp', 'intermediate board',\n",
    "       'govt of karnataka department of pre-university education',\n",
    "       'karnataka education board',\n",
    "       'board of secondary school of education', 'pu board ,karnataka',\n",
    "       'karnataka secondary education board', 'karnataka sslc',\n",
    "       'board of intermediate ap', 'u p', 'state board of karnataka',\n",
    "       'directorate of technical education,banglore', 'matric board',\n",
    "       'andhpradesh board of intermediate education',\n",
    "       'stjoseph of cluny matrhrsecschool,neyveli,cuddalore district',\n",
    "       'bte up', 'scte and vt ,orissa', 'hbsc',\n",
    "       'jawahar higher secondary school', 'nagpur board', 'bsemp',\n",
    "       'board of intermediate education, andhra pradesh',\n",
    "       'board of higher secondary orissa',\n",
    "       'board of secondary education,rajasthan(rbse)',\n",
    "       'board of intermediate education:ap,hyderabad', 'science college',\n",
    "       'karnatak pu board', 'aissce', 'pre university board of karnataka',\n",
    "       'bihar', 'kerala state board', 'uo board', \n",
    "       'karnataka board', 'tn state board',\n",
    "       'kolhapur divisional board, maharashtra',\n",
    "       'jaycee matriculation school',\n",
    "       'board of higher secondary examination, kerala',\n",
    "       'uttaranchal state board', 'intermidiate', 'bciec,patna', 'bice',\n",
    "       'karnataka state', 'state broad', 'wbbhse', 'gseb',\n",
    "       'uttar pradesh', 'ghseb', 'board of school education uttarakhand',\n",
    "       'gseb/technical education board', 'msbshse,pune',\n",
    "       'tamilnadu state board', 'board of technical education',\n",
    "       'kerala university', 'uttaranchal shiksha avam pariksha parishad',\n",
    "       'chse(concil of higher secondary education)',\n",
    "       'bright way college, (up board)', 'board of intermidiate',\n",
    "       'higher secondary state certificate', 'karanataka secondary board',\n",
    "       'maharashtra board', 'cgbse', 'diploma in computers', 'bte,delhi',\n",
    "       'rajasthan board ajmer', 'mpbse', 'pune board',\n",
    "       'state board of technical education', 'gshseb',\n",
    "       'amravati divisional board', 'dote (diploma - computer engg)',\n",
    "       'karnataka pre-university board', 'jharkhand board',\n",
    "       'punjab state board of technical education & industrial training',\n",
    "       'department of technical education',\n",
    "       'sri chaitanya junior kalasala', 'state board (jac, ranchi)',\n",
    "       'aligarh muslim university', 'tamil nadu state board', 'hse',\n",
    "       'karnataka secondary education', 'state board ',\n",
    "       'karnataka pre unversity board',\n",
    "       'ks rangasamy institute of technology',\n",
    "       'karnataka board secondary education', 'narayana junior college',\n",
    "       'bteup', 'board of intermediate(bie)', 'hsc maharashtra board',\n",
    "       'tamil nadu state', 'uttrakhand board', 'psbte',\n",
    "       'stateboard/tamil nadu', 'intermediate council patna',\n",
    "       'technical board, punchkula', 'board of intermidiate examination',\n",
    "       'sri kannika parameswari highier secondary school, udumalpet',\n",
    "       'ap board', 'nashik board', 'himachal pradesh board',\n",
    "       'maharashtra satate board',\n",
    "       'andhra pradesh board of secondary education',\n",
    "       'tamil nadu polytechnic',\n",
    "       'maharashtra state board mumbai divisional board',\n",
    "       'department of pre university education',\n",
    "       'dav public school,hehal', 'board of intermediate education, ap',\n",
    "       'rajasthan board of secondary education',\n",
    "       'department of technical education, bangalore', 'chse,odisha',\n",
    "       'maharashtra nasik board',\n",
    "       'west bengal council of higher secondary examination (wbchse)',\n",
    "       'holy cross matriculation hr sec school', 'cbsc',\n",
    "       'pu  board karnataka', 'biec patna', 'kolhapur', 'bseb, patna',\n",
    "       'up board allahabad', 'nagpur board,nagpur', 'diploma(msbte)',\n",
    "       'dav public school', 'pre university board, karnataka',\n",
    "       'ssm srsecschool', 'state bord', 'jstb,jharkhand',\n",
    "       'intermediate board of education', 'mp board bhopal', 'pub',\n",
    "       'madhya pradesh board', 'bihar intermediate education council',\n",
    "       'west bengal council of higher secondary eucation',\n",
    "        'mpc',\n",
    "       'certificate for higher secondary education (chse)orissa',\n",
    "       'maharashtra state board for hsc',\n",
    "       'board of intermeadiate education', 'latur board',\n",
    "       'andhra pradesh', 'karnataka pre-university',\n",
    "       'lucknow public college', 'nagpur divisional board',\n",
    "       'ap intermediate board', 'cgbse raipur', 'uttranchal board',\n",
    "       'jiec', \n",
    "       'bihar school examination board patna',\n",
    "       'state board of technical education harayana', 'mp-bse',\n",
    "       'up bourd', 'dav public school sec 14',\n",
    "       'haryana state board of technical education chandigarh',\n",
    "       'council for indian school certificate examination',\n",
    "       'jaswant modern school', 'madhya pradesh open school',\n",
    "       'aurangabad board', 'j&k state board of school education',\n",
    "       'diploma ( maharashtra state board of technical education)',\n",
    "       'board of technicaleducation ,delhi',\n",
    "       'maharashtra state boar of secondary and higher secondary education',\n",
    "       'hslc (tamil nadu state board)',\n",
    "       'karnataka state examination board', 'puboard', 'nasik',\n",
    "       'west bengal board of higher secondary education',\n",
    "       'up board,allahabad', 'board of intrmediate education,ap', \n",
    "       'karnataka state pre- university board',\n",
    "       'state board - west bengal council of higher secondary education : wbchse',\n",
    "       'maharashtra state board of secondary & higher secondary education',\n",
    "       'biec, patna', 'state syllabus', 'cbse board', 'scte&vt',\n",
    "       'board of intermediate,ap',\n",
    "       'secnior secondary education board of rajasthan',\n",
    "       'maharashtra board, pune', 'rbse (state board)',\n",
    "       'board of intermidiate education,ap',\n",
    "       'board of high school and intermediate education uttarpradesh',\n",
    "       'higher secondary education',\n",
    "       'board fo intermediate education, ap', 'intermedite',\n",
    "       'ap board for intermediate education', 'ahsec',\n",
    "       'punjab state board of technical education & industrial training, chandigarh',\n",
    "       'state board - tamilnadu', 'jharkhand acedemic council',\n",
    "       'scte & vt (diploma)', 'karnataka pu',\n",
    "       'board of intmediate education ap', 'up-board',\n",
    "       'boardofintermediate']"
   ]
  },
  {
   "cell_type": "code",
   "execution_count": null,
   "metadata": {
    "id": "b8N1r1Vg5hk6",
    "outputId": "db7c2222-b17a-4f49-a2d8-bf83f90acaa6"
   },
   "outputs": [
    {
     "data": {
      "text/plain": [
       "array(['state', 'cbse', 'icse', 'n/a'], dtype=object)"
      ]
     },
     "execution_count": 17,
     "metadata": {},
     "output_type": "execute_result"
    }
   ],
   "source": [
    "#replacing the redundant values of the 12board column with 'state','cbse','icse' and 'n/a'\n",
    "for i in replace_list_state:\n",
    "    data['12board'].replace(i,'state',inplace=True)\n",
    "\n",
    "replace_list_cbse=['cbse', \n",
    "       'all india board', \n",
    "       'central board of secondary education, new delhi', 'cbese']\n",
    "for i in replace_list_cbse:\n",
    "    data['12board'].replace(i,'cbse',inplace=True)\n",
    "\n",
    "replace_list_icse=[ 'isc', 'icse', 'isc board', 'isce', 'cicse',\n",
    "       'isc board , new delhi']\n",
    "for i in replace_list_icse:\n",
    "    data['12board'].replace(i,'icse',inplace=True)\n",
    "\n",
    "data['12board'].replace(0,'n/a',inplace=True)\n",
    "\n",
    "data['12board'].unique()"
   ]
  },
  {
   "cell_type": "code",
   "execution_count": null,
   "metadata": {
    "id": "V4C9b_hT5hk7",
    "outputId": "d2632980-9c5a-4466-8589-afcf2ca06223"
   },
   "outputs": [
    {
     "data": {
      "text/plain": [
       "array(['B.Tech/B.E.', 'MCA', 'M.Tech./M.E.', 'M.Sc. (Tech.)'],\n",
       "      dtype=object)"
      ]
     },
     "execution_count": 18,
     "metadata": {},
     "output_type": "execute_result"
    }
   ],
   "source": [
    "data['Degree'].unique()"
   ]
  },
  {
   "cell_type": "markdown",
   "metadata": {
    "id": "HDXYbxhh5hk7"
   },
   "source": [
    "One hot encoding specialization"
   ]
  },
  {
   "cell_type": "code",
   "execution_count": null,
   "metadata": {
    "id": "uaB1wpLw5hk8",
    "outputId": "a0fecade-3f37-4b9e-9b60-b7812a33e112"
   },
   "outputs": [
    {
     "data": {
      "text/plain": [
       "<matplotlib.axes._subplots.AxesSubplot at 0x1c6e97a1b38>"
      ]
     },
     "execution_count": 19,
     "metadata": {},
     "output_type": "execute_result"
    },
    {
     "data": {
      "image/png": "[encoded data removed]",
      "text/plain": [
       "<matplotlib.figure.Figure at 0x1c6e964c6a0>"
      ]
     },
     "metadata": {},
     "output_type": "display_data"
    }
   ],
   "source": [
    "specialization_freq = data['Specialization'].value_counts()\n",
    "specialization_freq.plot(kind='bar', figsize=(15,5))"
   ]
  },
  {
   "cell_type": "code",
   "execution_count": null,
   "metadata": {
    "id": "DoeVFVIx5hk8"
   },
   "outputs": [],
   "source": [
    "specialization_map = \\\n",
    "{'electronics and communication engineering' : 'EC',\n",
    " 'computer science & engineering' : 'CS',\n",
    " 'information technology' : 'CS' ,\n",
    " 'computer engineering' : 'CS',\n",
    " 'computer application' : 'CS',\n",
    " 'mechanical engineering' : 'ME',\n",
    " 'electronics and electrical engineering' : 'EC',\n",
    " 'electronics & telecommunications' : 'EC',\n",
    " 'electrical engineering' : 'EL',\n",
    " 'electronics & instrumentation eng' : 'EC',\n",
    " 'civil engineering' : 'CE',\n",
    " 'electronics and instrumentation engineering' : 'EC',\n",
    " 'information science engineering' : 'CS',\n",
    " 'instrumentation and control engineering' : 'EC',\n",
    " 'electronics engineering' : 'EC',\n",
    " 'biotechnology' : 'other',\n",
    " 'other' : 'other',\n",
    " 'industrial & production engineering' : 'other',\n",
    " 'chemical engineering' : 'other',\n",
    " 'applied electronics and instrumentation' : 'EC',\n",
    " 'computer science and technology' : 'CS',\n",
    " 'telecommunication engineering' : 'EC',\n",
    " 'mechanical and automation' : 'ME',\n",
    " 'automobile/automotive engineering' : 'ME',\n",
    " 'instrumentation engineering' : 'EC',\n",
    " 'mechatronics' : 'ME',\n",
    " 'electronics and computer engineering' : 'CS',\n",
    " 'aeronautical engineering' : 'ME',\n",
    " 'computer science' : 'CS',\n",
    " 'metallurgical engineering' : 'other',\n",
    " 'biomedical engineering' : 'other',\n",
    " 'industrial engineering' : 'other',\n",
    " 'information & communication technology' : 'EC',\n",
    " 'electrical and power engineering' : 'EL',\n",
    " 'industrial & management engineering' : 'other',\n",
    " 'computer networking' : 'CS',\n",
    " 'embedded systems technology' : 'EC',\n",
    " 'power systems and automation' : 'EL',\n",
    " 'computer and communication engineering' : 'CS',\n",
    " 'information science' : 'CS',\n",
    " 'internal combustion engine' : 'ME',\n",
    " 'ceramic engineering' : 'other',\n",
    " 'mechanical & production engineering' : 'ME',\n",
    " 'control and instrumentation engineering' : 'EC',\n",
    " 'polymer technology' : 'other',\n",
    " 'electronics' : 'EC'}"
   ]
  },
  {
   "cell_type": "code",
   "execution_count": null,
   "metadata": {
    "id": "U5Usy_lR5hk9",
    "outputId": "7f8e316a-e930-4152-a80e-9d9394230974"
   },
   "outputs": [
    {
     "name": "stdout",
     "output_type": "stream",
     "text": [
      "['CS' 'EC' 'ME' 'EL' 'CE' 'other']\n"
     ]
    },
    {
     "data": {
      "image/png": "[encoded data removed]",
      "text/plain": [
       "<matplotlib.figure.Figure at 0x1c6e94f8080>"
      ]
     },
     "metadata": {},
     "output_type": "display_data"
    }
   ],
   "source": [
    "data['Specialization'] = data['Specialization'].map(specialization_map)\n",
    "\n",
    "data['Specialization'].value_counts().plot(kind='bar', figsize=(15,5))\n",
    "\n",
    "print(data['Specialization'].unique())"
   ]
  },
  {
   "cell_type": "markdown",
   "metadata": {
    "id": "mQXZuvql5hk9"
   },
   "source": [
    "Bringing the CGPA to a 0-100 scale"
   ]
  },
  {
   "cell_type": "code",
   "execution_count": null,
   "metadata": {
    "id": "yyalEItR5hk9",
    "outputId": "089a70fa-6364-4ec4-a903-f7a2421b2ab7"
   },
   "outputs": [
    {
     "data": {
      "text/plain": [
       "<matplotlib.axes._subplots.AxesSubplot at 0x1c6e94f87b8>"
      ]
     },
     "execution_count": 22,
     "metadata": {},
     "output_type": "execute_result"
    },
    {
     "data": {
      "image/png": "[encoded data removed]",
      "text/plain": [
       "<matplotlib.figure.Figure at 0x1c6e9718f98>"
      ]
     },
     "metadata": {},
     "output_type": "display_data"
    }
   ],
   "source": [
    "data.loc[data['collegeGPA'] <= 10, 'collegeGPA'] *= 10\n",
    "data['collegeGPA'].plot(kind='hist', figsize=(15,5))\n"
   ]
  },
  {
   "cell_type": "markdown",
   "metadata": {
    "id": "Iketaox15hk-"
   },
   "source": [
    "# removing the other depts\n"
   ]
  },
  {
   "cell_type": "code",
   "execution_count": null,
   "metadata": {
    "id": "edpgVWSm5hk-"
   },
   "outputs": [],
   "source": [
    "clean_data=pd.DataFrame()\n",
    "clean_data=data[data['ComputerScience']>0]\n"
   ]
  },
  {
   "cell_type": "code",
   "execution_count": null,
   "metadata": {
    "id": "Yi_Pi83A5hk_",
    "outputId": "bf637bb1-81d6-4b26-a6fc-821a63258cf1"
   },
   "outputs": [
    {
     "data": {
      "text/plain": [
       "(896, 34)"
      ]
     },
     "execution_count": 24,
     "metadata": {},
     "output_type": "execute_result"
    }
   ],
   "source": [
    "clean_data.shape"
   ]
  },
  {
   "cell_type": "code",
   "execution_count": null,
   "metadata": {
    "id": "VdL8wjQz5hk_",
    "outputId": "79e18aef-663f-462d-e769-f1f359d335dd"
   },
   "outputs": [
    {
     "data": {
      "text/plain": [
       "array(['EC', 'CS', 'ME', 'other', 'EL'], dtype=object)"
      ]
     },
     "execution_count": 25,
     "metadata": {},
     "output_type": "execute_result"
    }
   ],
   "source": [
    "clean_data['Specialization'].unique()\n"
   ]
  },
  {
   "cell_type": "code",
   "execution_count": null,
   "metadata": {
    "id": "SMHCJn3w5hlA"
   },
   "outputs": [],
   "source": [
    "category_list=[ 'Gender', '12board', 'Degree','Specialization'\n",
    "        ]\n",
    "numeric_list=[ 'Salary','10percentage', '12percentage', 'collegeGPA',\n",
    "        'English', 'Logical', 'Quant',\n",
    "       'Domain', 'ComputerProgramming', 'ComputerScience', 'conscientiousness', 'agreeableness', 'extraversion',\n",
    "       'nueroticism', 'openess_to_experience', '12GradAge',\n",
    "       'GradAge']\n"
   ]
  },
  {
   "cell_type": "code",
   "execution_count": null,
   "metadata": {
    "id": "sRRnpBjS5hlA",
    "outputId": "745b1f48-6af5-47e4-98b6-5b63b9b246cd"
   },
   "outputs": [
    {
     "name": "stderr",
     "output_type": "stream",
     "text": [
      "C:\\Users\\KANNAN\\Anaconda3\\lib\\site-packages\\ipykernel_launcher.py:4: SettingWithCopyWarning: \n",
      "A value is trying to be set on a copy of a slice from a DataFrame\n",
      "\n",
      "See the caveats in the documentation: http://pandas.pydata.org/pandas-docs/stable/indexing.html#indexing-view-versus-copy\n",
      "  after removing the cwd from sys.path.\n"
     ]
    }
   ],
   "source": [
    "clean_data.drop(columns=['DOJ', 'DOL', 'Designation', 'JobCity','CollegeTier',  \n",
    "       'CollegeCityTier', '10board','CollegeState','ElectronicsAndSemicon',\n",
    "        'MechanicalEngg', 'ElectricalEngg', 'TelecomEngg',\n",
    "       'CivilEngg'],axis=1,inplace=True)"
   ]
  },
  {
   "cell_type": "code",
   "execution_count": null,
   "metadata": {
    "id": "B70wMFpt5hlB",
    "outputId": "6e97bd67-6d1d-4a72-955b-4eb05f39243f"
   },
   "outputs": [
    {
     "data": {
      "text/plain": [
       "Index(['Salary', 'Gender', '10percentage', '12percentage', '12board', 'Degree',\n",
       "       'Specialization', 'collegeGPA', 'English', 'Logical', 'Quant', 'Domain',\n",
       "       'ComputerProgramming', 'ComputerScience', 'conscientiousness',\n",
       "       'agreeableness', 'extraversion', 'nueroticism', 'openess_to_experience',\n",
       "       '12GradAge', 'GradAge'],\n",
       "      dtype='object')"
      ]
     },
     "execution_count": 28,
     "metadata": {},
     "output_type": "execute_result"
    }
   ],
   "source": [
    "clean_data.columns"
   ]
  },
  {
   "cell_type": "code",
   "execution_count": null,
   "metadata": {
    "id": "vN6h4rh65hlB"
   },
   "outputs": [],
   "source": [
    "clean_data.to_csv('partial_clean_data.csv', index=False) #data without one hot encoding. for visualization purposes\n"
   ]
  },
  {
   "cell_type": "markdown",
   "metadata": {
    "id": "PKiEx1Qm5hlC"
   },
   "source": [
    "One hot encoding the categorical columns"
   ]
  },
  {
   "cell_type": "code",
   "execution_count": null,
   "metadata": {
    "id": "WZhaDN7a5hlC"
   },
   "outputs": [],
   "source": [
    "for feature in category_list:\n",
    "    clean_data = pd.get_dummies(clean_data, prefix=feature, columns=[feature])"
   ]
  },
  {
   "cell_type": "markdown",
   "metadata": {
    "id": "X61gj85O5hlC"
   },
   "source": [
    "Categorizing the salary to 5 categories"
   ]
  },
  {
   "cell_type": "code",
   "execution_count": null,
   "metadata": {
    "id": "j6ery-pz5hlD"
   },
   "outputs": [],
   "source": [
    "from sklearn import preprocessing\n",
    "\n",
    "#z=pd.DataFrame(X_train_scaled)\n",
    "#y=pd.DataFrame(Y_train_scaled)\n",
    " \n",
    " \n",
    "#set up bins\n",
    "bin = [0,.25,.5,.75,1]\n",
    "\n",
    "#use pd.cut function can attribute the values into its specific bins\n",
    "category = pd.qcut(clean_data['Salary'],bin)\n",
    "category = category.to_frame()\n",
    "category.columns = ['Sal']\n",
    "\n",
    "#concatenate age and its bin\n",
    "y_cat = pd.concat([clean_data['Salary'],category],axis = 1)\n",
    "\n",
    "#labelencode\n",
    "le = preprocessing.LabelEncoder()\n",
    "le.fit(y_cat['Sal'])\n",
    "le.classes_\n",
    "Y_train_cat=le.transform(y_cat['Sal']) \n"
   ]
  },
  {
   "cell_type": "code",
   "execution_count": null,
   "metadata": {
    "id": "vxiW2PBa5hlD",
    "outputId": "310590d9-0b02-441e-acc3-2a3ece8fe616"
   },
   "outputs": [
    {
     "data": {
      "text/plain": [
       "array([2, 2, 2, 2, 3, 3, 1, 3, 0, 1, 0, 3, 1, 3, 2, 2, 2, 1, 0, 2, 2, 1,\n",
       "       2, 2, 0, 2, 2, 3, 0, 3, 0, 2, 1, 0, 1, 0, 0, 0, 1, 2, 0, 2, 2, 1,\n",
       "       1, 3, 0, 2, 2, 1, 3, 0, 1, 0, 2, 0, 2, 2, 0, 2, 3, 0, 2, 2, 0, 2,\n",
       "       2, 3, 1, 2, 2, 2, 3, 0, 0, 1, 0, 2, 2, 1, 1, 1, 1, 0, 3, 0, 0, 1,\n",
       "       3, 1, 2, 3, 2, 2, 3, 0, 2, 0, 2, 2, 2, 0, 3, 0, 3, 3, 3, 0, 1, 2,\n",
       "       0, 1, 0, 0, 2, 1, 1, 3, 0, 0, 2, 0, 0, 2, 2, 2, 2, 2, 0, 1, 2, 3,\n",
       "       3, 3, 3, 2, 2, 3, 0, 2, 1, 2, 0, 2, 2, 0, 1, 1, 3, 0, 0, 0, 0, 0,\n",
       "       3, 2, 0, 2, 0, 2, 2, 2, 3, 2, 2, 0, 1, 1, 3, 0, 1, 2, 1, 2, 3, 2,\n",
       "       3, 0, 2, 3, 1, 2, 1, 0, 3, 0, 0, 2, 0, 2, 0, 0, 1, 0, 2, 0, 0, 1,\n",
       "       2, 3, 0, 1, 2, 3, 2, 0, 3, 1, 2, 0, 3, 3, 3, 3, 3, 2, 3, 0, 2, 0,\n",
       "       2, 0, 2, 1, 3, 2, 3, 3, 3, 3, 0, 2, 0, 1, 0, 3, 3, 2, 3, 0, 0, 0,\n",
       "       2, 3, 3, 0, 0, 1, 0, 2, 3, 0, 3, 1, 2, 0, 2, 0, 0, 0, 0, 3, 2, 0,\n",
       "       3, 1, 1, 2, 0, 3, 1, 0, 2, 3, 2, 0, 0, 0, 1, 3, 2, 0, 3, 0, 1, 3,\n",
       "       3, 3, 3, 0, 0, 1, 3, 1, 0, 3, 1, 0, 2, 3, 2, 1, 3, 3, 0, 0, 3, 1,\n",
       "       2, 0, 0, 3, 0, 0, 1, 3, 2, 3, 0, 2, 2, 2, 1, 0, 0, 2, 1, 2, 1, 1,\n",
       "       2, 1, 0, 1, 2, 1, 1, 1, 0, 0, 3, 3, 1, 0, 0, 1, 2, 1, 3, 3, 0, 3,\n",
       "       1, 2, 0, 0, 2, 0, 0, 0, 3, 2, 0, 3, 1, 2, 2, 3, 0, 0, 0, 3, 3, 3,\n",
       "       2, 0, 1, 1, 1, 1, 1, 1, 2, 1, 2, 3, 0, 3, 3, 2, 2, 0, 0, 0, 1, 2,\n",
       "       1, 1, 3, 2, 0, 0, 2, 0, 3, 1, 0, 0, 1, 1, 0, 2, 2, 3, 0, 1, 2, 1,\n",
       "       2, 0, 3, 0, 0, 2, 3, 0, 0, 2, 0, 3, 2, 0, 2, 0, 3, 2, 1, 3, 1, 2,\n",
       "       3, 2, 2, 1, 3, 1, 1, 0, 2, 2, 3, 2, 3, 3, 3, 0, 2, 3, 0, 2, 0, 0,\n",
       "       2, 2, 0, 1, 3, 0, 2, 2, 1, 0, 2, 2, 0, 3, 0, 1, 0, 0, 1, 0, 0, 2,\n",
       "       0, 0, 2, 3, 1, 3, 3, 1, 0, 1, 1, 1, 2, 0, 3, 1, 0, 1, 3, 3, 3, 3,\n",
       "       1, 2, 3, 0, 2, 2, 0, 1, 0, 0, 1, 2, 1, 0, 2, 2, 2, 2, 0, 0, 3, 0,\n",
       "       0, 2, 3, 2, 3, 0, 2, 2, 2, 0, 0, 0, 0, 0, 0, 2, 3, 2, 3, 3, 3, 2,\n",
       "       3, 3, 3, 0, 2, 3, 2, 1, 0, 2, 2, 1, 0, 3, 3, 2, 0, 2, 0, 0, 3, 2,\n",
       "       0, 2, 0, 3, 1, 0, 0, 2, 2, 1, 1, 2, 0, 2, 0, 3, 0, 0, 1, 2, 1, 1,\n",
       "       0, 0, 3, 0, 0, 2, 0, 2, 1, 1, 0, 0, 3, 3, 0, 3, 2, 3, 2, 2, 2, 0,\n",
       "       1, 2, 2, 1, 0, 2, 1, 1, 1, 3, 2, 1, 3, 3, 1, 3, 0, 1, 0, 0, 3, 0,\n",
       "       2, 3, 3, 0, 3, 2, 2, 0, 1, 2, 0, 2, 2, 3, 2, 0, 0, 1, 3, 3, 2, 2,\n",
       "       3, 1, 1, 2, 1, 0, 1, 3, 1, 0, 1, 0, 1, 2, 0, 3, 0, 3, 0, 2, 1, 0,\n",
       "       3, 0, 0, 0, 0, 3, 0, 0, 2, 1, 2, 2, 2, 0, 0, 2, 0, 0, 0, 1, 2, 0,\n",
       "       0, 2, 0, 2, 2, 1, 1, 2, 2, 1, 0, 0, 3, 0, 1, 0, 2, 3, 1, 2, 1, 2,\n",
       "       1, 2, 0, 1, 2, 0, 0, 2, 2, 3, 0, 3, 2, 0, 3, 0, 2, 2, 2, 2, 2, 2,\n",
       "       2, 2, 0, 3, 1, 2, 1, 3, 0, 1, 0, 2, 0, 3, 1, 1, 2, 0, 1, 1, 2, 3,\n",
       "       2, 2, 1, 3, 1, 0, 1, 0, 2, 3, 0, 2, 2, 0, 1, 0, 1, 0, 2, 2, 2, 0,\n",
       "       0, 3, 0, 0, 3, 2, 0, 2, 1, 1, 0, 3, 1, 2, 2, 2, 2, 2, 0, 3, 1, 1,\n",
       "       0, 2, 1, 1, 2, 0, 2, 0, 3, 1, 2, 0, 3, 1, 0, 2, 1, 1, 0, 2, 0, 0,\n",
       "       0, 1, 0, 2, 2, 0, 1, 3, 2, 3, 2, 0, 0, 0, 0, 2, 1, 0, 0, 0, 2, 2,\n",
       "       0, 2, 1, 3, 1, 0, 3, 0, 0, 1, 3, 0, 1, 2, 0, 2, 3, 0, 1, 3, 2, 0,\n",
       "       3, 2, 2, 2, 0, 2, 1, 1, 3, 2, 3, 0, 2, 1, 2, 1], dtype=int64)"
      ]
     },
     "execution_count": 32,
     "metadata": {},
     "output_type": "execute_result"
    }
   ],
   "source": [
    "Y_train_cat"
   ]
  },
  {
   "cell_type": "code",
   "execution_count": null,
   "metadata": {
    "id": "eObtn0np5hlD",
    "outputId": "2d7eb2c6-ffd5-469f-a93f-43b8907c01f3"
   },
   "outputs": [
    {
     "name": "stdout",
     "output_type": "stream",
     "text": [
      "(896, 31) (896, 1) (896, 1)\n"
     ]
    }
   ],
   "source": [
    "X_train=pd.DataFrame(clean_data.drop(columns=['Salary'],axis=1))\n",
    "Y_train=pd.DataFrame(clean_data['Salary'])\n",
    "Y_train_cat=pd.DataFrame(Y_train_cat)\n",
    "print(X_train.shape,Y_train.shape,Y_train_cat.shape)"
   ]
  },
  {
   "cell_type": "markdown",
   "metadata": {
    "id": "ErA7QN2n5hlD"
   },
   "source": [
    "Saving the data to apply the models"
   ]
  },
  {
   "cell_type": "code",
   "execution_count": null,
   "metadata": {
    "id": "rmxAsOzp5hlE"
   },
   "outputs": [],
   "source": [
    "X_train.to_csv('X_train.csv', index=False)\n",
    "Y_train.to_csv('Y_train.csv',header=True, index=False, index_label='Salary')\n",
    "Y_train_cat.to_csv('Y_train_cat.csv',header=True, index=False, index_label='Salary')\n",
    "clean_data.to_csv('clean_data.csv', index=False)\n"
   ]
  },
  {
   "cell_type": "code",
   "execution_count": null,
   "metadata": {
    "id": "0Md1Ymnj5hlE"
   },
   "outputs": [],
   "source": []
  }
 ],
 "metadata": {
  "colab": {
   "name": "Data preprocessing.ipynb",
   "provenance": []
  },
  "kernelspec": {
   "display_name": "Python 3",
   "language": "python",
   "name": "python3"
  },
  "language_info": {
   "codemirror_mode": {
    "name": "ipython",
    "version": 3
   },
   "file_extension": ".py",
   "mimetype": "text/x-python",
   "name": "python",
   "nbconvert_exporter": "python",
   "pygments_lexer": "ipython3",
   "version": "3.8.8"
  }
 },
 "nbformat": 4,
 "nbformat_minor": 1
}
