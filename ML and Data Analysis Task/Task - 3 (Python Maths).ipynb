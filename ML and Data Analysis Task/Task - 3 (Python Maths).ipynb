{
 "cells": [
  {
   "cell_type": "markdown",
   "id": "8678afbb",
   "metadata": {},
   "source": [
    "[Reading Material]( https://diveintopython3.problemsolving.io/comprehensions.html)"
   ]
  },
  {
   "cell_type": "markdown",
   "id": "188fe673",
   "metadata": {},
   "source": [
    "## `Polar Coordinates`\n",
    "- [Question Link](https://www.hackerrank.com/challenges/polar-coordinates/problem)\n",
    "- [.math](https://docs.python.org/2/library/cmath.html)"
   ]
  },
  {
   "cell_type": "code",
   "execution_count": 13,
   "id": "f6b3b631",
   "metadata": {},
   "outputs": [
    {
     "name": "stdout",
     "output_type": "stream",
     "text": [
      "2+3j\n",
      "3.605551275463989\n",
      "0.982793723247329\n"
     ]
    }
   ],
   "source": [
    "import cmath\n",
    "\n",
    "r = complex(input().strip())\n",
    "\n",
    "print(cmath.polar(r)[0])\n",
    "print(cmath.polar(r)[1])"
   ]
  },
  {
   "cell_type": "markdown",
   "id": "f60ecb5a",
   "metadata": {},
   "source": [
    "## `Find angle MBC`\n",
    "[Question Link](https://www.hackerrank.com/challenges/find-angle/problem)"
   ]
  },
  {
   "cell_type": "code",
   "execution_count": 14,
   "id": "bc9346d4",
   "metadata": {},
   "outputs": [
    {
     "name": "stdout",
     "output_type": "stream",
     "text": [
      "10\n",
      "10\n",
      "45°\n"
     ]
    }
   ],
   "source": [
    "import math\n",
    "AB = int(input())\n",
    "BC = int(input())\n",
    "ang = int(math.degrees(math.atan2(AB,BC))+0.5)\n",
    "print(ang,chr(176),sep='')"
   ]
  },
  {
   "cell_type": "markdown",
   "id": "f77a9854",
   "metadata": {},
   "source": [
    "## `Triangle Quest 2`\n",
    "[Question Link](https://www.hackerrank.com/challenges/triangle-quest-2/problem)"
   ]
  },
  {
   "cell_type": "code",
   "execution_count": 1,
   "id": "bd91e48f",
   "metadata": {},
   "outputs": [
    {
     "name": "stdout",
     "output_type": "stream",
     "text": [
      "5\n",
      "1\n",
      "121\n",
      "12321\n",
      "1234321\n",
      "123454321\n"
     ]
    }
   ],
   "source": [
    "for x in range(1,int(input())+1):\n",
    "    print(((10**x - 1)//9)**2)"
   ]
  },
  {
   "cell_type": "markdown",
   "id": "f887d649",
   "metadata": {},
   "source": [
    "## `Mod Divmod`\n",
    "[Question Link](https://www.hackerrank.com/challenges/python-mod-divmod/problem)"
   ]
  },
  {
   "cell_type": "code",
   "execution_count": 2,
   "id": "125eb647",
   "metadata": {},
   "outputs": [
    {
     "name": "stdout",
     "output_type": "stream",
     "text": [
      "177\n",
      "10\n",
      "17\n",
      "7\n",
      "(17, 7)\n"
     ]
    }
   ],
   "source": [
    "a=int(input())\n",
    "b=int(input())\n",
    "print(a//b)\n",
    "print(a%b)\n",
    "print(divmod(a,b))"
   ]
  },
  {
   "cell_type": "markdown",
   "id": "8b0a039f",
   "metadata": {},
   "source": [
    "## `Power - Mod Power`\n",
    "[Question LInk](https://www.hackerrank.com/challenges/python-power-mod-power/problem)"
   ]
  },
  {
   "cell_type": "code",
   "execution_count": 3,
   "id": "45297426",
   "metadata": {},
   "outputs": [
    {
     "name": "stdout",
     "output_type": "stream",
     "text": [
      "3\n",
      "4\n",
      "5\n",
      "81\n",
      "1\n"
     ]
    }
   ],
   "source": [
    "a=int(input())\n",
    "b=int(input())\n",
    "m=int(input())\n",
    "print(pow(a,b))\n",
    "print(pow(a,b,m))"
   ]
  },
  {
   "cell_type": "markdown",
   "id": "b6d6e4d2",
   "metadata": {},
   "source": [
    "## `Integers Come In All Sizes`\n",
    "[Question Link](https://www.hackerrank.com/challenges/python-integers-come-in-all-sizes/problem)"
   ]
  },
  {
   "cell_type": "code",
   "execution_count": 4,
   "id": "7666f042",
   "metadata": {},
   "outputs": [
    {
     "name": "stdout",
     "output_type": "stream",
     "text": [
      "9\n",
      "29\n",
      "7\n",
      "27\n",
      "4710194409608608369201743232\n"
     ]
    }
   ],
   "source": [
    "a=int(input())\n",
    "b=int(input())\n",
    "c=int(input())\n",
    "d=int(input())\n",
    "print(pow(a,b)+pow(c,d))"
   ]
  },
  {
   "cell_type": "markdown",
   "id": "7a8cd369",
   "metadata": {},
   "source": [
    "## `Triangle Quest`\n",
    "[Question Link](https://www.hackerrank.com/challenges/python-quest-1/problem)"
   ]
  },
  {
   "cell_type": "code",
   "execution_count": 5,
   "id": "1097e420",
   "metadata": {},
   "outputs": [
    {
     "name": "stdout",
     "output_type": "stream",
     "text": [
      "5\n",
      "1\n",
      "22\n",
      "333\n",
      "4444\n"
     ]
    }
   ],
   "source": [
    "for i in range(1,int(input())):            \n",
    "    print((10**(i)//9)*i)      "
   ]
  },
  {
   "cell_type": "markdown",
   "id": "d13e3534",
   "metadata": {},
   "source": [
    "## `End of Task3 ----------------------------------------------------`"
   ]
  }
 ],
 "metadata": {
  "kernelspec": {
   "display_name": "Python 3",
   "language": "python",
   "name": "python3"
  },
  "language_info": {
   "codemirror_mode": {
    "name": "ipython",
    "version": 3
   },
   "file_extension": ".py",
   "mimetype": "text/x-python",
   "name": "python",
   "nbconvert_exporter": "python",
   "pygments_lexer": "ipython3",
   "version": "3.8.8"
  }
 },
 "nbformat": 4,
 "nbformat_minor": 5
}
