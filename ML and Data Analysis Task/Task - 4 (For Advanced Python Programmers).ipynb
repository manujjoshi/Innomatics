{
 "cells": [
  {
   "cell_type": "markdown",
   "id": "cfe0a2d2",
   "metadata": {},
   "source": [
    "## `Single Number`\n",
    "[Question Link](https://leetcode.com/problems/single-number/)"
   ]
  },
  {
   "cell_type": "markdown",
   "id": "5ab80a2c",
   "metadata": {},
   "source": [
    "#### `Exceeds time limit`"
   ]
  },
  {
   "cell_type": "code",
   "execution_count": 9,
   "id": "72e5689f",
   "metadata": {},
   "outputs": [],
   "source": [
    "class Solution:\n",
    "    def singleNumber(self, nums):\n",
    "        \n",
    "        unique = set(nums)\n",
    "        for i in unique:\n",
    "            count = 0\n",
    "            for j in nums:\n",
    "                if i == j:\n",
    "                    count += 1\n",
    "            if count == 1:\n",
    "                return i"
   ]
  },
  {
   "cell_type": "code",
   "execution_count": 10,
   "id": "27a4d80d",
   "metadata": {},
   "outputs": [
    {
     "data": {
      "text/plain": [
       "1"
      ]
     },
     "execution_count": 10,
     "metadata": {},
     "output_type": "execute_result"
    }
   ],
   "source": [
    "sol = Solution()\n",
    "sol.singleNumber([1,2,2])"
   ]
  },
  {
   "cell_type": "markdown",
   "id": "f426ed16",
   "metadata": {},
   "source": [
    "#### `fits time limit`"
   ]
  },
  {
   "cell_type": "code",
   "execution_count": 12,
   "id": "5ee5ef36",
   "metadata": {},
   "outputs": [],
   "source": [
    "class Solution:\n",
    "    def singleNumber(self, nums):\n",
    "        return((2*sum(set(nums))) - sum(nums))"
   ]
  },
  {
   "cell_type": "code",
   "execution_count": 13,
   "id": "178d15e6",
   "metadata": {},
   "outputs": [
    {
     "data": {
      "text/plain": [
       "1"
      ]
     },
     "execution_count": 13,
     "metadata": {},
     "output_type": "execute_result"
    }
   ],
   "source": [
    "sol = Solution()\n",
    "sol.singleNumber([1,2,2])"
   ]
  },
  {
   "cell_type": "markdown",
   "id": "f6a9d017",
   "metadata": {},
   "source": [
    "## `Sort Integers by The Number of 1 Bits`\n",
    "[Question Link](https://leetcode.com/problems/sort-integers-by-the-number-of-1-bits/)"
   ]
  },
  {
   "cell_type": "markdown",
   "id": "48d4e9da",
   "metadata": {},
   "source": [
    "#### `Showing error in compiler, I don't know why`"
   ]
  },
  {
   "cell_type": "code",
   "execution_count": 63,
   "id": "903e2367",
   "metadata": {},
   "outputs": [],
   "source": [
    "class Solution:\n",
    "    def sortByBits(self, arr):\n",
    "        diction = {}\n",
    "\n",
    "        for i in arr:\n",
    "            binary = bin(i)[2:]\n",
    "            count = binary.count('1')\n",
    "            diction[i] = count\n",
    "        return (list(dict(sorted(diction.items(), key=lambda item: item[1])).keys()))        "
   ]
  },
  {
   "cell_type": "code",
   "execution_count": 66,
   "id": "370118d5",
   "metadata": {},
   "outputs": [
    {
     "data": {
      "text/plain": [
       "[1024, 512, 256, 128, 64, 32, 16, 8, 4, 2, 1]"
      ]
     },
     "execution_count": 66,
     "metadata": {},
     "output_type": "execute_result"
    }
   ],
   "source": [
    "sol = Solution()\n",
    "sol.sortByBits([1024,512,256,128,64,32,16,8,4,2,1])"
   ]
  },
  {
   "cell_type": "markdown",
   "id": "aee55790",
   "metadata": {},
   "source": [
    "#### `running perfectly`"
   ]
  },
  {
   "cell_type": "code",
   "execution_count": 22,
   "id": "33cf57c1",
   "metadata": {},
   "outputs": [],
   "source": [
    "class Solution:\n",
    "    def sortByBits(self, arr):\n",
    "        return sorted(arr, key=lambda x: (bin(x).count('1'), x))"
   ]
  },
  {
   "cell_type": "code",
   "execution_count": 65,
   "id": "f9a138d3",
   "metadata": {},
   "outputs": [
    {
     "data": {
      "text/plain": [
       "[1024, 512, 256, 128, 64, 32, 16, 8, 4, 2, 1]"
      ]
     },
     "execution_count": 65,
     "metadata": {},
     "output_type": "execute_result"
    }
   ],
   "source": [
    "sol = Solution()\n",
    "sol.sortByBits([1024,512,256,128,64,32,16,8,4,2,1])"
   ]
  },
  {
   "cell_type": "markdown",
   "id": "0f9aea6c",
   "metadata": {},
   "source": [
    "## `Single Number III`\n",
    "[Question Link](https://leetcode.com/problems/single-number-iii/)"
   ]
  },
  {
   "cell_type": "code",
   "execution_count": 72,
   "id": "d4bcaf0b",
   "metadata": {},
   "outputs": [],
   "source": [
    "class Solution:\n",
    "    def singleNumber(self, nums):\n",
    "        \n",
    "        elements = []\n",
    "        for i in nums:\n",
    "            if nums.count(i) == 1:\n",
    "                elements.append(i)\n",
    "                if len(elements) == 2:\n",
    "                    return elements\n",
    "        return elements"
   ]
  },
  {
   "cell_type": "code",
   "execution_count": 73,
   "id": "dee44f3c",
   "metadata": {},
   "outputs": [
    {
     "name": "stdout",
     "output_type": "stream",
     "text": [
      "1 2 3 6 5 4 1 2 3 4\n"
     ]
    },
    {
     "data": {
      "text/plain": [
       "[6, 5]"
      ]
     },
     "execution_count": 73,
     "metadata": {},
     "output_type": "execute_result"
    }
   ],
   "source": [
    "sol = Solution()\n",
    "sol.singleNumber(list(map(int,input().split())))"
   ]
  },
  {
   "cell_type": "markdown",
   "id": "7923ff44",
   "metadata": {},
   "source": [
    "## `Subsets`\n",
    "[Question Link](https://leetcode.com/problems/subsets/)"
   ]
  },
  {
   "cell_type": "code",
   "execution_count": 81,
   "id": "ee9b324d",
   "metadata": {},
   "outputs": [],
   "source": [
    "class Solution:\n",
    "    def subsets(self, nums):\n",
    "        results = []\n",
    "        \n",
    "        self.helper(results, nums, [], 0)\n",
    "        \n",
    "        return results\n",
    "    \n",
    "    def helper(self, results, nums, subset, start):\n",
    "        results.append(list(subset))\n",
    "        \n",
    "        \n",
    "        for i in range(start, len(nums)):\n",
    "            num = nums[i]\n",
    "            subset.append(num)\n",
    "            self.helper(results, nums, subset, i + 1)\n",
    "            subset.pop()"
   ]
  },
  {
   "cell_type": "code",
   "execution_count": 83,
   "id": "477d5bd6",
   "metadata": {},
   "outputs": [
    {
     "data": {
      "text/plain": [
       "[[], [1], [1, 2], [1, 2, 3], [1, 3], [2], [2, 3], [3]]"
      ]
     },
     "execution_count": 83,
     "metadata": {},
     "output_type": "execute_result"
    }
   ],
   "source": [
    "sol = Solution()\n",
    "sol.subsets([1,2,3])"
   ]
  },
  {
   "cell_type": "markdown",
   "id": "f92aa918",
   "metadata": {},
   "source": [
    "## `End of Task4 ----------------------------------------`"
   ]
  }
 ],
 "metadata": {
  "kernelspec": {
   "display_name": "Python 3",
   "language": "python",
   "name": "python3"
  },
  "language_info": {
   "codemirror_mode": {
    "name": "ipython",
    "version": 3
   },
   "file_extension": ".py",
   "mimetype": "text/x-python",
   "name": "python",
   "nbconvert_exporter": "python",
   "pygments_lexer": "ipython3",
   "version": "3.8.8"
  }
 },
 "nbformat": 4,
 "nbformat_minor": 5
}
