{
 "cells": [
  {
   "cell_type": "markdown",
   "id": "6d62a75a",
   "metadata": {},
   "source": [
    "### [Reading Material => Regex](https://diveintopython3.problemsolving.io/regular-expressions.html)\n",
    "### [Questions List](https://www.hackerrank.com/domains/python?filters%5Bsubdomains%5D%5B%5D=py-regex)\n",
    "### [Regex Documentation](https://docs.python.org/3/library/re.html)\n",
    "#### [Class Notebook](http://localhost:8888/notebooks/Innomatics%20Research%20labs/Class%20Notebooks/12_Regular_Expression.ipynb)\n",
    "##### A quick summary:\n",
    "Major functions that are avaialble in re:\n",
    "* Compile - Returns a RegEx pattern object.\n",
    "* Search - Returns a match object if there is a match found.\n",
    "* findall - Returns a list of all matches.\n",
    "* sub - Replaces one or more matches within the text.\n",
    "* split - Returns a list where the text has been split at every match.\n",
    "* Braces - (), {}, []\n",
    "* Special characters - |, ?, *, +, ^, $, .\n",
    "* Character classes\n",
    "* \\d - Any numeric digit from 0 to 9.\n",
    "* \\D - Any character that is not a numeric digit (from 0 to 9).\n",
    "* \\w - Any character which is an alphabet or numeric digit or underscore (_).\n",
    "* \\W - Any character which is not an alphabet or numeric digit or underscore (_).\n",
    "* \\s - Any space or tab space or newline.\n",
    "* \\S - Any character which is not a space or tab space or newline.\n",
    "* \\b - Word boundary. This matches the beginning and end of a word.\n",
    "\n",
    "* reference  https://regex101.com/\n",
    "* reference  https://regexone.com/"
   ]
  },
  {
   "cell_type": "markdown",
   "id": "340e75c4",
   "metadata": {},
   "source": [
    "## `Detect Floating Point Number`\n",
    "[Question Link](https://www.hackerrank.com/challenges/introduction-to-regex/problem)"
   ]
  },
  {
   "cell_type": "code",
   "execution_count": 1,
   "id": "76e4af54",
   "metadata": {},
   "outputs": [
    {
     "name": "stdout",
     "output_type": "stream",
     "text": [
      "4\n",
      "4.0o0\n",
      "False\n",
      "-1.00\n",
      "True\n",
      "+4.54\n",
      "True\n",
      "fgbhrhu\n",
      "False\n"
     ]
    }
   ],
   "source": [
    "import re\n",
    "n=int(input())\n",
    "for i in range(n):\n",
    "    text=input()\n",
    "    pattern=re.compile('^[-+]?[0-9]*\\.[0-9]+$')\n",
    "    match=pattern.findall(text)\n",
    "    if match:\n",
    "        print('True')\n",
    "    else:\n",
    "        print('False')"
   ]
  },
  {
   "cell_type": "markdown",
   "id": "40e8edb2",
   "metadata": {},
   "source": [
    "## `Re.split()`\n",
    "[Question Link](https://www.hackerrank.com/challenges/re-split/problem)"
   ]
  },
  {
   "cell_type": "code",
   "execution_count": 7,
   "id": "b7daf242",
   "metadata": {},
   "outputs": [
    {
     "name": "stdout",
     "output_type": "stream",
     "text": [
      "54545,5445,6556.8998\n",
      "54545\n",
      "5445\n",
      "6556\n",
      "8998\n"
     ]
    }
   ],
   "source": [
    "import re\n",
    "string = input()\n",
    "regex_pattern = re.compile('\\W+')\n",
    "word_list = re.split(regex_pattern,string)\n",
    "for i in word_list:\n",
    "    print(i)"
   ]
  },
  {
   "cell_type": "code",
   "execution_count": 6,
   "id": "4e77fe2b",
   "metadata": {},
   "outputs": [
    {
     "name": "stdout",
     "output_type": "stream",
     "text": [
      "6558,56,662,23.56546\n",
      "6558\n",
      "56\n",
      "662\n",
      "23\n",
      "56546\n"
     ]
    }
   ],
   "source": [
    "import re\n",
    "regex_pattern = re.compile('\\W+')\n",
    "print(\"\\n\".join(re.split(regex_pattern, input())))"
   ]
  },
  {
   "cell_type": "markdown",
   "id": "ad450083",
   "metadata": {},
   "source": [
    "## `Group(), Groups() & Groupdict()`\n",
    "[Question Link](https://www.hackerrank.com/challenges/re-group-groups/problem)"
   ]
  },
  {
   "cell_type": "code",
   "execution_count": 90,
   "id": "3deba813",
   "metadata": {},
   "outputs": [
    {
     "name": "stdout",
     "output_type": "stream",
     "text": [
      "..12345678910111213141516171820212223\n",
      "1\n"
     ]
    }
   ],
   "source": [
    "import re\n",
    "m = re.search(r'([\\w])\\1+',input())\n",
    "print(m.group(1) if m else -1)"
   ]
  },
  {
   "cell_type": "markdown",
   "id": "321ba7f8",
   "metadata": {},
   "source": [
    "- match()   -------- > >> Determine if the RE matches at the beginning of the string.\n",
    "\n",
    "- search()   ---------> >> Scan through a string, looking for any location where this RE matches.\n",
    "\n",
    "- findall()   --------->>> Find all substrings where the RE matches, and returns them as a list.\n",
    "\n",
    "- finditer()   ----->>> Find all substrings where the RE matches, and returns them as an iterator."
   ]
  },
  {
   "cell_type": "markdown",
   "id": "0b023963",
   "metadata": {},
   "source": [
    "## `Re.findall() & Re.finditer() *****`\n",
    "[Question Link](https://www.hackerrank.com/challenges/re-findall-re-finditer/problem)"
   ]
  },
  {
   "cell_type": "code",
   "execution_count": 88,
   "id": "09394a67",
   "metadata": {},
   "outputs": [
    {
     "name": "stdout",
     "output_type": "stream",
     "text": [
      "rabcdeefgyYhFjkIoomnpOeorteeeeet\n",
      "ee\n",
      "Ioo\n",
      "Oeo\n",
      "eeeee\n"
     ]
    }
   ],
   "source": [
    "import re\n",
    "\n",
    "cons = 'QWRTYPSDFGHJKLZXCVBNMqwrtypsdfghjklzxcvbnm'\n",
    "vowels = 'AEIOUaeiou'\n",
    "\n",
    "string = input().strip()\n",
    "    \n",
    "m = re.findall(r\"(?<=[%s])([%s]{2,})[%s]\" % (cons, vowels, cons), string)\n",
    "    \n",
    "print(\"\\n\".join(m or ['-1']))    "
   ]
  },
  {
   "cell_type": "markdown",
   "id": "04a19169",
   "metadata": {},
   "source": [
    "## `Re.start() & Re.end() *****`\n",
    "[Question Link](https://www.hackerrank.com/challenges/re-start-re-end/problem)"
   ]
  },
  {
   "cell_type": "code",
   "execution_count": 86,
   "id": "37dcac66",
   "metadata": {},
   "outputs": [
    {
     "name": "stdout",
     "output_type": "stream",
     "text": [
      "aaadaa\n",
      "aa\n",
      "(0, 1)\n",
      "(1, 2)\n",
      "(4, 5)\n"
     ]
    }
   ],
   "source": [
    "import re\n",
    "\n",
    "string = input()\n",
    "sub = input()\n",
    "    \n",
    "matches = list(re.finditer(r'(?={})'.format(sub), string)) ## creates object\n",
    "if matches:\n",
    "    for match in matches:\n",
    "        print((match.start(), match.end() + len(sub) - 1))\n",
    "else:\n",
    "        print((-1, -1))"
   ]
  },
  {
   "cell_type": "markdown",
   "id": "a0283b0b",
   "metadata": {},
   "source": [
    "## `Regex Substitution *****`\n",
    "[Question Link](https://www.hackerrank.com/challenges/re-sub-regex-substitution/problem)"
   ]
  },
  {
   "cell_type": "code",
   "execution_count": null,
   "id": "9f7e5487",
   "metadata": {},
   "outputs": [],
   "source": []
  }
 ],
 "metadata": {
  "kernelspec": {
   "display_name": "Python 3",
   "language": "python",
   "name": "python3"
  },
  "language_info": {
   "codemirror_mode": {
    "name": "ipython",
    "version": 3
   },
   "file_extension": ".py",
   "mimetype": "text/x-python",
   "name": "python",
   "nbconvert_exporter": "python",
   "pygments_lexer": "ipython3",
   "version": "3.8.8"
  }
 },
 "nbformat": 4,
 "nbformat_minor": 5
}
