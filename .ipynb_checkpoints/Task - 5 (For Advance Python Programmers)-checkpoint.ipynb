{
 "cells": [
  {
   "cell_type": "markdown",
   "id": "bb7110f6",
   "metadata": {},
   "source": [
    "## `Subsets`\n",
    "[Question Link](https://leetcode.com/problems/subsets/)"
   ]
  },
  {
   "cell_type": "code",
   "execution_count": 20,
   "id": "56c65507",
   "metadata": {},
   "outputs": [],
   "source": [
    "class Solution:\n",
    "    def subsets(self, nums):\n",
    "        \n",
    "        output = [[]]\n",
    "        for i in nums:\n",
    "            output += [lst + [i] for lst in output]\n",
    "        return output"
   ]
  },
  {
   "cell_type": "code",
   "execution_count": 21,
   "id": "33aec5eb",
   "metadata": {},
   "outputs": [
    {
     "name": "stdout",
     "output_type": "stream",
     "text": [
      "1 2 3\n"
     ]
    },
    {
     "data": {
      "text/plain": [
       "[[], [1], [2], [1, 2], [3], [1, 3], [2, 3], [1, 2, 3]]"
      ]
     },
     "execution_count": 21,
     "metadata": {},
     "output_type": "execute_result"
    }
   ],
   "source": [
    "sol = Solution()\n",
    "sol.subsets(list(map(int,input().split())))"
   ]
  },
  {
   "cell_type": "markdown",
   "id": "10155b47",
   "metadata": {},
   "source": [
    "## `Hamming Distance`\n",
    "[Question Link](https://leetcode.com/problems/hamming-distance/)"
   ]
  },
  {
   "cell_type": "markdown",
   "id": "ba363663",
   "metadata": {},
   "source": [
    "#### `Without bit manipulation`"
   ]
  },
  {
   "cell_type": "code",
   "execution_count": 17,
   "id": "1e642879",
   "metadata": {},
   "outputs": [],
   "source": [
    "class Solution(object):\n",
    "    def hammingDistance(self, x, y):\n",
    "        b = max([x, y])\n",
    "        s = min([x, y])\n",
    "        c = 0\n",
    "        while b > 0:\n",
    "            if b % 2 != s % 2:\n",
    "                c += 1\n",
    "            b //= 2\n",
    "            s //= 2\n",
    "        return c"
   ]
  },
  {
   "cell_type": "code",
   "execution_count": 19,
   "id": "cf76939e",
   "metadata": {},
   "outputs": [
    {
     "name": "stdout",
     "output_type": "stream",
     "text": [
      "1\n",
      "4\n"
     ]
    },
    {
     "data": {
      "text/plain": [
       "2"
      ]
     },
     "execution_count": 19,
     "metadata": {},
     "output_type": "execute_result"
    }
   ],
   "source": [
    "sol = Solution()\n",
    "sol.hammingDistance(int(input()),int(input()))"
   ]
  },
  {
   "cell_type": "markdown",
   "id": "039c6d26",
   "metadata": {},
   "source": [
    "#### `With bit manipulation`"
   ]
  },
  {
   "cell_type": "code",
   "execution_count": 15,
   "id": "afa66d28",
   "metadata": {},
   "outputs": [],
   "source": [
    "class Solution:\n",
    "    def hammingDistance(self, x, y):\n",
    "        result = 0\n",
    "        while (x>0 or y>0):\n",
    "            # XOR operation\n",
    "            result += (x%2) ^ (y%2) # return 1 if they are different else 0\n",
    "            x >>= 1   # shifting last bit\n",
    "            y >>= 1   # shifting last bit\n",
    "\n",
    "        return result"
   ]
  },
  {
   "cell_type": "code",
   "execution_count": 16,
   "id": "99aa6c70",
   "metadata": {},
   "outputs": [
    {
     "name": "stdout",
     "output_type": "stream",
     "text": [
      "1\n",
      "4\n"
     ]
    },
    {
     "data": {
      "text/plain": [
       "2"
      ]
     },
     "execution_count": 16,
     "metadata": {},
     "output_type": "execute_result"
    }
   ],
   "source": [
    "sol = Solution()\n",
    "sol.hammingDistance(int(input()),int(input()))"
   ]
  },
  {
   "cell_type": "markdown",
   "id": "d00a772e",
   "metadata": {},
   "source": [
    "## `Single Number II`\n",
    "[Question Link](https://leetcode.com/problems/single-number-ii/)"
   ]
  },
  {
   "cell_type": "code",
   "execution_count": 29,
   "id": "aa7af583",
   "metadata": {},
   "outputs": [],
   "source": [
    "class Solution:\n",
    "    def singleNumber(self, nums):\n",
    "        elements = []\n",
    "        c = 1\n",
    "        for i in nums:\n",
    "            if nums.count(i) == 1:\n",
    "                c = i\n",
    "        return c"
   ]
  },
  {
   "cell_type": "code",
   "execution_count": 30,
   "id": "16c64d8a",
   "metadata": {},
   "outputs": [
    {
     "name": "stdout",
     "output_type": "stream",
     "text": [
      "0 1 0 1 0 1 0 1 99 88\n"
     ]
    },
    {
     "data": {
      "text/plain": [
       "88"
      ]
     },
     "execution_count": 30,
     "metadata": {},
     "output_type": "execute_result"
    }
   ],
   "source": [
    "sol = Solution()\n",
    "sol.singleNumber(list(map(int,input().split())))"
   ]
  },
  {
   "cell_type": "markdown",
   "id": "acfe4866",
   "metadata": {},
   "source": [
    "#### `works for more then 1 single number`"
   ]
  },
  {
   "cell_type": "code",
   "execution_count": 26,
   "id": "107de8db",
   "metadata": {},
   "outputs": [],
   "source": [
    "class Solution:\n",
    "    def singleNumber(self, nums):\n",
    "        \n",
    "        elements = []\n",
    "        for i in nums:\n",
    "            if nums.count(i) == 1:\n",
    "                elements.append(i)\n",
    "                if len(elements) == 3:\n",
    "                    return elements\n",
    "        return elements"
   ]
  },
  {
   "cell_type": "code",
   "execution_count": 27,
   "id": "60976165",
   "metadata": {},
   "outputs": [
    {
     "name": "stdout",
     "output_type": "stream",
     "text": [
      "0 1 0 1 0 1 0 1 99 88\n"
     ]
    },
    {
     "data": {
      "text/plain": [
       "[99, 88]"
      ]
     },
     "execution_count": 27,
     "metadata": {},
     "output_type": "execute_result"
    }
   ],
   "source": [
    "sol = Solution()\n",
    "sol.singleNumber(list(map(int,input().split())))"
   ]
  },
  {
   "cell_type": "markdown",
   "id": "66c36e81",
   "metadata": {},
   "source": [
    "## `END of task 5 -------------------------------`"
   ]
  }
 ],
 "metadata": {
  "kernelspec": {
   "display_name": "Python 3",
   "language": "python",
   "name": "python3"
  },
  "language_info": {
   "codemirror_mode": {
    "name": "ipython",
    "version": 3
   },
   "file_extension": ".py",
   "mimetype": "text/x-python",
   "name": "python",
   "nbconvert_exporter": "python",
   "pygments_lexer": "ipython3",
   "version": "3.8.8"
  }
 },
 "nbformat": 4,
 "nbformat_minor": 5
}
