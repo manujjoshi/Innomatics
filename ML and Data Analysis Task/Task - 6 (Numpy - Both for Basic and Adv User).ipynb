{
 "cells": [
  {
   "cell_type": "markdown",
   "id": "e41bcf89",
   "metadata": {},
   "source": [
    "### [Reading Material Github Link]( https://github.com/bansalkanav/Machine_Learning_and_Deep_Learning/blob/master/Module%202%20-%20Python%20for%20Data%20Science/1.%20Numpy/numpy.ipynb)"
   ]
  },
  {
   "cell_type": "markdown",
   "id": "88433513",
   "metadata": {},
   "source": [
    "## `Arrays`\n",
    "[Question Link](https://www.hackerrank.com/challenges/np-arrays/problem)"
   ]
  },
  {
   "cell_type": "code",
   "execution_count": 13,
   "id": "6a3324a3",
   "metadata": {},
   "outputs": [
    {
     "name": "stdout",
     "output_type": "stream",
     "text": [
      "2 3 6 5 8 9\n",
      "[9. 8. 5. 6. 3. 2.]\n"
     ]
    }
   ],
   "source": [
    "import numpy\n",
    "\n",
    "def arrays(arr):\n",
    "    arr = [float(i) for i in arr]\n",
    "    arr.reverse()\n",
    "    return (numpy.array(arr))\n",
    "\n",
    "arr = input().strip().split(' ')\n",
    "result = arrays(arr)\n",
    "print(result)"
   ]
  },
  {
   "cell_type": "markdown",
   "id": "f8c2374b",
   "metadata": {},
   "source": [
    "## `Shape and Reshape`\n",
    "[Question Link](https://www.hackerrank.com/challenges/np-shape-reshape/problem)"
   ]
  },
  {
   "cell_type": "code",
   "execution_count": 14,
   "id": "b96ea154",
   "metadata": {},
   "outputs": [
    {
     "name": "stdout",
     "output_type": "stream",
     "text": [
      "2 3 6 5 2 4 7 8 9\n",
      "[[2 3 6]\n",
      " [5 2 4]\n",
      " [7 8 9]]\n"
     ]
    }
   ],
   "source": [
    "import numpy\n",
    "nums = list(map(int,input().split()))\n",
    "numpy.array(nums)\n",
    "print(numpy.reshape(nums,(3,3)))"
   ]
  },
  {
   "cell_type": "markdown",
   "id": "2444d55d",
   "metadata": {},
   "source": [
    "## `Transpose and Flatten`\n",
    "[Question Link](https://www.hackerrank.com/challenges/np-transpose-and-flatten/problem)"
   ]
  },
  {
   "cell_type": "code",
   "execution_count": 28,
   "id": "10b99a4c",
   "metadata": {},
   "outputs": [
    {
     "name": "stdout",
     "output_type": "stream",
     "text": [
      "2 2\n",
      "1 2\n",
      "3 8\n",
      "[[1 3]\n",
      " [2 8]]\n",
      "[1 2 3 8]\n"
     ]
    }
   ],
   "source": [
    "import numpy\n",
    "lst = []\n",
    "N,M = list(map(int,input().split()))\n",
    "for i in range(N):\n",
    "    lst.append(list(map(int,input().split())))\n",
    "lst = numpy.array(lst)\n",
    "print(numpy.transpose(lst))\n",
    "print(lst.flatten())"
   ]
  },
  {
   "cell_type": "markdown",
   "id": "71cd1b44",
   "metadata": {},
   "source": [
    "## `Concatenate`\n",
    "[Question Link](https://www.hackerrank.com/challenges/np-concatenate/problem)"
   ]
  },
  {
   "cell_type": "code",
   "execution_count": null,
   "id": "44dbbd37",
   "metadata": {},
   "outputs": [],
   "source": [
    "import numpy\n",
    "np = []\n",
    "mp = []\n",
    "N,M,P =list(map(int,input().split()))\n",
    "for i in range(N):\n",
    "    np.append(list(map(int,input().split())))\n",
    "\n",
    "for i in range(M):\n",
    "    mp.append(list(map(int,input().split())))\n",
    "\n",
    "print(numpy.concatenate((np,mp)))"
   ]
  },
  {
   "cell_type": "markdown",
   "id": "3be4ca69",
   "metadata": {},
   "source": [
    "## `Zeros and Ones`\n",
    "[Question Link](https://www.hackerrank.com/challenges/np-zeros-and-ones/problem)"
   ]
  },
  {
   "cell_type": "code",
   "execution_count": 30,
   "id": "ac1c6a19",
   "metadata": {},
   "outputs": [
    {
     "name": "stdout",
     "output_type": "stream",
     "text": [
      "3 3 3\n",
      "[[[0 0 0]\n",
      "  [0 0 0]\n",
      "  [0 0 0]]\n",
      "\n",
      " [[0 0 0]\n",
      "  [0 0 0]\n",
      "  [0 0 0]]\n",
      "\n",
      " [[0 0 0]\n",
      "  [0 0 0]\n",
      "  [0 0 0]]]\n",
      "[[[1 1 1]\n",
      "  [1 1 1]\n",
      "  [1 1 1]]\n",
      "\n",
      " [[1 1 1]\n",
      "  [1 1 1]\n",
      "  [1 1 1]]\n",
      "\n",
      " [[1 1 1]\n",
      "  [1 1 1]\n",
      "  [1 1 1]]]\n"
     ]
    }
   ],
   "source": [
    "import warnings\n",
    "warnings.filterwarnings('ignore')\n",
    "import numpy\n",
    "\n",
    "tup = tuple(map(int,input().split()))\n",
    "print(numpy.zeros(tup,dtype=numpy.int))\n",
    "print(numpy.ones(tup,dtype=numpy.int))"
   ]
  },
  {
   "cell_type": "markdown",
   "id": "631db594",
   "metadata": {},
   "source": [
    "## `Eye and Identity`\n",
    "[Question Link](https://www.hackerrank.com/challenges/np-eye-and-identity/problem)"
   ]
  },
  {
   "cell_type": "code",
   "execution_count": 31,
   "id": "eda83843",
   "metadata": {},
   "outputs": [
    {
     "name": "stdout",
     "output_type": "stream",
     "text": [
      "4 5\n",
      "[[ 1.  0.  0.  0.  0.]\n",
      " [ 0.  1.  0.  0.  0.]\n",
      " [ 0.  0.  1.  0.  0.]\n",
      " [ 0.  0.  0.  1.  0.]]\n"
     ]
    }
   ],
   "source": [
    "import numpy\n",
    "numpy.set_printoptions(legacy='1.13')   # In order to get alignment correct,\n",
    "N,M = list(map(int,input().split()))\n",
    "print(numpy.eye(N,M,0))"
   ]
  },
  {
   "cell_type": "markdown",
   "id": "0e798f2d",
   "metadata": {},
   "source": [
    "## `Array Mathematics`\n",
    "[Question Link](https://www.hackerrank.com/challenges/np-array-mathematics/problem)"
   ]
  },
  {
   "cell_type": "code",
   "execution_count": 37,
   "id": "a62c3697",
   "metadata": {},
   "outputs": [
    {
     "name": "stdout",
     "output_type": "stream",
     "text": [
      "1 4\n",
      "1 2 3 4\n",
      "5 6 7 8\n",
      "[ 6  8 10 12]\n",
      "[-4 -4 -4 -4]\n",
      "[ 5 12 21 32]\n",
      "[0 0 0 0]\n",
      "[1 2 3 4]\n",
      "[    1    64  2187 65536]\n"
     ]
    }
   ],
   "source": [
    "import numpy\n",
    "\n",
    "N,M = list(map(int,input().split()))    # N x M\n",
    "A = numpy.array([int(i) for i in input().split()])\n",
    "B = numpy.array([int(i) for i in input().split()])\n",
    "print(A+B)\n",
    "print(A-B)\n",
    "print(A*B)\n",
    "print((A/B).astype(numpy.int))\n",
    "print(A%B)\n",
    "print(A**B)"
   ]
  },
  {
   "cell_type": "code",
   "execution_count": 38,
   "id": "b7980f34",
   "metadata": {},
   "outputs": [
    {
     "name": "stdout",
     "output_type": "stream",
     "text": [
      "1 4\n",
      "1 2 3 4\n",
      "5 6 7 8\n",
      "[[ 6  8 10 12]]\n",
      "[[-4 -4 -4 -4]]\n",
      "[[ 5 12 21 32]]\n",
      "[[0 0 0 0]]\n",
      "[[1 2 3 4]]\n",
      "[[    1    64  2187 65536]]\n"
     ]
    }
   ],
   "source": [
    "import numpy as np\n",
    "dim=list(map(int,input().split()))\n",
    "lst1=[]\n",
    "lst2=[]\n",
    "for i in range(dim[0]):\n",
    "    lst1.append(list(map(int,input().split())))\n",
    "for i in range(dim[0]):\n",
    "    lst2.append(list(map(int,input().split())))\n",
    "A=np.array(lst1,dtype=int)\n",
    "B=np.array(lst2,dtype=int)\n",
    "print(A+B)\n",
    "print(A-B)\n",
    "print(A*B)\n",
    "print((A/B).astype(np.int))\n",
    "print(A%B)\n",
    "print(A**B)"
   ]
  },
  {
   "cell_type": "markdown",
   "id": "e4b677f2",
   "metadata": {},
   "source": [
    "## `Floor, Ceil and Rint`\n",
    "[Question Link](https://www.hackerrank.com/challenges/floor-ceil-and-rint/problem)"
   ]
  },
  {
   "cell_type": "code",
   "execution_count": 40,
   "id": "4b7cb4ed",
   "metadata": {},
   "outputs": [
    {
     "name": "stdout",
     "output_type": "stream",
     "text": [
      "1.1 2.2 3.3 4.4 5.5 6.6 7.7 8.8 9.9\n",
      "[ 1.  2.  3.  4.  5.  6.  7.  8.  9.]\n",
      "[  2.   3.   4.   5.   6.   7.   8.   9.  10.]\n",
      "[  1.   2.   3.   4.   6.   7.   8.   9.  10.]\n"
     ]
    }
   ],
   "source": [
    "import numpy\n",
    "numpy.set_printoptions(legacy='1.13')\n",
    "A = numpy.array(list(map(float,input().split())))\n",
    "print(numpy.floor(A))\n",
    "print(numpy.ceil(A))\n",
    "print(numpy.rint(A))"
   ]
  },
  {
   "cell_type": "markdown",
   "id": "0ce66f36",
   "metadata": {},
   "source": [
    "## `Sum and Prod`\n",
    "[Question Link](https://www.hackerrank.com/challenges/np-sum-and-prod/problem)"
   ]
  },
  {
   "cell_type": "code",
   "execution_count": 45,
   "id": "640bf865",
   "metadata": {},
   "outputs": [
    {
     "name": "stdout",
     "output_type": "stream",
     "text": [
      "2 2 \n",
      "1 2 3 4\n",
      "4 5 6 7\n",
      "3465\n"
     ]
    }
   ],
   "source": [
    "import numpy\n",
    "mat = []\n",
    "N,M = list(map(int,input().split()))\n",
    "for i in range(N):\n",
    "    mat.append(list(map(int,input().split())))\n",
    "mat = numpy.array(mat)\n",
    "print(numpy.prod(numpy.sum(mat,axis=0)))"
   ]
  },
  {
   "cell_type": "markdown",
   "id": "d056a339",
   "metadata": {},
   "source": [
    "## `Min and Max`\n",
    "[Question Link](https://www.hackerrank.com/challenges/np-min-and-max/problem)"
   ]
  },
  {
   "cell_type": "code",
   "execution_count": 47,
   "id": "b6137047",
   "metadata": {},
   "outputs": [
    {
     "name": "stdout",
     "output_type": "stream",
     "text": [
      "4 2\n",
      "2 5\n",
      "3 7\n",
      "1 3\n",
      "4 0\n",
      "3\n"
     ]
    }
   ],
   "source": [
    "import numpy\n",
    "arr = []\n",
    "N,M = list(map(int,input().split()))\n",
    "for i in range(N):\n",
    "    arr.append(list(map(int,input().split())))\n",
    "arr = numpy.array(arr)\n",
    "print(numpy.max(numpy.min(arr,axis=1)))"
   ]
  },
  {
   "cell_type": "markdown",
   "id": "d3949f0f",
   "metadata": {},
   "source": [
    "## `Mean, Var, and Std`\n",
    "[Question Link](https://www.hackerrank.com/challenges/np-mean-var-and-std/problem)"
   ]
  },
  {
   "cell_type": "code",
   "execution_count": 48,
   "id": "461d68c8",
   "metadata": {},
   "outputs": [
    {
     "name": "stdout",
     "output_type": "stream",
     "text": [
      "2 2\n",
      "1 2\n",
      "3 4\n",
      "[ 1.5  3.5]\n",
      "[ 1.  1.]\n",
      "1.11803398875\n"
     ]
    }
   ],
   "source": [
    "import numpy\n",
    "arr = []\n",
    "N,M = list(map(int,input().split()))\n",
    "for i in range(N):\n",
    "    arr.append(list(map(int,input().split())))\n",
    "arr = numpy.array(arr)\n",
    "print(numpy.mean(arr,axis=1))\n",
    "print(numpy.var(arr,axis=0))\n",
    "print(numpy.round(numpy.std(arr,axis=None),11))"
   ]
  },
  {
   "cell_type": "markdown",
   "id": "165e7a22",
   "metadata": {},
   "source": [
    "## `Dot and Cross *****`\n",
    "[Question Link](https://www.hackerrank.com/challenges/np-dot-and-cross/problem)\n",
    "- Matrix multiplication of A and B means dot product of A and B"
   ]
  },
  {
   "cell_type": "code",
   "execution_count": 4,
   "id": "1bbfb6a6",
   "metadata": {},
   "outputs": [
    {
     "name": "stdout",
     "output_type": "stream",
     "text": [
      "2\n",
      "1 2\n",
      "3 4\n",
      "1 2\n",
      "3 4\n",
      "[[ 7 10]\n",
      " [15 22]]\n"
     ]
    }
   ],
   "source": [
    "import numpy as np\n",
    "n=int(input())\n",
    "lst1=[]\n",
    "lst2=[]\n",
    "for i in range(n):\n",
    "        lst1.append(list(map(int,input().split())))\n",
    "for i in range(n):\n",
    "        lst2.append(list(map(int,input().split())))\n",
    "A=np.array(lst1)\n",
    "B=np.array(lst2)\n",
    "print(np.dot(A,B))"
   ]
  },
  {
   "cell_type": "markdown",
   "id": "d0e69577",
   "metadata": {},
   "source": [
    "## `Inner and Outer *****`\n",
    "[Question Link](https://www.hackerrank.com/challenges/np-inner-and-outer/problem)"
   ]
  },
  {
   "cell_type": "code",
   "execution_count": 8,
   "id": "d7155599",
   "metadata": {},
   "outputs": [
    {
     "name": "stdout",
     "output_type": "stream",
     "text": [
      "1 2 3\n",
      "4 5 6\n",
      "32\n",
      "[[ 4  5  6]\n",
      " [ 8 10 12]\n",
      " [12 15 18]]\n",
      "32\n",
      "[-3  6 -3]\n"
     ]
    }
   ],
   "source": [
    "import numpy\n",
    "A = numpy.array(list(map(int,input().split())))\n",
    "B = numpy.array(list(map(int,input().split())))\n",
    "print(numpy.inner(A,B))\n",
    "print(numpy.outer(A,B))\n",
    "\n",
    "print(numpy.dot(A,B))\n",
    "print(numpy.cross(A,B))\n",
    "## inner product and dot product are same in some cases"
   ]
  },
  {
   "cell_type": "markdown",
   "id": "15a43666",
   "metadata": {},
   "source": [
    "## `Linear Algebra *****`\n",
    "- The NumPy module also comes with a number of built-in routines for linear algebra calculations. These can be found in the sub-module linalg.\n",
    "- [Question Link](https://www.hackerrank.com/challenges/np-linear-algebra/problem)"
   ]
  },
  {
   "cell_type": "code",
   "execution_count": 17,
   "id": "79357078",
   "metadata": {},
   "outputs": [
    {
     "name": "stdout",
     "output_type": "stream",
     "text": [
      "2\n",
      "1.1 1.1\n",
      "1.1 1.1\n",
      "0.0\n"
     ]
    }
   ],
   "source": [
    "import numpy\n",
    "arr = []\n",
    "n = int(input())\n",
    "for i in range(n):\n",
    "    arr.append(list(map(float,input().split())))\n",
    "print(numpy.round_(numpy.linalg.det(numpy.array(arr)),2))"
   ]
  },
  {
   "cell_type": "markdown",
   "id": "c31de2ec",
   "metadata": {},
   "source": [
    "## `Polynomials *****`\n",
    "[Question Link](https://www.hackerrank.com/challenges/np-polynomials/problem)"
   ]
  },
  {
   "cell_type": "code",
   "execution_count": 16,
   "id": "1caae3f0",
   "metadata": {},
   "outputs": [
    {
     "name": "stdout",
     "output_type": "stream",
     "text": [
      "1.1 2 3\n",
      "0\n",
      "3.0\n"
     ]
    }
   ],
   "source": [
    "import numpy\n",
    "coeff = numpy.array(list(map(float,input().split())))\n",
    "x = float(input())\n",
    "print(numpy.polyval(coeff, x))"
   ]
  },
  {
   "cell_type": "markdown",
   "id": "f13911ec",
   "metadata": {},
   "source": [
    "## `End of Task6 -------------------------------`"
   ]
  }
 ],
 "metadata": {
  "kernelspec": {
   "display_name": "Python 3",
   "language": "python",
   "name": "python3"
  },
  "language_info": {
   "codemirror_mode": {
    "name": "ipython",
    "version": 3
   },
   "file_extension": ".py",
   "mimetype": "text/x-python",
   "name": "python",
   "nbconvert_exporter": "python",
   "pygments_lexer": "ipython3",
   "version": "3.8.8"
  }
 },
 "nbformat": 4,
 "nbformat_minor": 5
}
