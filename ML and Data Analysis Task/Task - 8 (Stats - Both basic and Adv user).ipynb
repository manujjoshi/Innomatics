{
 "cells": [
  {
   "cell_type": "markdown",
   "id": "ce99da04",
   "metadata": {},
   "source": [
    "### [Statistics Tasks List](https://docs.google.com/document/d/1GU7LgovVpmY758x5WwThywlInohbgYTC8lTo0k0VWt4/edit)"
   ]
  },
  {
   "cell_type": "markdown",
   "id": "912d2c49",
   "metadata": {},
   "source": [
    "## `Day 4: Binomial Distribution I`\n",
    "- [Question Link](https://www.hackerrank.com/challenges/s10-binomial-distribution-1/problem)\n",
    "- [Reading Material](https://www.hackerrank.com/challenges/s10-binomial-distribution-1/tutorial)\n",
    "![](https://d138zd1ktt9iqe.cloudfront.net/media/seo_landing_files/binomial-distribution-01-1621924404.png)"
   ]
  },
  {
   "cell_type": "code",
   "execution_count": 7,
   "id": "ed74abbe",
   "metadata": {},
   "outputs": [
    {
     "name": "stdout",
     "output_type": "stream",
     "text": [
      "0.696\n"
     ]
    }
   ],
   "source": [
    "def fact(n):   # function for fctorial\n",
    "    return 1 if n == 0 else n*fact(n-1)   # recursion\n",
    "\n",
    "#################################################\n",
    "\n",
    "def comb(n, x):   # function for combination\n",
    "    return fact(n) / (fact(x) * fact(n-x))\n",
    "\n",
    "#################################################\n",
    "\n",
    "def b(x, n, p):    # function for binomial distribution\n",
    "    return comb(n, x) * p**x * (1-p)**(n-x)\n",
    "\n",
    "################################################\n",
    "\n",
    "# atleast 3 boys\n",
    "# cumulative probability\n",
    "\n",
    "bino=0\n",
    "for i in range(3,7):\n",
    "    bino+=b(i,6,(1.09/2.09))\n",
    "print(round(bino,3))"
   ]
  },
  {
   "cell_type": "markdown",
   "id": "da7f18b8",
   "metadata": {},
   "source": [
    "## `Day 4: Binomial Distribution II`\n",
    "[Question Link](https://www.hackerrank.com/challenges/s10-binomial-distribution-2/problem)"
   ]
  },
  {
   "cell_type": "code",
   "execution_count": 8,
   "id": "f7698860",
   "metadata": {},
   "outputs": [
    {
     "name": "stdout",
     "output_type": "stream",
     "text": [
      "0.891\n",
      "0.342\n"
     ]
    }
   ],
   "source": [
    "def fact(n):   # function for fctorial\n",
    "    return 1 if n == 0 else n*fact(n-1)\n",
    "\n",
    "########################################################\n",
    "\n",
    "def comb(n, x):   # function for combination\n",
    "    return fact(n) / (fact(x) * fact(n-x))\n",
    "\n",
    "#######################################################\n",
    "\n",
    "def b(x, n, p):    # function for binomial distribution\n",
    "    return comb(n, x) * p**x * (1-p)**(n-x)\n",
    "\n",
    "######################################################\n",
    "\n",
    "bino=0     # no more than 2 rejects\n",
    "for i in range(3):\n",
    "    bino+=b(i,10,.12)\n",
    "print(round(bino,3))\n",
    "\n",
    "#####################################################\n",
    "\n",
    "bino=0      # atleast 2 rejects\n",
    "for i in range(2,11):\n",
    "    bino+=b(i,10,.12)\n",
    "print(round(bino,3))"
   ]
  },
  {
   "cell_type": "markdown",
   "id": "f75d4f75",
   "metadata": {},
   "source": [
    "## `Day 5: Normal Distribution I`\n",
    "- [Question Link](https://www.hackerrank.com/challenges/s10-normal-distribution-1/problem)\n",
    "- [Reading Material](https://www.hackerrank.com/challenges/s10-normal-distribution-1/tutorial)"
   ]
  },
  {
   "cell_type": "code",
   "execution_count": 3,
   "id": "0b983a37",
   "metadata": {},
   "outputs": [
    {
     "name": "stdout",
     "output_type": "stream",
     "text": [
      "0.401\n",
      "0.341\n"
     ]
    }
   ],
   "source": [
    "import math\n",
    "mean, std = 20, 2\n",
    "cdf = lambda x: 0.5 * (1 + math.erf((x - mean) / (std * (2 ** 0.5)))) # cumulative distribution function\n",
    "\n",
    "# Less than 19.5\n",
    "print('{:.3f}'.format(cdf(19.5)))\n",
    "# Between 20 and 22\n",
    "print('{:.3f}'.format(cdf(22) - cdf(20)))"
   ]
  },
  {
   "cell_type": "markdown",
   "id": "443fafcf",
   "metadata": {},
   "source": [
    "## `Day 5: Normal Distribution II`\n",
    "[Question Link](https://www.hackerrank.com/challenges/s10-normal-distribution-2/problem)"
   ]
  },
  {
   "cell_type": "code",
   "execution_count": 18,
   "id": "dba090cc",
   "metadata": {},
   "outputs": [
    {
     "name": "stdout",
     "output_type": "stream",
     "text": [
      "15.87\n",
      "84.13\n",
      "15.87\n"
     ]
    }
   ],
   "source": [
    "import math\n",
    "mean, std = 70, 10\n",
    "cdf = lambda x: 0.5 * (1 + math.erf((x - mean) / (std * (2 ** 0.5)))) # cumulative distribution function\n",
    "\n",
    "#higher then 80\n",
    "print(round((1-cdf(80))*100,2))   # Scored higher than (>80)\n",
    "#passed the test\n",
    "print(round((1-cdf(60))*100,2))  # passed the test (>= 60)\n",
    "#failed the test\n",
    "print(round((cdf(60))*100,2)) # failed the test (<60)"
   ]
  },
  {
   "cell_type": "markdown",
   "id": "00809c90",
   "metadata": {},
   "source": [
    "## `Day 6: The Central Limit Theorem I *****`\n",
    "- [Question link](https://www.hackerrank.com/challenges/s10-the-central-limit-theorem-1/problem)\n",
    "- [Reeading Material](https://www.hackerrank.com/challenges/s10-the-central-limit-theorem-1/tutorial)"
   ]
  },
  {
   "cell_type": "code",
   "execution_count": 19,
   "id": "fe918533",
   "metadata": {},
   "outputs": [
    {
     "name": "stdout",
     "output_type": "stream",
     "text": [
      "9800\n",
      "49\n",
      "205\n",
      "15\n",
      "0.0098\n"
     ]
    }
   ],
   "source": [
    "import math\n",
    "\n",
    "x = int(input())\n",
    "n = int(input())\n",
    "mu = int(input())\n",
    "sigma = int(input())\n",
    "\n",
    "mu_sum = n * mu                    # CLT\n",
    "sigma_sum = math.sqrt(n) * sigma   # CLT\n",
    "\n",
    "###############################################\n",
    "\n",
    "def cdf(x, mu, sigma):\n",
    "    Z = (x - mu)/sigma\n",
    "    return 0.5*(1 + math.erf(Z/(math.sqrt(2))))\n",
    "\n",
    "print(round(cdf(x, mu_sum, sigma_sum), 4))"
   ]
  },
  {
   "cell_type": "markdown",
   "id": "5a2a93aa",
   "metadata": {},
   "source": [
    "## `Day 6: The Central Limit Theorem II *****`\n",
    "[Question link](https://www.hackerrank.com/challenges/s10-the-central-limit-theorem-2/problem)"
   ]
  },
  {
   "cell_type": "code",
   "execution_count": 21,
   "id": "5f172dca",
   "metadata": {},
   "outputs": [
    {
     "name": "stdout",
     "output_type": "stream",
     "text": [
      "250\n",
      "100\n",
      "2.4\n",
      "2.0\n",
      "0.6915\n"
     ]
    }
   ],
   "source": [
    "import math\n",
    "\n",
    "x = 250\n",
    "n = 100\n",
    "mu = 2.4\n",
    "sigma = 2.0\n",
    "\n",
    "mu_sum = n * mu                    # CLT\n",
    "sigma_sum = math.sqrt(n) * sigma   # CLT\n",
    "\n",
    "###############################################\n",
    "\n",
    "def cdf(x, mu, sigma):\n",
    "    Z = (x - mu)/sigma\n",
    "    return 0.5*(1 + math.erf(Z/(math.sqrt(2))))\n",
    "\n",
    "print(round(cdf(x, mu_sum, sigma_sum), 4))"
   ]
  },
  {
   "cell_type": "markdown",
   "id": "7207cce0",
   "metadata": {},
   "source": [
    "## `Day 6: The Central Limit Theorem III *****`\n",
    "[Question Link](hackerrank.com/challenges/s10-the-central-limit-theorem-3/problem)"
   ]
  },
  {
   "cell_type": "code",
   "execution_count": 22,
   "id": "6b8d9f74",
   "metadata": {},
   "outputs": [
    {
     "name": "stdout",
     "output_type": "stream",
     "text": [
      "484.32\n",
      "515.68\n"
     ]
    }
   ],
   "source": [
    "# true population distribution\n",
    "mu, sigma = 500, 80\n",
    "\n",
    "# sample mean distribution\n",
    "muS, sigmaS = mu, sigma/(100**0.5)\n",
    "\n",
    "# confidence intervals of sample mean dist\n",
    "A = mu - (1.96*sigmaS)\n",
    "B = mu + (1.96*sigmaS)\n",
    "\n",
    "print(round(A,2))\n",
    "print(round(B,2))"
   ]
  },
  {
   "cell_type": "markdown",
   "id": "6239d9a3",
   "metadata": {},
   "source": [
    "## `Day 7: Pearson Correlation Coefficient I *****`\n",
    "- [Question Link](https://www.hackerrank.com/challenges/s10-pearson-correlation-coefficient/problem)\n",
    "- [Reading Maerial](https://www.hackerrank.com/challenges/s10-pearson-correlation-coefficient/tutorial)"
   ]
  },
  {
   "cell_type": "code",
   "execution_count": 23,
   "id": "1c130ccc",
   "metadata": {},
   "outputs": [
    {
     "name": "stdout",
     "output_type": "stream",
     "text": [
      "10\n",
      "1 2 3 4 5 6 7 8 9 1 \n",
      "1 2 3 4 5  6 7 8 9 1\n",
      "0.134\n"
     ]
    }
   ],
   "source": [
    "n = int(input())\n",
    "X = list(map(float,input().split()))\n",
    "Y = list(map(float,input().split()))\n",
    "mu_x = sum(X)/n\n",
    "std_x = (sum([(i - mu_x)**2 for i in X]) / n)**0.5\n",
    "mu_y = sum(Y)/n\n",
    "std_y = (sum([(i - mu_y)**2 for i in Y]) / n)**0.5\n",
    "sums = 0\n",
    "for i in range(n):\n",
    "    sums += ((X[i]-mu_x)*(Y[i]-mu_y))\n",
    "corr_coef = sums / (n*std_x*std_y)\n",
    "print(round(corr_coef,3))"
   ]
  },
  {
   "cell_type": "markdown",
   "id": "f48296d3",
   "metadata": {},
   "source": [
    "## `Day 8: Least Square Regression Line *****`\n",
    "- [Question Link](https://www.hackerrank.com/challenges/s10-least-square-regression-line/problem)\n",
    "- [Reading Material](https://www.hackerrank.com/challenges/s10-least-square-regression-line/tutorial)"
   ]
  },
  {
   "cell_type": "code",
   "execution_count": 48,
   "id": "57e61e81",
   "metadata": {},
   "outputs": [
    {
     "name": "stdout",
     "output_type": "stream",
     "text": [
      "95 85\n",
      "85 95\n",
      "80 70\n",
      "70 65\n",
      "60 70\n",
      "[95, 85, 80, 70, 60]\n",
      "[85, 95, 70, 65, 70]\n",
      "78.288\n"
     ]
    }
   ],
   "source": [
    "from sklearn import linear_model\n",
    "import numpy as np\n",
    "X = []\n",
    "Y = []\n",
    "for i in range(5):\n",
    "    x,y = list(map(int,input().split()))\n",
    "    X.append(x)\n",
    "    Y.append(y)\n",
    "print(X)\n",
    "print(Y)\n",
    "X = np.array(X).reshape(-1,1)\n",
    "lm = linear_model.LinearRegression()\n",
    "lm.fit(X, Y)\n",
    "print(np.round_(lm.intercept_+80*lm.coef_,3)[0])"
   ]
  },
  {
   "cell_type": "markdown",
   "id": "215ff922",
   "metadata": {},
   "source": [
    "## `Day 9: Multiple Linear Regression *****`\n",
    "[Question Link](https://www.hackerrank.com/challenges/s10-multiple-linear-regression/tutorial)"
   ]
  },
  {
   "cell_type": "code",
   "execution_count": 49,
   "id": "292e4e7b",
   "metadata": {},
   "outputs": [
    {
     "name": "stdout",
     "output_type": "stream",
     "text": [
      "2 7\n",
      "0.18 0.89 109.85\n",
      "1.0 0.26 155.72\n",
      "1.0 0.26 155.72\n",
      "1.0 0.26 155.72\n",
      "1.0 0.26 155.72\n",
      "1.0 0.26 155.72\n",
      "1.0 0.26 155.72\n",
      "4\n",
      "0.49 0.18\n",
      "139.94240157112128\n",
      "0.49 0.18\n",
      "139.94240157112128\n",
      "0.49 0.18\n",
      "139.94240157112128\n",
      "0.49 0.18\n",
      "139.94240157112128\n"
     ]
    }
   ],
   "source": [
    "import numpy as np\n",
    "from sklearn.linear_model import LinearRegression\n",
    "\n",
    "\n",
    "m, n = map(int, input().split())\n",
    "xy = [list(map(float, input().split())) for _ in range(n)]\n",
    "y = np.array([i.pop() for i in xy])\n",
    "X = np.array(xy)\n",
    "\n",
    "lm = LinearRegression()\n",
    "lm.fit(X, y)\n",
    "\n",
    "\n",
    "q = int(input())\n",
    "for _ in range(q):\n",
    "    print(float(lm.predict([np.array(input().split(), float)])))"
   ]
  },
  {
   "cell_type": "markdown",
   "id": "a48c2085",
   "metadata": {},
   "source": [
    "## `End of task8 -------------------------`"
   ]
  }
 ],
 "metadata": {
  "kernelspec": {
   "display_name": "Python 3",
   "language": "python",
   "name": "python3"
  },
  "language_info": {
   "codemirror_mode": {
    "name": "ipython",
    "version": 3
   },
   "file_extension": ".py",
   "mimetype": "text/x-python",
   "name": "python",
   "nbconvert_exporter": "python",
   "pygments_lexer": "ipython3",
   "version": "3.8.8"
  }
 },
 "nbformat": 4,
 "nbformat_minor": 5
}
